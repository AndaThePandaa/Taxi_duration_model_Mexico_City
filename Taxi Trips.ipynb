{
 "cells": [
  {
   "cell_type": "code",
   "execution_count": 1,
   "id": "7f1195a1",
   "metadata": {},
   "outputs": [],
   "source": [
    "import pandas as pd\n",
    "import plotly.express as px\n",
    "import plotly.graph_objects as go\n",
    "import random\n",
    "import numpy as np\n",
    "from scipy import stats\n",
    "import statsmodels.api as sm\n",
    "import seaborn as sns\n",
    "import statsmodels.formula.api as smf\n",
    "from statsmodels.genmod import families\n",
    "from statsmodels.genmod.families import links\n",
    "import matplotlib.pyplot as plt\n",
    "from sklearn.model_selection import train_test_split\n",
    "from sklearn.preprocessing import StandardScaler, OneHotEncoder\n",
    "from sklearn.compose import ColumnTransformer\n",
    "from sklearn.pipeline import Pipeline\n",
    "from sklearn.linear_model import Ridge, Lasso\n",
    "from sklearn.ensemble import RandomForestRegressor\n",
    "from sklearn.metrics import r2_score, mean_absolute_error, mean_squared_error\n",
    "import xgboost as xgb\n",
    "import tensorflow as tf\n",
    "from tensorflow import keras\n",
    "from matplotlib.colors import LinearSegmentedColormap\n",
    "import os"
   ]
  },
  {
   "cell_type": "code",
   "execution_count": 2,
   "id": "df516616",
   "metadata": {},
   "outputs": [],
   "source": [
    "current_directory = os.getcwd()"
   ]
  },
  {
   "cell_type": "code",
   "execution_count": 3,
   "id": "3aaea480",
   "metadata": {},
   "outputs": [],
   "source": [
    "taxi_data=pd.read_csv(os.path.join(current_directory, 'mex_clean.csv'))\n"
   ]
  },
  {
   "cell_type": "markdown",
   "id": "3fe63bfd",
   "metadata": {},
   "source": [
    "First it is a good idea to explore the data"
   ]
  },
  {
   "cell_type": "markdown",
   "id": "94ce60a6",
   "metadata": {},
   "source": [
    "The kaggle page says that store_and_fwd_flag only has one value so its not helpfull"
   ]
  },
  {
   "cell_type": "code",
   "execution_count": 4,
   "id": "80290660",
   "metadata": {},
   "outputs": [],
   "source": [
    "del taxi_data['store_and_fwd_flag'] #Removing this column since it only has one value"
   ]
  },
  {
   "cell_type": "markdown",
   "id": "5debfb73",
   "metadata": {},
   "source": [
    "## Exploratory Analysis and data cleaning"
   ]
  },
  {
   "cell_type": "code",
   "execution_count": 5,
   "id": "5755470d",
   "metadata": {},
   "outputs": [
    {
     "name": "stdout",
     "output_type": "stream",
     "text": [
      "<class 'pandas.core.frame.DataFrame'>\n",
      "RangeIndex: 12694 entries, 0 to 12693\n",
      "Data columns (total 11 columns):\n",
      " #   Column             Non-Null Count  Dtype  \n",
      "---  ------             --------------  -----  \n",
      " 0   id                 12694 non-null  int64  \n",
      " 1   vendor_id          12694 non-null  object \n",
      " 2   pickup_datetime    12694 non-null  object \n",
      " 3   dropoff_datetime   12694 non-null  object \n",
      " 4   pickup_longitude   12694 non-null  float64\n",
      " 5   pickup_latitude    12694 non-null  float64\n",
      " 6   dropoff_longitude  12694 non-null  float64\n",
      " 7   dropoff_latitude   12694 non-null  float64\n",
      " 8   trip_duration      12694 non-null  int64  \n",
      " 9   dist_meters        12694 non-null  int64  \n",
      " 10  wait_sec           12694 non-null  int64  \n",
      "dtypes: float64(4), int64(4), object(3)\n",
      "memory usage: 1.1+ MB\n"
     ]
    }
   ],
   "source": [
    "taxi_data.info()"
   ]
  },
  {
   "cell_type": "markdown",
   "id": "6d23e7d5",
   "metadata": {},
   "source": [
    "Change dates to datetime for easier usage"
   ]
  },
  {
   "cell_type": "code",
   "execution_count": 6,
   "id": "9664cda6",
   "metadata": {},
   "outputs": [],
   "source": [
    "taxi_data['pickup_datetime'] = pd.to_datetime(taxi_data['pickup_datetime'], format='%Y-%m-%d %H:%M:%S')\n",
    "taxi_data['dropoff_datetime'] = pd.to_datetime(taxi_data['dropoff_datetime'], format='%Y-%m-%d %H:%M:%S')"
   ]
  },
  {
   "cell_type": "markdown",
   "id": "b9450422",
   "metadata": {},
   "source": [
    "Check for na"
   ]
  },
  {
   "cell_type": "code",
   "execution_count": 7,
   "id": "1086c14f",
   "metadata": {},
   "outputs": [
    {
     "name": "stdout",
     "output_type": "stream",
     "text": [
      "List of columns with NA values:\n",
      "[]\n",
      "\n",
      "==============================\n",
      "\n"
     ]
    }
   ],
   "source": [
    "cols_with_na = taxi_data.columns[taxi_data.isnull().any()].tolist()\n",
    "print(\"List of columns with NA values:\")\n",
    "print(cols_with_na)\n",
    "print(\"\\n\" + \"=\"*30 + \"\\n\")"
   ]
  },
  {
   "cell_type": "code",
   "execution_count": 8,
   "id": "9b2f0553",
   "metadata": {},
   "outputs": [
    {
     "data": {
      "text/html": [
       "<div>\n",
       "<style scoped>\n",
       "    .dataframe tbody tr th:only-of-type {\n",
       "        vertical-align: middle;\n",
       "    }\n",
       "\n",
       "    .dataframe tbody tr th {\n",
       "        vertical-align: top;\n",
       "    }\n",
       "\n",
       "    .dataframe thead th {\n",
       "        text-align: right;\n",
       "    }\n",
       "</style>\n",
       "<table border=\"1\" class=\"dataframe\">\n",
       "  <thead>\n",
       "    <tr style=\"text-align: right;\">\n",
       "      <th></th>\n",
       "      <th>id</th>\n",
       "      <th>vendor_id</th>\n",
       "      <th>pickup_datetime</th>\n",
       "      <th>dropoff_datetime</th>\n",
       "      <th>pickup_longitude</th>\n",
       "      <th>pickup_latitude</th>\n",
       "      <th>dropoff_longitude</th>\n",
       "      <th>dropoff_latitude</th>\n",
       "      <th>trip_duration</th>\n",
       "      <th>dist_meters</th>\n",
       "      <th>wait_sec</th>\n",
       "    </tr>\n",
       "  </thead>\n",
       "  <tbody>\n",
       "    <tr>\n",
       "      <th>0</th>\n",
       "      <td>1</td>\n",
       "      <td>México DF Taxi de Sitio</td>\n",
       "      <td>2016-09-16 07:14:12</td>\n",
       "      <td>2016-09-18 04:41:40</td>\n",
       "      <td>-99.097369</td>\n",
       "      <td>19.416874</td>\n",
       "      <td>-99.202729</td>\n",
       "      <td>19.430353</td>\n",
       "      <td>120449</td>\n",
       "      <td>12373</td>\n",
       "      <td>242</td>\n",
       "    </tr>\n",
       "    <tr>\n",
       "      <th>1</th>\n",
       "      <td>2</td>\n",
       "      <td>México DF Taxi Libre</td>\n",
       "      <td>2016-09-18 06:16:33</td>\n",
       "      <td>2016-09-18 10:11:43</td>\n",
       "      <td>-99.297148</td>\n",
       "      <td>19.322128</td>\n",
       "      <td>-99.289949</td>\n",
       "      <td>19.326538</td>\n",
       "      <td>14110</td>\n",
       "      <td>1700</td>\n",
       "      <td>461</td>\n",
       "    </tr>\n",
       "    <tr>\n",
       "      <th>2</th>\n",
       "      <td>3</td>\n",
       "      <td>México DF Taxi Libre</td>\n",
       "      <td>2016-09-18 10:11:50</td>\n",
       "      <td>2016-09-18 10:23:11</td>\n",
       "      <td>-99.289603</td>\n",
       "      <td>19.326263</td>\n",
       "      <td>-99.271874</td>\n",
       "      <td>19.328530</td>\n",
       "      <td>681</td>\n",
       "      <td>2848</td>\n",
       "      <td>129</td>\n",
       "    </tr>\n",
       "    <tr>\n",
       "      <th>3</th>\n",
       "      <td>4</td>\n",
       "      <td>México DF Taxi Libre</td>\n",
       "      <td>2016-09-18 10:23:38</td>\n",
       "      <td>2016-09-18 10:30:53</td>\n",
       "      <td>-99.271161</td>\n",
       "      <td>19.328875</td>\n",
       "      <td>-99.279900</td>\n",
       "      <td>19.326256</td>\n",
       "      <td>436</td>\n",
       "      <td>1409</td>\n",
       "      <td>106</td>\n",
       "    </tr>\n",
       "    <tr>\n",
       "      <th>4</th>\n",
       "      <td>5</td>\n",
       "      <td>México DF Taxi Libre</td>\n",
       "      <td>2016-09-18 10:44:18</td>\n",
       "      <td>2016-09-18 10:51:40</td>\n",
       "      <td>-99.282761</td>\n",
       "      <td>19.326944</td>\n",
       "      <td>-99.291705</td>\n",
       "      <td>19.322754</td>\n",
       "      <td>442</td>\n",
       "      <td>1567</td>\n",
       "      <td>85</td>\n",
       "    </tr>\n",
       "  </tbody>\n",
       "</table>\n",
       "</div>"
      ],
      "text/plain": [
       "   id                vendor_id     pickup_datetime    dropoff_datetime  \\\n",
       "0   1  México DF Taxi de Sitio 2016-09-16 07:14:12 2016-09-18 04:41:40   \n",
       "1   2     México DF Taxi Libre 2016-09-18 06:16:33 2016-09-18 10:11:43   \n",
       "2   3     México DF Taxi Libre 2016-09-18 10:11:50 2016-09-18 10:23:11   \n",
       "3   4     México DF Taxi Libre 2016-09-18 10:23:38 2016-09-18 10:30:53   \n",
       "4   5     México DF Taxi Libre 2016-09-18 10:44:18 2016-09-18 10:51:40   \n",
       "\n",
       "   pickup_longitude  pickup_latitude  dropoff_longitude  dropoff_latitude  \\\n",
       "0        -99.097369        19.416874         -99.202729         19.430353   \n",
       "1        -99.297148        19.322128         -99.289949         19.326538   \n",
       "2        -99.289603        19.326263         -99.271874         19.328530   \n",
       "3        -99.271161        19.328875         -99.279900         19.326256   \n",
       "4        -99.282761        19.326944         -99.291705         19.322754   \n",
       "\n",
       "   trip_duration  dist_meters  wait_sec  \n",
       "0         120449        12373       242  \n",
       "1          14110         1700       461  \n",
       "2            681         2848       129  \n",
       "3            436         1409       106  \n",
       "4            442         1567        85  "
      ]
     },
     "execution_count": 8,
     "metadata": {},
     "output_type": "execute_result"
    }
   ],
   "source": [
    "taxi_data.head()"
   ]
  },
  {
   "cell_type": "code",
   "execution_count": 9,
   "id": "1335d2ce",
   "metadata": {},
   "outputs": [
    {
     "data": {
      "text/html": [
       "<div>\n",
       "<style scoped>\n",
       "    .dataframe tbody tr th:only-of-type {\n",
       "        vertical-align: middle;\n",
       "    }\n",
       "\n",
       "    .dataframe tbody tr th {\n",
       "        vertical-align: top;\n",
       "    }\n",
       "\n",
       "    .dataframe thead th {\n",
       "        text-align: right;\n",
       "    }\n",
       "</style>\n",
       "<table border=\"1\" class=\"dataframe\">\n",
       "  <thead>\n",
       "    <tr style=\"text-align: right;\">\n",
       "      <th></th>\n",
       "      <th>id</th>\n",
       "      <th>pickup_datetime</th>\n",
       "      <th>dropoff_datetime</th>\n",
       "      <th>pickup_longitude</th>\n",
       "      <th>pickup_latitude</th>\n",
       "      <th>dropoff_longitude</th>\n",
       "      <th>dropoff_latitude</th>\n",
       "      <th>trip_duration</th>\n",
       "      <th>dist_meters</th>\n",
       "      <th>wait_sec</th>\n",
       "    </tr>\n",
       "  </thead>\n",
       "  <tbody>\n",
       "    <tr>\n",
       "      <th>count</th>\n",
       "      <td>12694.000000</td>\n",
       "      <td>12694</td>\n",
       "      <td>12694</td>\n",
       "      <td>12694.000000</td>\n",
       "      <td>12694.000000</td>\n",
       "      <td>12694.000000</td>\n",
       "      <td>12694.000000</td>\n",
       "      <td>1.269400e+04</td>\n",
       "      <td>12694.000000</td>\n",
       "      <td>1.269400e+04</td>\n",
       "    </tr>\n",
       "    <tr>\n",
       "      <th>mean</th>\n",
       "      <td>6347.500000</td>\n",
       "      <td>2017-02-15 21:21:51.969355520</td>\n",
       "      <td>2017-02-16 03:37:29.424058624</td>\n",
       "      <td>-99.136155</td>\n",
       "      <td>19.385067</td>\n",
       "      <td>-99.133728</td>\n",
       "      <td>19.386764</td>\n",
       "      <td>2.298377e+04</td>\n",
       "      <td>6666.431700</td>\n",
       "      <td>1.161270e+06</td>\n",
       "    </tr>\n",
       "    <tr>\n",
       "      <th>min</th>\n",
       "      <td>1.000000</td>\n",
       "      <td>2016-06-24 08:37:31</td>\n",
       "      <td>2016-06-24 11:05:35</td>\n",
       "      <td>-108.985069</td>\n",
       "      <td>18.829117</td>\n",
       "      <td>-108.987429</td>\n",
       "      <td>18.829103</td>\n",
       "      <td>2.000000e+00</td>\n",
       "      <td>21.000000</td>\n",
       "      <td>0.000000e+00</td>\n",
       "    </tr>\n",
       "    <tr>\n",
       "      <th>25%</th>\n",
       "      <td>3174.250000</td>\n",
       "      <td>2016-11-20 10:51:15.500000</td>\n",
       "      <td>2016-11-21 04:17:05.500000</td>\n",
       "      <td>-99.195615</td>\n",
       "      <td>19.325832</td>\n",
       "      <td>-99.192102</td>\n",
       "      <td>19.325325</td>\n",
       "      <td>4.840000e+02</td>\n",
       "      <td>1775.000000</td>\n",
       "      <td>8.900000e+01</td>\n",
       "    </tr>\n",
       "    <tr>\n",
       "      <th>50%</th>\n",
       "      <td>6347.500000</td>\n",
       "      <td>2017-02-22 08:39:17.500000</td>\n",
       "      <td>2017-02-22 10:36:01</td>\n",
       "      <td>-99.164436</td>\n",
       "      <td>19.371382</td>\n",
       "      <td>-99.160705</td>\n",
       "      <td>19.374913</td>\n",
       "      <td>1.033500e+03</td>\n",
       "      <td>3948.000000</td>\n",
       "      <td>2.340000e+02</td>\n",
       "    </tr>\n",
       "    <tr>\n",
       "      <th>75%</th>\n",
       "      <td>9520.750000</td>\n",
       "      <td>2017-05-29 09:29:58.750000128</td>\n",
       "      <td>2017-05-30 01:42:57</td>\n",
       "      <td>-99.107092</td>\n",
       "      <td>19.432106</td>\n",
       "      <td>-99.107355</td>\n",
       "      <td>19.434360</td>\n",
       "      <td>2.368750e+03</td>\n",
       "      <td>8265.000000</td>\n",
       "      <td>5.910000e+02</td>\n",
       "    </tr>\n",
       "    <tr>\n",
       "      <th>max</th>\n",
       "      <td>12694.000000</td>\n",
       "      <td>2017-07-20 12:52:00</td>\n",
       "      <td>2017-07-20 12:53:21</td>\n",
       "      <td>-86.871347</td>\n",
       "      <td>25.752964</td>\n",
       "      <td>-86.871002</td>\n",
       "      <td>25.781058</td>\n",
       "      <td>1.657095e+07</td>\n",
       "      <td>802537.000000</td>\n",
       "      <td>4.429346e+09</td>\n",
       "    </tr>\n",
       "    <tr>\n",
       "      <th>std</th>\n",
       "      <td>3664.586493</td>\n",
       "      <td>NaN</td>\n",
       "      <td>NaN</td>\n",
       "      <td>0.430001</td>\n",
       "      <td>0.129518</td>\n",
       "      <td>0.429582</td>\n",
       "      <td>0.131199</td>\n",
       "      <td>2.293364e+05</td>\n",
       "      <td>11386.891512</td>\n",
       "      <td>5.799612e+07</td>\n",
       "    </tr>\n",
       "  </tbody>\n",
       "</table>\n",
       "</div>"
      ],
      "text/plain": [
       "                 id                pickup_datetime  \\\n",
       "count  12694.000000                          12694   \n",
       "mean    6347.500000  2017-02-15 21:21:51.969355520   \n",
       "min        1.000000            2016-06-24 08:37:31   \n",
       "25%     3174.250000     2016-11-20 10:51:15.500000   \n",
       "50%     6347.500000     2017-02-22 08:39:17.500000   \n",
       "75%     9520.750000  2017-05-29 09:29:58.750000128   \n",
       "max    12694.000000            2017-07-20 12:52:00   \n",
       "std     3664.586493                            NaN   \n",
       "\n",
       "                    dropoff_datetime  pickup_longitude  pickup_latitude  \\\n",
       "count                          12694      12694.000000     12694.000000   \n",
       "mean   2017-02-16 03:37:29.424058624        -99.136155        19.385067   \n",
       "min              2016-06-24 11:05:35       -108.985069        18.829117   \n",
       "25%       2016-11-21 04:17:05.500000        -99.195615        19.325832   \n",
       "50%              2017-02-22 10:36:01        -99.164436        19.371382   \n",
       "75%              2017-05-30 01:42:57        -99.107092        19.432106   \n",
       "max              2017-07-20 12:53:21        -86.871347        25.752964   \n",
       "std                              NaN          0.430001         0.129518   \n",
       "\n",
       "       dropoff_longitude  dropoff_latitude  trip_duration    dist_meters  \\\n",
       "count       12694.000000      12694.000000   1.269400e+04   12694.000000   \n",
       "mean          -99.133728         19.386764   2.298377e+04    6666.431700   \n",
       "min          -108.987429         18.829103   2.000000e+00      21.000000   \n",
       "25%           -99.192102         19.325325   4.840000e+02    1775.000000   \n",
       "50%           -99.160705         19.374913   1.033500e+03    3948.000000   \n",
       "75%           -99.107355         19.434360   2.368750e+03    8265.000000   \n",
       "max           -86.871002         25.781058   1.657095e+07  802537.000000   \n",
       "std             0.429582          0.131199   2.293364e+05   11386.891512   \n",
       "\n",
       "           wait_sec  \n",
       "count  1.269400e+04  \n",
       "mean   1.161270e+06  \n",
       "min    0.000000e+00  \n",
       "25%    8.900000e+01  \n",
       "50%    2.340000e+02  \n",
       "75%    5.910000e+02  \n",
       "max    4.429346e+09  \n",
       "std    5.799612e+07  "
      ]
     },
     "execution_count": 9,
     "metadata": {},
     "output_type": "execute_result"
    }
   ],
   "source": [
    "taxi_data.describe()"
   ]
  },
  {
   "cell_type": "code",
   "execution_count": 10,
   "id": "6c3a06da",
   "metadata": {},
   "outputs": [
    {
     "data": {
      "text/html": [
       "<div>\n",
       "<style scoped>\n",
       "    .dataframe tbody tr th:only-of-type {\n",
       "        vertical-align: middle;\n",
       "    }\n",
       "\n",
       "    .dataframe tbody tr th {\n",
       "        vertical-align: top;\n",
       "    }\n",
       "\n",
       "    .dataframe thead th {\n",
       "        text-align: right;\n",
       "    }\n",
       "</style>\n",
       "<table border=\"1\" class=\"dataframe\">\n",
       "  <thead>\n",
       "    <tr style=\"text-align: right;\">\n",
       "      <th></th>\n",
       "      <th>id</th>\n",
       "      <th>vendor_id</th>\n",
       "      <th>pickup_datetime</th>\n",
       "      <th>dropoff_datetime</th>\n",
       "      <th>pickup_longitude</th>\n",
       "      <th>pickup_latitude</th>\n",
       "      <th>dropoff_longitude</th>\n",
       "      <th>dropoff_latitude</th>\n",
       "      <th>trip_duration</th>\n",
       "      <th>dist_meters</th>\n",
       "      <th>wait_sec</th>\n",
       "    </tr>\n",
       "  </thead>\n",
       "  <tbody>\n",
       "    <tr>\n",
       "      <th>7467</th>\n",
       "      <td>7468</td>\n",
       "      <td>México DF Taxi de Sitio</td>\n",
       "      <td>2017-02-05 01:16:12</td>\n",
       "      <td>2017-02-05 01:41:35</td>\n",
       "      <td>-99.038495</td>\n",
       "      <td>19.592712</td>\n",
       "      <td>-99.032371</td>\n",
       "      <td>19.528059</td>\n",
       "      <td>1524</td>\n",
       "      <td>802537</td>\n",
       "      <td>247</td>\n",
       "    </tr>\n",
       "  </tbody>\n",
       "</table>\n",
       "</div>"
      ],
      "text/plain": [
       "        id                vendor_id     pickup_datetime    dropoff_datetime  \\\n",
       "7467  7468  México DF Taxi de Sitio 2017-02-05 01:16:12 2017-02-05 01:41:35   \n",
       "\n",
       "      pickup_longitude  pickup_latitude  dropoff_longitude  dropoff_latitude  \\\n",
       "7467        -99.038495        19.592712         -99.032371         19.528059   \n",
       "\n",
       "      trip_duration  dist_meters  wait_sec  \n",
       "7467           1524       802537       247  "
      ]
     },
     "execution_count": 10,
     "metadata": {},
     "output_type": "execute_result"
    }
   ],
   "source": [
    "taxi_data[taxi_data['dist_meters']==max(taxi_data['dist_meters'])]"
   ]
  },
  {
   "cell_type": "markdown",
   "id": "d4e987ac",
   "metadata": {},
   "source": [
    "apparently there is a trip that took 139 years to complete, one that took 0 seconds and a trip that is 802 Km in just 25 minutes. There are certainly some erroneous data points that need cleaning."
   ]
  },
  {
   "cell_type": "code",
   "execution_count": 11,
   "id": "30acf6e6",
   "metadata": {},
   "outputs": [],
   "source": [
    "taxi_data['avg_speed'] = taxi_data['dist_meters']*3.6 / taxi_data['trip_duration']  # km/hr\n",
    "\n",
    "clean_data_mask = (taxi_data['trip_duration'].between(30, 2*3600) & #only consider trip durations between 30 seconds and 2 hours\n",
    "                   taxi_data['wait_sec'].between(0, 3600) &#only consider eait times between 0 seconds and 1 hour\n",
    "                   taxi_data['dist_meters'].between(50, 40*1000) & # only consider trips between 50 mts and 30 km\n",
    "                   taxi_data['avg_speed'].between(3, 120)) #only consider trips which average speed is between 3km/h and 120 km/h\n",
    "taxi_data = taxi_data[clean_data_mask]\n"
   ]
  },
  {
   "cell_type": "markdown",
   "id": "c9e35cb4",
   "metadata": {},
   "source": [
    "The difference between drop off and pick up should not be too far from the trip duration"
   ]
  },
  {
   "cell_type": "code",
   "execution_count": 12,
   "id": "3f359124",
   "metadata": {},
   "outputs": [],
   "source": [
    "taxi_data = taxi_data[\n",
    "    np.abs((taxi_data['dropoff_datetime'] - taxi_data['pickup_datetime']).dt.total_seconds() - taxi_data['trip_duration']) < 180\n",
    "]"
   ]
  },
  {
   "cell_type": "code",
   "execution_count": 13,
   "id": "b66841a9",
   "metadata": {},
   "outputs": [
    {
     "data": {
      "text/html": [
       "<div>\n",
       "<style scoped>\n",
       "    .dataframe tbody tr th:only-of-type {\n",
       "        vertical-align: middle;\n",
       "    }\n",
       "\n",
       "    .dataframe tbody tr th {\n",
       "        vertical-align: top;\n",
       "    }\n",
       "\n",
       "    .dataframe thead th {\n",
       "        text-align: right;\n",
       "    }\n",
       "</style>\n",
       "<table border=\"1\" class=\"dataframe\">\n",
       "  <thead>\n",
       "    <tr style=\"text-align: right;\">\n",
       "      <th></th>\n",
       "      <th>id</th>\n",
       "      <th>pickup_datetime</th>\n",
       "      <th>dropoff_datetime</th>\n",
       "      <th>pickup_longitude</th>\n",
       "      <th>pickup_latitude</th>\n",
       "      <th>dropoff_longitude</th>\n",
       "      <th>dropoff_latitude</th>\n",
       "      <th>trip_duration</th>\n",
       "      <th>dist_meters</th>\n",
       "      <th>wait_sec</th>\n",
       "      <th>avg_speed</th>\n",
       "    </tr>\n",
       "  </thead>\n",
       "  <tbody>\n",
       "    <tr>\n",
       "      <th>count</th>\n",
       "      <td>9654.000000</td>\n",
       "      <td>9654</td>\n",
       "      <td>9654</td>\n",
       "      <td>9654.000000</td>\n",
       "      <td>9654.000000</td>\n",
       "      <td>9654.000000</td>\n",
       "      <td>9654.000000</td>\n",
       "      <td>9654.000000</td>\n",
       "      <td>9654.000000</td>\n",
       "      <td>9654.000000</td>\n",
       "      <td>9654.000000</td>\n",
       "    </tr>\n",
       "    <tr>\n",
       "      <th>mean</th>\n",
       "      <td>6460.053346</td>\n",
       "      <td>2017-02-18 04:41:10.509737216</td>\n",
       "      <td>2017-02-18 05:01:47.457116160</td>\n",
       "      <td>-99.141722</td>\n",
       "      <td>19.381862</td>\n",
       "      <td>-99.139471</td>\n",
       "      <td>19.383515</td>\n",
       "      <td>1237.448830</td>\n",
       "      <td>5699.146675</td>\n",
       "      <td>398.315724</td>\n",
       "      <td>17.936212</td>\n",
       "    </tr>\n",
       "    <tr>\n",
       "      <th>min</th>\n",
       "      <td>3.000000</td>\n",
       "      <td>2016-06-24 11:05:38</td>\n",
       "      <td>2016-06-24 11:06:15</td>\n",
       "      <td>-108.985069</td>\n",
       "      <td>19.178420</td>\n",
       "      <td>-108.987429</td>\n",
       "      <td>19.177652</td>\n",
       "      <td>30.000000</td>\n",
       "      <td>50.000000</td>\n",
       "      <td>0.000000</td>\n",
       "      <td>3.001947</td>\n",
       "    </tr>\n",
       "    <tr>\n",
       "      <th>25%</th>\n",
       "      <td>3288.250000</td>\n",
       "      <td>2016-11-22 08:37:28.500000</td>\n",
       "      <td>2016-11-22 09:23:32.750000128</td>\n",
       "      <td>-99.196318</td>\n",
       "      <td>19.324309</td>\n",
       "      <td>-99.194045</td>\n",
       "      <td>19.324194</td>\n",
       "      <td>474.000000</td>\n",
       "      <td>2025.250000</td>\n",
       "      <td>87.000000</td>\n",
       "      <td>12.002946</td>\n",
       "    </tr>\n",
       "    <tr>\n",
       "      <th>50%</th>\n",
       "      <td>6501.500000</td>\n",
       "      <td>2017-02-27 07:05:30</td>\n",
       "      <td>2017-02-27 07:49:05</td>\n",
       "      <td>-99.168314</td>\n",
       "      <td>19.370683</td>\n",
       "      <td>-99.162274</td>\n",
       "      <td>19.374565</td>\n",
       "      <td>880.500000</td>\n",
       "      <td>3906.000000</td>\n",
       "      <td>213.000000</td>\n",
       "      <td>16.594633</td>\n",
       "    </tr>\n",
       "    <tr>\n",
       "      <th>75%</th>\n",
       "      <td>9697.750000</td>\n",
       "      <td>2017-06-03 11:43:56.500000</td>\n",
       "      <td>2017-06-03 12:20:30.750000128</td>\n",
       "      <td>-99.106287</td>\n",
       "      <td>19.433176</td>\n",
       "      <td>-99.107647</td>\n",
       "      <td>19.434650</td>\n",
       "      <td>1581.000000</td>\n",
       "      <td>7440.500000</td>\n",
       "      <td>481.750000</td>\n",
       "      <td>21.862835</td>\n",
       "    </tr>\n",
       "    <tr>\n",
       "      <th>max</th>\n",
       "      <td>12692.000000</td>\n",
       "      <td>2017-07-20 12:52:00</td>\n",
       "      <td>2017-07-20 12:53:21</td>\n",
       "      <td>-86.871347</td>\n",
       "      <td>25.752964</td>\n",
       "      <td>-86.871002</td>\n",
       "      <td>25.781058</td>\n",
       "      <td>7165.000000</td>\n",
       "      <td>38696.000000</td>\n",
       "      <td>3593.000000</td>\n",
       "      <td>117.635294</td>\n",
       "    </tr>\n",
       "    <tr>\n",
       "      <th>std</th>\n",
       "      <td>3664.151081</td>\n",
       "      <td>NaN</td>\n",
       "      <td>NaN</td>\n",
       "      <td>0.378815</td>\n",
       "      <td>0.114019</td>\n",
       "      <td>0.378842</td>\n",
       "      <td>0.115389</td>\n",
       "      <td>1138.856731</td>\n",
       "      <td>5487.360187</td>\n",
       "      <td>518.788463</td>\n",
       "      <td>9.407034</td>\n",
       "    </tr>\n",
       "  </tbody>\n",
       "</table>\n",
       "</div>"
      ],
      "text/plain": [
       "                 id                pickup_datetime  \\\n",
       "count   9654.000000                           9654   \n",
       "mean    6460.053346  2017-02-18 04:41:10.509737216   \n",
       "min        3.000000            2016-06-24 11:05:38   \n",
       "25%     3288.250000     2016-11-22 08:37:28.500000   \n",
       "50%     6501.500000            2017-02-27 07:05:30   \n",
       "75%     9697.750000     2017-06-03 11:43:56.500000   \n",
       "max    12692.000000            2017-07-20 12:52:00   \n",
       "std     3664.151081                            NaN   \n",
       "\n",
       "                    dropoff_datetime  pickup_longitude  pickup_latitude  \\\n",
       "count                           9654       9654.000000      9654.000000   \n",
       "mean   2017-02-18 05:01:47.457116160        -99.141722        19.381862   \n",
       "min              2016-06-24 11:06:15       -108.985069        19.178420   \n",
       "25%    2016-11-22 09:23:32.750000128        -99.196318        19.324309   \n",
       "50%              2017-02-27 07:49:05        -99.168314        19.370683   \n",
       "75%    2017-06-03 12:20:30.750000128        -99.106287        19.433176   \n",
       "max              2017-07-20 12:53:21        -86.871347        25.752964   \n",
       "std                              NaN          0.378815         0.114019   \n",
       "\n",
       "       dropoff_longitude  dropoff_latitude  trip_duration   dist_meters  \\\n",
       "count        9654.000000       9654.000000    9654.000000   9654.000000   \n",
       "mean          -99.139471         19.383515    1237.448830   5699.146675   \n",
       "min          -108.987429         19.177652      30.000000     50.000000   \n",
       "25%           -99.194045         19.324194     474.000000   2025.250000   \n",
       "50%           -99.162274         19.374565     880.500000   3906.000000   \n",
       "75%           -99.107647         19.434650    1581.000000   7440.500000   \n",
       "max           -86.871002         25.781058    7165.000000  38696.000000   \n",
       "std             0.378842          0.115389    1138.856731   5487.360187   \n",
       "\n",
       "          wait_sec    avg_speed  \n",
       "count  9654.000000  9654.000000  \n",
       "mean    398.315724    17.936212  \n",
       "min       0.000000     3.001947  \n",
       "25%      87.000000    12.002946  \n",
       "50%     213.000000    16.594633  \n",
       "75%     481.750000    21.862835  \n",
       "max    3593.000000   117.635294  \n",
       "std     518.788463     9.407034  "
      ]
     },
     "execution_count": 13,
     "metadata": {},
     "output_type": "execute_result"
    }
   ],
   "source": [
    "taxi_data.describe()"
   ]
  },
  {
   "cell_type": "code",
   "execution_count": 14,
   "id": "f0204014",
   "metadata": {},
   "outputs": [],
   "source": [
    "def plot_distance_duration_scatterplot(df, dist_column='dist_meters', duration_column='trip_duration'):\n",
    "    # Create the scatterplot\n",
    "    fig = px.scatter(df,\n",
    "                     x=dist_column,\n",
    "                     y=duration_column,\n",
    "                     title=f'Trip Duration vs. Distance Traveled',\n",
    "                     labels={dist_column: 'Distance (meters)', duration_column: 'Trip Duration (seconds)'},\n",
    "                     hover_data=[dist_column, duration_column] \n",
    "                    )\n",
    "\n",
    "    fig.update_traces(marker=dict(size=5, opacity=0.6)) #lower opacity to be able to see high concentrations of points\n",
    "    fig.update_layout(xaxis_title_text='Distance (meters)',\n",
    "                      yaxis_title_text='Trip Duration (seconds)',\n",
    "                      hovermode='closest'\n",
    "                     )\n",
    "\n",
    "    fig.show()"
   ]
  },
  {
   "cell_type": "markdown",
   "id": "47659083",
   "metadata": {},
   "source": [
    "Distance is one of the most obvious variables to predict trip duration since triups over longer distances tend to last longer. So its important to understand how these two variables interact."
   ]
  },
  {
   "cell_type": "code",
   "execution_count": 15,
   "id": "4d5f4dc4",
   "metadata": {},
   "outputs": [
    {
     "data": {
      "application/vnd.plotly.v1+json": {
       "config": {
        "plotlyServerURL": "https://plot.ly"
       },
       "data": [
        {
         "hovertemplate": "Distance (meters)=%{x}<br>Trip Duration (seconds)=%{y}<extra></extra>",
         "legendgroup": "",
         "marker": {
          "color": "#636efa",
          "opacity": 0.6,
          "size": 5,
          "symbol": "circle"
         },
         "mode": "markers",
         "name": "",
         "showlegend": false,
         "type": "scattergl",
         "x": {
          "bdata": "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",
          "dtype": "i4"
         },
         "xaxis": "x",
         "y": {
          "bdata": "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",
          "dtype": "i2"
         },
         "yaxis": "y"
        }
       ],
       "layout": {
        "hovermode": "closest",
        "legend": {
         "tracegroupgap": 0
        },
        "template": {
         "data": {
          "bar": [
           {
            "error_x": {
             "color": "#2a3f5f"
            },
            "error_y": {
             "color": "#2a3f5f"
            },
            "marker": {
             "line": {
              "color": "#E5ECF6",
              "width": 0.5
             },
             "pattern": {
              "fillmode": "overlay",
              "size": 10,
              "solidity": 0.2
             }
            },
            "type": "bar"
           }
          ],
          "barpolar": [
           {
            "marker": {
             "line": {
              "color": "#E5ECF6",
              "width": 0.5
             },
             "pattern": {
              "fillmode": "overlay",
              "size": 10,
              "solidity": 0.2
             }
            },
            "type": "barpolar"
           }
          ],
          "carpet": [
           {
            "aaxis": {
             "endlinecolor": "#2a3f5f",
             "gridcolor": "white",
             "linecolor": "white",
             "minorgridcolor": "white",
             "startlinecolor": "#2a3f5f"
            },
            "baxis": {
             "endlinecolor": "#2a3f5f",
             "gridcolor": "white",
             "linecolor": "white",
             "minorgridcolor": "white",
             "startlinecolor": "#2a3f5f"
            },
            "type": "carpet"
           }
          ],
          "choropleth": [
           {
            "colorbar": {
             "outlinewidth": 0,
             "ticks": ""
            },
            "type": "choropleth"
           }
          ],
          "contour": [
           {
            "colorbar": {
             "outlinewidth": 0,
             "ticks": ""
            },
            "colorscale": [
             [
              0,
              "#0d0887"
             ],
             [
              0.1111111111111111,
              "#46039f"
             ],
             [
              0.2222222222222222,
              "#7201a8"
             ],
             [
              0.3333333333333333,
              "#9c179e"
             ],
             [
              0.4444444444444444,
              "#bd3786"
             ],
             [
              0.5555555555555556,
              "#d8576b"
             ],
             [
              0.6666666666666666,
              "#ed7953"
             ],
             [
              0.7777777777777778,
              "#fb9f3a"
             ],
             [
              0.8888888888888888,
              "#fdca26"
             ],
             [
              1,
              "#f0f921"
             ]
            ],
            "type": "contour"
           }
          ],
          "contourcarpet": [
           {
            "colorbar": {
             "outlinewidth": 0,
             "ticks": ""
            },
            "type": "contourcarpet"
           }
          ],
          "heatmap": [
           {
            "colorbar": {
             "outlinewidth": 0,
             "ticks": ""
            },
            "colorscale": [
             [
              0,
              "#0d0887"
             ],
             [
              0.1111111111111111,
              "#46039f"
             ],
             [
              0.2222222222222222,
              "#7201a8"
             ],
             [
              0.3333333333333333,
              "#9c179e"
             ],
             [
              0.4444444444444444,
              "#bd3786"
             ],
             [
              0.5555555555555556,
              "#d8576b"
             ],
             [
              0.6666666666666666,
              "#ed7953"
             ],
             [
              0.7777777777777778,
              "#fb9f3a"
             ],
             [
              0.8888888888888888,
              "#fdca26"
             ],
             [
              1,
              "#f0f921"
             ]
            ],
            "type": "heatmap"
           }
          ],
          "histogram": [
           {
            "marker": {
             "pattern": {
              "fillmode": "overlay",
              "size": 10,
              "solidity": 0.2
             }
            },
            "type": "histogram"
           }
          ],
          "histogram2d": [
           {
            "colorbar": {
             "outlinewidth": 0,
             "ticks": ""
            },
            "colorscale": [
             [
              0,
              "#0d0887"
             ],
             [
              0.1111111111111111,
              "#46039f"
             ],
             [
              0.2222222222222222,
              "#7201a8"
             ],
             [
              0.3333333333333333,
              "#9c179e"
             ],
             [
              0.4444444444444444,
              "#bd3786"
             ],
             [
              0.5555555555555556,
              "#d8576b"
             ],
             [
              0.6666666666666666,
              "#ed7953"
             ],
             [
              0.7777777777777778,
              "#fb9f3a"
             ],
             [
              0.8888888888888888,
              "#fdca26"
             ],
             [
              1,
              "#f0f921"
             ]
            ],
            "type": "histogram2d"
           }
          ],
          "histogram2dcontour": [
           {
            "colorbar": {
             "outlinewidth": 0,
             "ticks": ""
            },
            "colorscale": [
             [
              0,
              "#0d0887"
             ],
             [
              0.1111111111111111,
              "#46039f"
             ],
             [
              0.2222222222222222,
              "#7201a8"
             ],
             [
              0.3333333333333333,
              "#9c179e"
             ],
             [
              0.4444444444444444,
              "#bd3786"
             ],
             [
              0.5555555555555556,
              "#d8576b"
             ],
             [
              0.6666666666666666,
              "#ed7953"
             ],
             [
              0.7777777777777778,
              "#fb9f3a"
             ],
             [
              0.8888888888888888,
              "#fdca26"
             ],
             [
              1,
              "#f0f921"
             ]
            ],
            "type": "histogram2dcontour"
           }
          ],
          "mesh3d": [
           {
            "colorbar": {
             "outlinewidth": 0,
             "ticks": ""
            },
            "type": "mesh3d"
           }
          ],
          "parcoords": [
           {
            "line": {
             "colorbar": {
              "outlinewidth": 0,
              "ticks": ""
             }
            },
            "type": "parcoords"
           }
          ],
          "pie": [
           {
            "automargin": true,
            "type": "pie"
           }
          ],
          "scatter": [
           {
            "fillpattern": {
             "fillmode": "overlay",
             "size": 10,
             "solidity": 0.2
            },
            "type": "scatter"
           }
          ],
          "scatter3d": [
           {
            "line": {
             "colorbar": {
              "outlinewidth": 0,
              "ticks": ""
             }
            },
            "marker": {
             "colorbar": {
              "outlinewidth": 0,
              "ticks": ""
             }
            },
            "type": "scatter3d"
           }
          ],
          "scattercarpet": [
           {
            "marker": {
             "colorbar": {
              "outlinewidth": 0,
              "ticks": ""
             }
            },
            "type": "scattercarpet"
           }
          ],
          "scattergeo": [
           {
            "marker": {
             "colorbar": {
              "outlinewidth": 0,
              "ticks": ""
             }
            },
            "type": "scattergeo"
           }
          ],
          "scattergl": [
           {
            "marker": {
             "colorbar": {
              "outlinewidth": 0,
              "ticks": ""
             }
            },
            "type": "scattergl"
           }
          ],
          "scattermap": [
           {
            "marker": {
             "colorbar": {
              "outlinewidth": 0,
              "ticks": ""
             }
            },
            "type": "scattermap"
           }
          ],
          "scattermapbox": [
           {
            "marker": {
             "colorbar": {
              "outlinewidth": 0,
              "ticks": ""
             }
            },
            "type": "scattermapbox"
           }
          ],
          "scatterpolar": [
           {
            "marker": {
             "colorbar": {
              "outlinewidth": 0,
              "ticks": ""
             }
            },
            "type": "scatterpolar"
           }
          ],
          "scatterpolargl": [
           {
            "marker": {
             "colorbar": {
              "outlinewidth": 0,
              "ticks": ""
             }
            },
            "type": "scatterpolargl"
           }
          ],
          "scatterternary": [
           {
            "marker": {
             "colorbar": {
              "outlinewidth": 0,
              "ticks": ""
             }
            },
            "type": "scatterternary"
           }
          ],
          "surface": [
           {
            "colorbar": {
             "outlinewidth": 0,
             "ticks": ""
            },
            "colorscale": [
             [
              0,
              "#0d0887"
             ],
             [
              0.1111111111111111,
              "#46039f"
             ],
             [
              0.2222222222222222,
              "#7201a8"
             ],
             [
              0.3333333333333333,
              "#9c179e"
             ],
             [
              0.4444444444444444,
              "#bd3786"
             ],
             [
              0.5555555555555556,
              "#d8576b"
             ],
             [
              0.6666666666666666,
              "#ed7953"
             ],
             [
              0.7777777777777778,
              "#fb9f3a"
             ],
             [
              0.8888888888888888,
              "#fdca26"
             ],
             [
              1,
              "#f0f921"
             ]
            ],
            "type": "surface"
           }
          ],
          "table": [
           {
            "cells": {
             "fill": {
              "color": "#EBF0F8"
             },
             "line": {
              "color": "white"
             }
            },
            "header": {
             "fill": {
              "color": "#C8D4E3"
             },
             "line": {
              "color": "white"
             }
            },
            "type": "table"
           }
          ]
         },
         "layout": {
          "annotationdefaults": {
           "arrowcolor": "#2a3f5f",
           "arrowhead": 0,
           "arrowwidth": 1
          },
          "autotypenumbers": "strict",
          "coloraxis": {
           "colorbar": {
            "outlinewidth": 0,
            "ticks": ""
           }
          },
          "colorscale": {
           "diverging": [
            [
             0,
             "#8e0152"
            ],
            [
             0.1,
             "#c51b7d"
            ],
            [
             0.2,
             "#de77ae"
            ],
            [
             0.3,
             "#f1b6da"
            ],
            [
             0.4,
             "#fde0ef"
            ],
            [
             0.5,
             "#f7f7f7"
            ],
            [
             0.6,
             "#e6f5d0"
            ],
            [
             0.7,
             "#b8e186"
            ],
            [
             0.8,
             "#7fbc41"
            ],
            [
             0.9,
             "#4d9221"
            ],
            [
             1,
             "#276419"
            ]
           ],
           "sequential": [
            [
             0,
             "#0d0887"
            ],
            [
             0.1111111111111111,
             "#46039f"
            ],
            [
             0.2222222222222222,
             "#7201a8"
            ],
            [
             0.3333333333333333,
             "#9c179e"
            ],
            [
             0.4444444444444444,
             "#bd3786"
            ],
            [
             0.5555555555555556,
             "#d8576b"
            ],
            [
             0.6666666666666666,
             "#ed7953"
            ],
            [
             0.7777777777777778,
             "#fb9f3a"
            ],
            [
             0.8888888888888888,
             "#fdca26"
            ],
            [
             1,
             "#f0f921"
            ]
           ],
           "sequentialminus": [
            [
             0,
             "#0d0887"
            ],
            [
             0.1111111111111111,
             "#46039f"
            ],
            [
             0.2222222222222222,
             "#7201a8"
            ],
            [
             0.3333333333333333,
             "#9c179e"
            ],
            [
             0.4444444444444444,
             "#bd3786"
            ],
            [
             0.5555555555555556,
             "#d8576b"
            ],
            [
             0.6666666666666666,
             "#ed7953"
            ],
            [
             0.7777777777777778,
             "#fb9f3a"
            ],
            [
             0.8888888888888888,
             "#fdca26"
            ],
            [
             1,
             "#f0f921"
            ]
           ]
          },
          "colorway": [
           "#636efa",
           "#EF553B",
           "#00cc96",
           "#ab63fa",
           "#FFA15A",
           "#19d3f3",
           "#FF6692",
           "#B6E880",
           "#FF97FF",
           "#FECB52"
          ],
          "font": {
           "color": "#2a3f5f"
          },
          "geo": {
           "bgcolor": "white",
           "lakecolor": "white",
           "landcolor": "#E5ECF6",
           "showlakes": true,
           "showland": true,
           "subunitcolor": "white"
          },
          "hoverlabel": {
           "align": "left"
          },
          "hovermode": "closest",
          "mapbox": {
           "style": "light"
          },
          "paper_bgcolor": "white",
          "plot_bgcolor": "#E5ECF6",
          "polar": {
           "angularaxis": {
            "gridcolor": "white",
            "linecolor": "white",
            "ticks": ""
           },
           "bgcolor": "#E5ECF6",
           "radialaxis": {
            "gridcolor": "white",
            "linecolor": "white",
            "ticks": ""
           }
          },
          "scene": {
           "xaxis": {
            "backgroundcolor": "#E5ECF6",
            "gridcolor": "white",
            "gridwidth": 2,
            "linecolor": "white",
            "showbackground": true,
            "ticks": "",
            "zerolinecolor": "white"
           },
           "yaxis": {
            "backgroundcolor": "#E5ECF6",
            "gridcolor": "white",
            "gridwidth": 2,
            "linecolor": "white",
            "showbackground": true,
            "ticks": "",
            "zerolinecolor": "white"
           },
           "zaxis": {
            "backgroundcolor": "#E5ECF6",
            "gridcolor": "white",
            "gridwidth": 2,
            "linecolor": "white",
            "showbackground": true,
            "ticks": "",
            "zerolinecolor": "white"
           }
          },
          "shapedefaults": {
           "line": {
            "color": "#2a3f5f"
           }
          },
          "ternary": {
           "aaxis": {
            "gridcolor": "white",
            "linecolor": "white",
            "ticks": ""
           },
           "baxis": {
            "gridcolor": "white",
            "linecolor": "white",
            "ticks": ""
           },
           "bgcolor": "#E5ECF6",
           "caxis": {
            "gridcolor": "white",
            "linecolor": "white",
            "ticks": ""
           }
          },
          "title": {
           "x": 0.05
          },
          "xaxis": {
           "automargin": true,
           "gridcolor": "white",
           "linecolor": "white",
           "ticks": "",
           "title": {
            "standoff": 15
           },
           "zerolinecolor": "white",
           "zerolinewidth": 2
          },
          "yaxis": {
           "automargin": true,
           "gridcolor": "white",
           "linecolor": "white",
           "ticks": "",
           "title": {
            "standoff": 15
           },
           "zerolinecolor": "white",
           "zerolinewidth": 2
          }
         }
        },
        "title": {
         "text": "Trip Duration vs. Distance Traveled"
        },
        "xaxis": {
         "anchor": "y",
         "domain": [
          0,
          1
         ],
         "title": {
          "text": "Distance (meters)"
         }
        },
        "yaxis": {
         "anchor": "x",
         "domain": [
          0,
          1
         ],
         "title": {
          "text": "Trip Duration (seconds)"
         }
        }
       }
      }
     },
     "metadata": {},
     "output_type": "display_data"
    }
   ],
   "source": [
    "plot_distance_duration_scatterplot(taxi_data)"
   ]
  },
  {
   "cell_type": "markdown",
   "id": "93a9b4be",
   "metadata": {},
   "source": [
    "plotting the distribution of trip_duration"
   ]
  },
  {
   "cell_type": "code",
   "execution_count": 16,
   "id": "bc64c7c0",
   "metadata": {},
   "outputs": [],
   "source": [
    "def plot_trip_duration_histogram(df: pd.DataFrame, title: str = \"Distribution of Trip Duration\"):\n",
    "    plt.figure(figsize=(10, 6)) \n",
    "    sns.histplot(df['trip_duration'], kde=True, bins=50, color='skyblue', edgecolor='black')\n",
    "    plt.title(title, fontsize=16)\n",
    "    plt.xlabel('Trip Duration', fontsize=12)\n",
    "    plt.ylabel('Frequency / Density', fontsize=12)\n",
    "    plt.grid(axis='y', alpha=0.75)\n",
    "\n",
    "    plt.show()"
   ]
  },
  {
   "cell_type": "code",
   "execution_count": 17,
   "id": "0504ca5f",
   "metadata": {},
   "outputs": [
    {
     "data": {
      "image/png": "[encoded data removed]",
      "text/plain": [
       "<Figure size 1000x600 with 1 Axes>"
      ]
     },
     "metadata": {},
     "output_type": "display_data"
    }
   ],
   "source": [
    "plot_trip_duration_histogram(taxi_data)"
   ]
  },
  {
   "cell_type": "markdown",
   "id": "1a81b683",
   "metadata": {},
   "source": [
    "We can observe that most of the trips are short and the distribution is right skewed"
   ]
  },
  {
   "cell_type": "markdown",
   "id": "b32be32e",
   "metadata": {},
   "source": [
    "Now, we will create features that will be helpful for the mode, like an hour of day variable and a day of the week one and month"
   ]
  },
  {
   "cell_type": "code",
   "execution_count": 18,
   "id": "46f60b85",
   "metadata": {},
   "outputs": [
    {
     "name": "stdout",
     "output_type": "stream",
     "text": [
      "Index(['id', 'vendor_id', 'pickup_datetime', 'dropoff_datetime',\n",
      "       'pickup_longitude', 'pickup_latitude', 'dropoff_longitude',\n",
      "       'dropoff_latitude', 'trip_duration', 'dist_meters', 'wait_sec',\n",
      "       'avg_speed'],\n",
      "      dtype='object')\n"
     ]
    }
   ],
   "source": [
    "print(taxi_data.columns)"
   ]
  },
  {
   "cell_type": "code",
   "execution_count": 19,
   "id": "20c2ce3d",
   "metadata": {},
   "outputs": [
    {
     "data": {
      "image/png": "[encoded data removed]",
      "text/plain": [
       "<Figure size 1000x600 with 1 Axes>"
      ]
     },
     "metadata": {},
     "output_type": "display_data"
    }
   ],
   "source": [
    "vendor_counts = taxi_data['vendor_id'].value_counts()\n",
    "plt.figure(figsize=(10, 6)) \n",
    "vendor_counts.plot(kind='bar', color='skyblue')\n",
    "\n",
    "plt.title('Frequency of Vendor IDs', fontsize=16)\n",
    "plt.xlabel('Vendor ID', fontsize=12)\n",
    "plt.ylabel('Frequency', fontsize=12)\n",
    "\n",
    "plt.xticks(rotation=45, ha='right')\n",
    "\n",
    "for index, value in enumerate(vendor_counts):\n",
    "    plt.text(index, value + 0.1, str(value), ha='center', va='bottom')\n",
    "\n",
    "plt.tight_layout()\n",
    "\n",
    "plt.show()"
   ]
  },
  {
   "cell_type": "markdown",
   "id": "48b6a059",
   "metadata": {},
   "source": [
    "Clearly there are 3 main vendors. Its a good idea to exclude the Uber vendors since they are a small sample and could bring a lot of noise to the models. "
   ]
  },
  {
   "cell_type": "code",
   "execution_count": 20,
   "id": "e18a3a1d",
   "metadata": {},
   "outputs": [
    {
     "data": {
      "text/plain": [
       "array(['México DF Taxi Libre', 'México DF Radio Taxi',\n",
       "       'México DF Taxi de Sitio', 'México DF UberX', 'México DF UberSUV',\n",
       "       'México DF UberBlack', 'México DF UberXL'], dtype=object)"
      ]
     },
     "execution_count": 20,
     "metadata": {},
     "output_type": "execute_result"
    }
   ],
   "source": [
    "taxi_data['vendor_id'].unique()"
   ]
  },
  {
   "cell_type": "code",
   "execution_count": 21,
   "id": "089a5a71",
   "metadata": {},
   "outputs": [],
   "source": [
    "list_of_vendors = ['México DF Taxi Libre','México DF Radio Taxi','México DF Taxi de Sitio']\n",
    "taxi_data = taxi_data[taxi_data['vendor_id'].isin(list_of_vendors)]"
   ]
  },
  {
   "cell_type": "markdown",
   "id": "7522bdd0",
   "metadata": {},
   "source": [
    "Create a map to see a sample of the trips"
   ]
  },
  {
   "cell_type": "code",
   "execution_count": 51,
   "id": "6d50d7db",
   "metadata": {},
   "outputs": [
    {
     "name": "stderr",
     "output_type": "stream",
     "text": [
      "C:\\Users\\aarriaga\\AppData\\Local\\Temp\\ipykernel_26120\\3953979145.py:13: DeprecationWarning:\n",
      "\n",
      "*scatter_mapbox* is deprecated! Use *scatter_map* instead. Learn more at: https://plotly.com/python/mapbox-to-maplibre/\n",
      "\n",
      "C:\\Users\\aarriaga\\AppData\\Local\\Temp\\ipykernel_26120\\3953979145.py:31: DeprecationWarning:\n",
      "\n",
      "*scattermapbox* is deprecated! Use *scattermap* instead. Learn more at: https://plotly.com/python/mapbox-to-maplibre/\n",
      "\n"
     ]
    },
    {
     "data": {
      "application/vnd.plotly.v1+json": {
       "config": {
        "plotlyServerURL": "https://plot.ly"
       },
       "data": [
        {
         "customdata": [
          [
           19.2462766769197,
           -99.0112001073627,
           "Pickup"
          ],
          [
           19.3777182,
           -99.17437,
           "Pickup"
          ],
          [
           19.4468149991361,
           -99.1528677292555,
           "Pickup"
          ],
          [
           19.3298567788672,
           -99.2864398611346,
           "Pickup"
          ],
          [
           19.3901471,
           -99.1682832,
           "Pickup"
          ],
          [
           19.2390133,
           -99.1002179,
           "Pickup"
          ],
          [
           19.3333020752353,
           -99.2192063363654,
           "Pickup"
          ],
          [
           19.4089903482696,
           -99.1241120583058,
           "Pickup"
          ],
          [
           19.2833276847509,
           -99.2036035329162,
           "Pickup"
          ],
          [
           19.4614056831686,
           -99.196407610652,
           "Pickup"
          ],
          [
           19.3207844874243,
           -99.2644681123693,
           "Pickup"
          ],
          [
           19.3716061330331,
           -99.1822952941263,
           "Pickup"
          ],
          [
           19.3613166,
           -99.0760215,
           "Pickup"
          ],
          [
           19.40724282,
           -99.18212884,
           "Pickup"
          ],
          [
           19.3507884328145,
           -99.1596058159846,
           "Pickup"
          ],
          [
           19.3737612,
           -99.1631871,
           "Pickup"
          ],
          [
           19.3214030206825,
           -99.0918202833793,
           "Pickup"
          ],
          [
           19.3849621070212,
           -99.1890122169598,
           "Pickup"
          ],
          [
           19.3677974,
           -99.0746649,
           "Pickup"
          ],
          [
           19.4777140391343,
           -99.0942405202394,
           "Pickup"
          ],
          [
           19.3309932060101,
           -99.0697810939641,
           "Pickup"
          ],
          [
           19.3752965953128,
           -99.18533329622,
           "Pickup"
          ],
          [
           19.3812545250781,
           -99.2028314754284,
           "Pickup"
          ],
          [
           19.365631487094,
           -99.1162624973554,
           "Pickup"
          ],
          [
           19.3860953,
           -99.1703706,
           "Pickup"
          ],
          [
           19.3066336196724,
           -99.1481950069397,
           "Pickup"
          ],
          [
           19.4089158262467,
           -99.1242716280342,
           "Pickup"
          ],
          [
           19.3082624414189,
           -99.1660796100981,
           "Pickup"
          ],
          [
           19.3816956969894,
           -99.2022962698825,
           "Pickup"
          ],
          [
           19.32753576,
           -99.0827863,
           "Pickup"
          ],
          [
           19.3075276870877,
           -99.0605006457341,
           "Pickup"
          ],
          [
           19.4615509091703,
           -99.1958938627935,
           "Pickup"
          ],
          [
           19.4118287980969,
           -99.1723965881967,
           "Pickup"
          ],
          [
           19.4403917463677,
           -99.2072693780988,
           "Pickup"
          ],
          [
           19.2941694872723,
           -99.181539411624,
           "Pickup"
          ],
          [
           19.370536380026,
           -99.1847096163953,
           "Pickup"
          ],
          [
           19.2758261111567,
           -99.0087448205972,
           "Pickup"
          ],
          [
           19.3022083,
           -99.1400217,
           "Pickup"
          ],
          [
           19.440984430741,
           -99.1096094940781,
           "Pickup"
          ],
          [
           19.4090446845781,
           -99.1240510917531,
           "Pickup"
          ],
          [
           19.30219,
           -99.140115,
           "Pickup"
          ],
          [
           19.3306879312597,
           -99.211098822942,
           "Pickup"
          ],
          [
           19.3657294031294,
           -99.2267345288615,
           "Pickup"
          ],
          [
           19.4452167,
           -99.1183073,
           "Pickup"
          ],
          [
           19.3684755713629,
           -99.1770337839796,
           "Pickup"
          ],
          [
           19.4090430189115,
           -99.1240617522405,
           "Pickup"
          ],
          [
           19.3544512193196,
           -99.2353704180634,
           "Pickup"
          ],
          [
           19.3851881642603,
           -99.1890556806202,
           "Pickup"
          ],
          [
           19.33481834,
           -99.18075766,
           "Pickup"
          ],
          [
           19.4027768494742,
           -99.1513586976557,
           "Pickup"
          ],
          [
           19.3311110915254,
           -99.0710615525424,
           "Pickup"
          ],
          [
           19.5028641,
           -99.1835858,
           "Pickup"
          ],
          [
           19.38555024,
           -99.13380934,
           "Pickup"
          ],
          [
           19.3451672476506,
           -99.2291404935269,
           "Pickup"
          ],
          [
           19.4386272036257,
           -99.1795610202529,
           "Pickup"
          ],
          [
           19.3941067276395,
           -99.0867265005161,
           "Pickup"
          ],
          [
           19.4386809165142,
           -99.1793259144844,
           "Pickup"
          ],
          [
           19.4167583,
           -99.12088,
           "Pickup"
          ],
          [
           19.323826505622,
           -99.267601505622,
           "Pickup"
          ],
          [
           19.3567574309813,
           -99.3011331863178,
           "Pickup"
          ],
          [
           19.4380468403149,
           -99.0922413417366,
           "Pickup"
          ],
          [
           19.4066846756978,
           -99.1568245262621,
           "Pickup"
          ],
          [
           19.4639972469555,
           -99.1937583266029,
           "Pickup"
          ],
          [
           19.3037933205316,
           -99.2488775128858,
           "Pickup"
          ],
          [
           19.477805258227,
           -99.0940127238755,
           "Pickup"
          ],
          [
           19.33239126,
           -99.0667425,
           "Pickup"
          ],
          [
           19.3022148351598,
           -99.1895754456621,
           "Pickup"
          ],
          [
           20.0917679337557,
           -98.3676653816784,
           "Pickup"
          ],
          [
           19.3032265450249,
           -99.2507940536663,
           "Pickup"
          ],
          [
           19.45039,
           -99.1644333,
           "Pickup"
          ],
          [
           19.3909634,
           -99.1697203,
           "Pickup"
          ],
          [
           19.3760424142389,
           -99.2021845264772,
           "Pickup"
          ],
          [
           19.4386154538591,
           -99.1794548695184,
           "Pickup"
          ],
          [
           19.2854075941475,
           -99.0415745630284,
           "Pickup"
          ],
          [
           19.4616997352327,
           -99.1963004172283,
           "Pickup"
          ],
          [
           19.4621505447403,
           -99.1970798213585,
           "Pickup"
          ],
          [
           19.330847738056,
           -99.0699027734151,
           "Pickup"
          ],
          [
           19.3737697482984,
           -99.1791579270942,
           "Pickup"
          ],
          [
           19.3737951605777,
           -99.1628509980332,
           "Pickup"
          ],
          [
           19.4589579409786,
           -99.1444357804274,
           "Pickup"
          ],
          [
           19.4297467222782,
           -99.2001637107979,
           "Pickup"
          ],
          [
           19.3709311327146,
           -99.1810012814581,
           "Pickup"
          ],
          [
           19.3075621837791,
           -99.0603281929978,
           "Pickup"
          ],
          [
           19.2863556722803,
           -99.204778536221,
           "Pickup"
          ],
          [
           19.3807816375,
           -99.20344595,
           "Pickup"
          ],
          [
           19.4019508964464,
           -99.1550834900733,
           "Pickup"
          ],
          [
           19.3614315276871,
           -99.0763714454371,
           "Pickup"
          ],
          [
           19.3074986741506,
           -99.060467341192,
           "Pickup"
          ],
          [
           19.3309922652984,
           -99.0698113495461,
           "Pickup"
          ],
          [
           19.3204517,
           -99.13102,
           "Pickup"
          ],
          [
           19.3804029129388,
           -99.2035126212572,
           "Pickup"
          ],
          [
           19.3022333,
           -99.1400617,
           "Pickup"
          ],
          [
           19.5029137381424,
           -99.0991019960073,
           "Pickup"
          ],
          [
           19.39943968,
           -99.08263234,
           "Pickup"
          ],
          [
           19.3075147650318,
           -99.264979751151,
           "Pickup"
          ],
          [
           19.2308139324997,
           -99.1190134474499,
           "Pickup"
          ],
          [
           19.522750306685,
           -99.1355597968685,
           "Pickup"
          ],
          [
           19.30654064,
           -99.0608737,
           "Pickup"
          ],
          [
           19.3075847898783,
           -99.0602874410446,
           "Pickup"
          ],
          [
           19.347413791969,
           -99.011232223711,
           "Pickup"
          ],
          [
           19.4850254676575,
           -99.1245954771035,
           "Pickup"
          ],
          [
           19.3306429458062,
           -99.0683761880933,
           "Pickup"
          ],
          [
           19.4385878113616,
           -99.1794982125161,
           "Pickup"
          ],
          [
           19.3076279219218,
           -99.0609159691374,
           "Pickup"
          ],
          [
           19.2718772621766,
           -99.1520846227629,
           "Pickup"
          ],
          [
           19.3075584399648,
           -99.0603340250827,
           "Pickup"
          ],
          [
           19.3308985782652,
           -99.069384012203,
           "Pickup"
          ],
          [
           19.3078370687707,
           -99.0606732339425,
           "Pickup"
          ],
          [
           19.461315065514,
           -99.1960885832324,
           "Pickup"
          ],
          [
           19.3254860119797,
           -99.3287465796063,
           "Pickup"
          ],
          [
           19.3842237250294,
           -99.183504480961,
           "Pickup"
          ],
          [
           19.3108248,
           -99.12394638,
           "Pickup"
          ],
          [
           19.43867016566,
           -99.1796956844728,
           "Pickup"
          ],
          [
           19.325561599212,
           -99.254323331278,
           "Pickup"
          ],
          [
           19.5355245,
           -99.1493141,
           "Pickup"
          ],
          [
           19.4183147456473,
           -99.1694536041222,
           "Pickup"
          ],
          [
           19.3523234906543,
           -99.2469425178314,
           "Pickup"
          ],
          [
           19.38357262,
           -99.08361906,
           "Pickup"
          ],
          [
           19.4386890303277,
           -99.1794959013679,
           "Pickup"
          ],
          [
           19.3658638698187,
           -99.1189463076837,
           "Pickup"
          ],
          [
           19.2994792,
           -99.2238538,
           "Pickup"
          ],
          [
           19.328795767473,
           -99.2550824971352,
           "Pickup"
          ],
          [
           19.3702346658009,
           -99.1799452909091,
           "Pickup"
          ],
          [
           19.3452533360439,
           -99.2278757272527,
           "Pickup"
          ],
          [
           19.3702816227197,
           -99.1800200056063,
           "Pickup"
          ],
          [
           19.3688847471598,
           -99.2249011670517,
           "Pickup"
          ],
          [
           19.3707881146146,
           -99.181740599456,
           "Pickup"
          ],
          [
           19.4066694325897,
           -99.1568329171578,
           "Pickup"
          ],
          [
           19.3714078051204,
           -99.1794897802854,
           "Pickup"
          ],
          [
           19.32542755453,
           -99.2468109940252,
           "Pickup"
          ],
          [
           19.3100760829161,
           -99.1867322586648,
           "Pickup"
          ],
          [
           19.3710128949243,
           -99.1796833436746,
           "Pickup"
          ],
          [
           19.2969664,
           -99.0517344,
           "Pickup"
          ],
          [
           19.4107749070949,
           -99.1841215374613,
           "Pickup"
          ],
          [
           19.452186739532,
           -99.1570834114289,
           "Pickup"
          ],
          [
           19.360393843578,
           -99.1632572540096,
           "Pickup"
          ],
          [
           19.3702265011578,
           -99.1803675273267,
           "Pickup"
          ],
          [
           19.3614377,
           -99.07621596,
           "Pickup"
          ],
          [
           19.3816508442745,
           -99.2022574790932,
           "Pickup"
          ],
          [
           19.352171345805,
           -99.0631247049798,
           "Pickup"
          ],
          [
           19.3706210411306,
           -99.1810092717365,
           "Pickup"
          ],
          [
           19.3385297628299,
           -99.1234769002526,
           "Pickup"
          ],
          [
           19.4615138513772,
           -99.1973366350477,
           "Pickup"
          ],
          [
           19.4118683561863,
           -99.1759825163513,
           "Pickup"
          ],
          [
           19.35925934672,
           -99.0619505575659,
           "Pickup"
          ],
          [
           19.4615611211538,
           -99.1963736538462,
           "Pickup"
          ],
          [
           19.2422907154457,
           -99.0955054889164,
           "Pickup"
          ],
          [
           19.3318652351478,
           -99.0695058181863,
           "Pickup"
          ],
          [
           19.3808119089509,
           -99.2033328901799,
           "Pickup"
          ],
          [
           19.3074018231603,
           -99.0608051791382,
           "Pickup"
          ],
          [
           19.3243049679729,
           -99.2500648078378,
           "Pickup"
          ],
          [
           19.3311902434496,
           -99.0697687062734,
           "Pickup"
          ],
          [
           19.3037717,
           -98.8596567,
           "Pickup"
          ],
          [
           19.370777395982,
           -99.1798890322876,
           "Pickup"
          ],
          [
           19.4386403132557,
           -99.1794138417222,
           "Pickup"
          ],
          [
           19.3041383,
           -99.1429383,
           "Pickup"
          ],
          [
           19.3660335643277,
           -99.1453462870756,
           "Pickup"
          ],
          [
           19.3703662850612,
           -99.1804798155593,
           "Pickup"
          ],
          [
           19.4617862087878,
           -99.196293762251,
           "Pickup"
          ],
          [
           19.2832498329123,
           -99.2035354309133,
           "Pickup"
          ],
          [
           19.4626033482747,
           -99.1958247944412,
           "Pickup"
          ],
          [
           19.4386778579222,
           -99.1794793290843,
           "Pickup"
          ],
          [
           19.4613253372579,
           -99.1965034114733,
           "Pickup"
          ],
          [
           19.385702,
           -99.172145,
           "Pickup"
          ],
          [
           19.3700494301075,
           -99.1799743135507,
           "Pickup"
          ],
          [
           19.3535743251232,
           -99.0619817779774,
           "Pickup"
          ],
          [
           19.4074498392446,
           -99.1845259792308,
           "Pickup"
          ],
          [
           19.4687552768918,
           -99.1291079130947,
           "Pickup"
          ],
          [
           19.3186671840302,
           -99.1127394598869,
           "Pickup"
          ],
          [
           19.3211914,
           -99.2580002,
           "Pickup"
          ],
          [
           19.4089958967442,
           -99.1237007646825,
           "Pickup"
          ],
          [
           19.3038098090134,
           -99.1929580956478,
           "Pickup"
          ],
          [
           19.3653766283314,
           -99.2872382897194,
           "Pickup"
          ],
          [
           19.3701818908089,
           -99.1800750454634,
           "Pickup"
          ],
          [
           19.41429976,
           -99.17636454,
           "Pickup"
          ],
          [
           19.4385954550595,
           -99.1795444556304,
           "Pickup"
          ],
          [
           19.3735185274932,
           -99.1630414729091,
           "Pickup"
          ],
          [
           19.3309441484345,
           -99.0684330967609,
           "Pickup"
          ],
          [
           19.30213034,
           -99.13992468,
           "Pickup"
          ],
          [
           19.4774735023803,
           -99.1799428474106,
           "Pickup"
          ],
          [
           19.325990065223,
           -99.2630097614007,
           "Pickup"
          ],
          [
           19.4385654889228,
           -99.1796622388989,
           "Pickup"
          ],
          [
           19.4251659520629,
           -99.1464131676584,
           "Pickup"
          ],
          [
           19.4583370333435,
           -99.1917650114309,
           "Pickup"
          ],
          [
           19.3687280731772,
           -99.1786511519143,
           "Pickup"
          ],
          [
           19.3771994498871,
           -99.1755063511805,
           "Pickup"
          ],
          [
           19.4618165969794,
           -99.197044654035,
           "Pickup"
          ],
          [
           19.3306755823248,
           -99.0684276685043,
           "Pickup"
          ],
          [
           19.3888993352941,
           -99.1740948294118,
           "Pickup"
          ],
          [
           19.3107053322349,
           -99.2615977967736,
           "Pickup"
          ],
          [
           19.3804650806883,
           -99.2035566717147,
           "Pickup"
          ],
          [
           19.6105757638997,
           -99.0226302967305,
           "Pickup"
          ],
          [
           19.4613998299744,
           -99.1937246667122,
           "Pickup"
          ],
          [
           19.416650879104,
           -99.1692172524433,
           "Pickup"
          ],
          [
           19.4767291952294,
           -99.1800565302134,
           "Pickup"
          ],
          [
           19.3309553901837,
           -99.0696982383009,
           "Pickup"
          ],
          [
           19.6034116046732,
           -99.0278803999992,
           "Pickup"
          ],
          [
           19.3574866,
           -99.157993,
           "Pickup"
          ],
          [
           19.307503168913,
           -99.0607340023165,
           "Pickup"
          ],
          [
           19.325270606225,
           -99.0441116322541,
           "Pickup"
          ]
         ],
         "hovertemplate": "<b>%{hovertext}</b><br><br>location_type=%{customdata[2]}<br>latitude=%{customdata[0]}<br>longitude=%{customdata[1]}<extra></extra>",
         "hovertext": {
          "bdata": "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",
          "dtype": "f8"
         },
         "lat": {
          "bdata": "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",
          "dtype": "f8"
         },
         "legendgroup": "Pickup",
         "lon": {
          "bdata": "aLWngLfAWMDT2cngKMtYwAlxupXIyVjAAvbaB1XSWMDXHeYmxcpYwFO+VvhpxljA/HADegfOWMCc3bNz8cdYwGnOHNcHzVjA5Rs68ZHMWMCBXakL7dBYwC6f4bmqy1jAvhJIid3EWMBX3bj/p8tYwPD5T/s2yljAQ2hOqHHKWMBPji5i4MVYwMGYssYYzFjAL+pJT8fEWMC4GGQJCMZYwB0dH0t3xFjA/IcvgNzLWMAfZN4w+8xYwCL5Qdhwx1jAy8wWWufKWMAjD+kGfMlYwJCO/BD0x1jA13lfDKHKWMDhzw1s8sxYwKPD6F5MxVjAJrQZPt/DWMDai2mGicxYwMwPs4sIy1jAYhnI5kPNWMAN93pXnstYwCtrSEjSy1jAXJ5vRo/AWMC+jpMd9shYwGEZitcDx1jANof9c/DHWMB1q+ek98hYwKQwo6SCzVjAYpWK0YLOWMAyGMhYksdYwLAegoVUy1jArCO0oPDHWMDNARZPEM9YwMFY/3wZzFjA5YyTiJHLWMBeGWTcr8lYwAwLwUWMxFjApMCn3r/LWMDCzAxVkMhYwMp44zyqzljA2WeB7X3LWMBx2k7tjMVYwEqCZhN6y1jAZK93f7zHWMBwwBBiINFYwGq+IMRF01jAQ4Y6SOfFWMBp4LxpCcpYwJQFU4lmzFjAeqPym+3PWMAAnfFNBMZYwDawVYJFxFjAk88MASLMWMCHi2HUh5dYwMuhgAIN0FjA5Xc/E4bKWMDofYiy3MpYwIQ+XpfwzFjAIOxGMHzLWMBcI1soqcJYwPMLoC+QzFjA7Nuu9JzMWMDsbXtJecRYwBRsz1J3y1jAHKuXJmzKWMC1U5JvPslYwEXuc3vPzFjAYhlmhpXLWMDz/Mdq3MNYwHz/bhcbzVjAPHApQgXNWMDrgE3j7MlYwAogD0XjxFjAUzlpst7DWMArzAXKd8RYwM7HtaFiyFjA3ifNWQbNWMAFO1nF9shYwHb05a9XxljAFnkn2UnFWMDuUqFt9dBYwDgllOqdx1jA+Iz/Aq3IWMDwq81a5cNYwFnp2r/bw1jAAmBcB7jAWMDm2E5f+cdYwOXrhEZgxFjAnRwS5nzLWMD0zxcM5sNYwG8/JMG7yVjAPSQ+g9zDWMC90aPJcMRYwKPh/BHiw1jAiQYht4zMWMAuBRgvCtVYwGgZlIm+y1jAsCPMvO7HWMDBAlQigMtYwLmcXdVG0FjAOhW6XI7JWMA6+e1T2MpYwPqE/efNz1jAbQHCA1rFWMAJiWDcfMtYwNBe+dCcx1jAdoXjnlPOWMCTvolFU9BYwIbhQDmEy1jAkAYThJXOWMAbLaFyhctYwG9U3cdkzljAN8FSo6HLWMBCiO6MCcpYwLAStMJ8y1jAauhWwMvPWMC1BNxr88tYwPktke5/y1jAAQXNnU/DWMCseLOlyMtYwDO1lKcNyljAlbONznLKWMA6yD0ki8tYwIfo57jgxFjA6YRayfHMWMBO3TM8CsRYwGOY6aeVy1jAXhmoC+fHWMBJddYpocxYwGIZLExDy1jAuq14//bDWMAwRM1ikcxYwAHfDcMcxljAe/+HyHLEWMCGYfRnA81YwN30Zzvkw1jAz+LSDwHQWMCf7ikXd8RYwGMSiZ0Et1jAZqVJTYPLWMBhqTGEe8tYwCL2ruYlyVjAbGWDWk3JWMCUWjb7jMtYwLhRthOQzFjAZdZ4uQbNWMC897dkiMxYwGgu3pZ8y1jAI3ULg5PMWMDgSnZsBMtYwIC0+7KEy1jAGFdrgvfDWMDBgw1Gz8tYwGEZ1k1DyFjAtUuRHzfHWMAiV0UTg9BYwEyznLbqx1jAkZPpbFnMWMA+ILUcYtJYwNPFe1mGy1jAV95+jknLWMAWRweofctYwFKCgEVvyljAVSM2NWHEWMA1IKWG9MhYwMUxAS+Ey1jAqu/kJtXQWMBnGQyWf8tYwPuyVdVeyVjAOCfB4EXMWMBWtz0Fb8tYwOCj/X47y1jApTsuYZzMWMCFl3EeYcRYwH2uo14ky1jASnavBL7QWMBs+Y8SB81YwM0WWMZywVjARv0k/GXMWMBuSpl01MpYwKks0wuGy1jA1oWZ73XEWMCLjN/KyMFYwM7/q44cyljAF23eEOPDWMDkeZi50sJYwA==",
          "dtype": "f8"
         },
         "marker": {
          "color": "#636efa",
          "size": 12
         },
         "mode": "markers",
         "name": "Pickup",
         "showlegend": true,
         "subplot": "mapbox",
         "type": "scattermapbox"
        },
        {
         "customdata": [
          [
           19.2529621110812,
           -99.0174200935962,
           "Dropoff"
          ],
          [
           19.2957871326923,
           -99.1486697442308,
           "Dropoff"
          ],
          [
           19.4466917625,
           -99.1532001775,
           "Dropoff"
          ],
          [
           19.3213243213542,
           -99.2971943744684,
           "Dropoff"
          ],
          [
           19.3890821,
           -99.1638498,
           "Dropoff"
          ],
          [
           19.24603034,
           -99.09353786,
           "Dropoff"
          ],
          [
           19.3416125,
           -99.1985504,
           "Dropoff"
          ],
          [
           19.4019117,
           -99.11448318,
           "Dropoff"
          ],
          [
           19.278149,
           -99.20131434,
           "Dropoff"
          ],
          [
           19.45931426,
           -99.18817204,
           "Dropoff"
          ],
          [
           19.3288399633879,
           -99.2533372411089,
           "Dropoff"
          ],
          [
           19.385899588307,
           -99.1014720580344,
           "Dropoff"
          ],
          [
           19.35495578,
           -99.07464534,
           "Dropoff"
          ],
          [
           19.4365115583887,
           -99.15243900291,
           "Dropoff"
          ],
          [
           19.33430764,
           -99.16132674,
           "Dropoff"
          ],
          [
           19.3573733327489,
           -99.1779863137104,
           "Dropoff"
          ],
          [
           19.3292758683596,
           -99.0547467462466,
           "Dropoff"
          ],
          [
           19.4004094511431,
           -99.1895236782391,
           "Dropoff"
          ],
          [
           19.3833033498961,
           -99.0658102593151,
           "Dropoff"
          ],
          [
           19.48268098,
           -99.10685966,
           "Dropoff"
          ],
          [
           19.35078368,
           -99.0748208,
           "Dropoff"
          ],
          [
           19.3760957015152,
           -99.1912273757576,
           "Dropoff"
          ],
          [
           19.3799115628571,
           -99.1595634085714,
           "Dropoff"
          ],
          [
           19.365776872,
           -99.116371492,
           "Dropoff"
          ],
          [
           19.3563440890411,
           -99.1371727630137,
           "Dropoff"
          ],
          [
           19.31232334,
           -99.15329268,
           "Dropoff"
          ],
          [
           19.41179128,
           -99.12761654,
           "Dropoff"
          ],
          [
           19.29067906,
           -99.18042554,
           "Dropoff"
          ],
          [
           19.372307579452,
           -99.1724328123288,
           "Dropoff"
          ],
          [
           19.32899856,
           -99.09144958,
           "Dropoff"
          ],
          [
           19.3074947560461,
           -99.0602134040795,
           "Dropoff"
          ],
          [
           19.4611150341051,
           -99.1916670071215,
           "Dropoff"
          ],
          [
           19.41186124,
           -99.17251638,
           "Dropoff"
          ],
          [
           19.454560307693,
           -99.1966569280002,
           "Dropoff"
          ],
          [
           19.2831771574754,
           -99.1753430383804,
           "Dropoff"
          ],
          [
           19.3798987452472,
           -99.1955952689796,
           "Dropoff"
          ],
          [
           19.2582377543131,
           -99.0274665567877,
           "Dropoff"
          ],
          [
           19.31056,
           -99.11000566,
           "Dropoff"
          ],
          [
           19.4187098736234,
           -99.1124071455662,
           "Dropoff"
          ],
          [
           19.4384092082805,
           -99.2000295975124,
           "Dropoff"
          ],
          [
           19.3019497862446,
           -99.1132978524166,
           "Dropoff"
          ],
          [
           19.326214974,
           -99.213667236,
           "Dropoff"
          ],
          [
           19.37871094,
           -99.22000574,
           "Dropoff"
          ],
          [
           19.42404282,
           -99.16124992,
           "Dropoff"
          ],
          [
           19.31806092,
           -99.12964082,
           "Dropoff"
          ],
          [
           19.39409288,
           -99.13551722,
           "Dropoff"
          ],
          [
           19.36644712,
           -99.20865782,
           "Dropoff"
          ],
          [
           19.3846544717286,
           -99.1938312363342,
           "Dropoff"
          ],
          [
           19.32319598,
           -99.17706466,
           "Dropoff"
          ],
          [
           19.3913696352376,
           -99.1674251427808,
           "Dropoff"
          ],
          [
           19.3214630823529,
           -99.092403417647,
           "Dropoff"
          ],
          [
           19.4998903485714,
           -99.1912571285714,
           "Dropoff"
          ],
          [
           19.3893621093064,
           -99.1464563355851,
           "Dropoff"
          ],
          [
           19.33882044,
           -99.21028344,
           "Dropoff"
          ],
          [
           19.4360604550594,
           -99.1667329740012,
           "Dropoff"
          ],
          [
           19.37324034,
           -99.10259844,
           "Dropoff"
          ],
          [
           19.4388542686817,
           -99.1775663828157,
           "Dropoff"
          ],
          [
           19.41675966,
           -99.12152834,
           "Dropoff"
          ],
          [
           19.327177,
           -99.26110134,
           "Dropoff"
          ],
          [
           19.3220614941395,
           -99.3226983657418,
           "Dropoff"
          ],
          [
           19.42314866,
           -99.115235,
           "Dropoff"
          ],
          [
           19.4067164819125,
           -99.1568568569226,
           "Dropoff"
          ],
          [
           19.4626993827671,
           -99.1897847471957,
           "Dropoff"
          ],
          [
           19.3194489774729,
           -99.2114867687709,
           "Dropoff"
          ],
          [
           19.49559234,
           -99.12266434,
           "Dropoff"
          ],
          [
           19.3312192423729,
           -99.0546488779661,
           "Dropoff"
          ],
          [
           19.3021984689811,
           -99.1829786701711,
           "Dropoff"
          ],
          [
           20.09787602,
           -98.3543363,
           "Dropoff"
          ],
          [
           19.31212098,
           -99.26327966,
           "Dropoff"
          ],
          [
           19.46955668,
           -99.15656234,
           "Dropoff"
          ],
          [
           19.3727778841981,
           -99.1635250656783,
           "Dropoff"
          ],
          [
           19.3884963133846,
           -99.1937556674862,
           "Dropoff"
          ],
          [
           19.4437151389286,
           -99.1797174974854,
           "Dropoff"
          ],
          [
           19.28594088,
           -99.04335552,
           "Dropoff"
          ],
          [
           19.4585794685513,
           -99.2027955793001,
           "Dropoff"
          ],
          [
           19.4472502111433,
           -99.2107611573094,
           "Dropoff"
          ],
          [
           19.3233229,
           -99.08791728,
           "Dropoff"
          ],
          [
           19.4268062,
           -99.1613853,
           "Dropoff"
          ],
          [
           19.3741092525862,
           -99.1625579301724,
           "Dropoff"
          ],
          [
           19.442844713007,
           -99.1543605207972,
           "Dropoff"
          ],
          [
           19.42936444,
           -99.19817656,
           "Dropoff"
          ],
          [
           19.4292943201303,
           -99.1581456691261,
           "Dropoff"
          ],
          [
           19.28672194,
           -99.04637942,
           "Dropoff"
          ],
          [
           19.34646378,
           -99.17921946,
           "Dropoff"
          ],
          [
           19.384929188,
           -99.186927392,
           "Dropoff"
          ],
          [
           19.4051142264957,
           -99.0810436316471,
           "Dropoff"
          ],
          [
           19.38730918,
           -99.07485614,
           "Dropoff"
          ],
          [
           19.30267072,
           -99.06355934,
           "Dropoff"
          ],
          [
           19.3329543383562,
           -99.0815859643836,
           "Dropoff"
          ],
          [
           19.29759598,
           -99.13848164,
           "Dropoff"
          ],
          [
           19.3740494,
           -99.2027658123894,
           "Dropoff"
          ],
          [
           19.30220198,
           -99.14028102,
           "Dropoff"
          ],
          [
           19.4708190620948,
           -99.1033589880136,
           "Dropoff"
          ],
          [
           19.3816690058614,
           -99.0823206124956,
           "Dropoff"
          ],
          [
           19.30482176,
           -99.24756742,
           "Dropoff"
          ],
          [
           19.2211640048561,
           -99.1120874419531,
           "Dropoff"
          ],
          [
           19.5097362431581,
           -99.1324215093222,
           "Dropoff"
          ],
          [
           19.3043473596127,
           -99.0585858522107,
           "Dropoff"
          ],
          [
           19.299270842962,
           -99.0415048064153,
           "Dropoff"
          ],
          [
           19.3393936939537,
           -99.0065309945494,
           "Dropoff"
          ],
          [
           19.50150132,
           -99.09409166,
           "Dropoff"
          ],
          [
           19.330447635,
           -99.068288385,
           "Dropoff"
          ],
          [
           19.434712880229,
           -99.1713709278485,
           "Dropoff"
          ],
          [
           19.2903573577088,
           -99.0748622836486,
           "Dropoff"
          ],
          [
           19.26586298,
           -99.1384487,
           "Dropoff"
          ],
          [
           19.29666862,
           -99.00675168,
           "Dropoff"
          ],
          [
           19.3114157180328,
           -99.0526637590164,
           "Dropoff"
          ],
          [
           19.29968182,
           -99.06404052,
           "Dropoff"
          ],
          [
           19.4471971341164,
           -99.1813775991859,
           "Dropoff"
          ],
          [
           19.3046593093974,
           -99.3353268359979,
           "Dropoff"
          ],
          [
           19.38929734,
           -99.18660834,
           "Dropoff"
          ],
          [
           19.31427352,
           -99.1194605,
           "Dropoff"
          ],
          [
           19.4225735301797,
           -99.1700686552316,
           "Dropoff"
          ],
          [
           19.3096837848507,
           -99.2631942346015,
           "Dropoff"
          ],
          [
           19.5279243,
           -99.14665116,
           "Dropoff"
          ],
          [
           19.40905756,
           -99.12393906,
           "Dropoff"
          ],
          [
           19.3544554846164,
           -99.2352383634608,
           "Dropoff"
          ],
          [
           19.39565216,
           -99.06296092,
           "Dropoff"
          ],
          [
           19.4320324193639,
           -99.1763510661656,
           "Dropoff"
          ],
          [
           19.361024,
           -99.12644892,
           "Dropoff"
          ],
          [
           19.2947896787234,
           -99.2228425765958,
           "Dropoff"
          ],
          [
           19.3375196731508,
           -99.2393785104235,
           "Dropoff"
          ],
          [
           19.4664111234694,
           -99.1692472306122,
           "Dropoff"
          ],
          [
           19.37987758,
           -99.20446046,
           "Dropoff"
          ],
          [
           19.383231668639,
           -99.1684824674556,
           "Dropoff"
          ],
          [
           19.36879672,
           -99.22181322,
           "Dropoff"
          ],
          [
           19.40415372,
           -99.241908,
           "Dropoff"
          ],
          [
           19.4097390713407,
           -99.1714455540171,
           "Dropoff"
          ],
          [
           19.3687990626301,
           -99.1787752430463,
           "Dropoff"
          ],
          [
           19.3165497,
           -99.2715195,
           "Dropoff"
          ],
          [
           19.31435214,
           -99.1736549,
           "Dropoff"
          ],
          [
           19.4111565766667,
           -99.1715752566667,
           "Dropoff"
          ],
          [
           19.3074717016866,
           -99.0602532466227,
           "Dropoff"
          ],
          [
           19.43982818,
           -99.18363586,
           "Dropoff"
          ],
          [
           19.4968878608378,
           -99.1132770796298,
           "Dropoff"
          ],
          [
           19.3705215430951,
           -99.1421570723611,
           "Dropoff"
          ],
          [
           19.3726685502886,
           -99.1896958965801,
           "Dropoff"
          ],
          [
           19.3850691435819,
           -99.117146788435,
           "Dropoff"
          ],
          [
           19.39116116,
           -99.17878572,
           "Dropoff"
          ],
          [
           19.3482544611542,
           -99.0718652635778,
           "Dropoff"
          ],
          [
           19.3753756423077,
           -99.2082771346154,
           "Dropoff"
          ],
          [
           19.3442411038345,
           -99.122324132419,
           "Dropoff"
          ],
          [
           19.4587021517078,
           -99.1851960647948,
           "Dropoff"
          ],
          [
           19.3950157519611,
           -99.1561367345034,
           "Dropoff"
          ],
          [
           19.37116036,
           -99.07488284,
           "Dropoff"
          ],
          [
           19.4598898689189,
           -99.189765445946,
           "Dropoff"
          ],
          [
           19.243792663434,
           -99.10183364114,
           "Dropoff"
          ],
          [
           19.31672444,
           -99.08644046,
           "Dropoff"
          ],
          [
           19.3808553917808,
           -99.1998590780822,
           "Dropoff"
          ],
          [
           19.3074776531049,
           -99.0602178933616,
           "Dropoff"
          ],
          [
           19.3247068683496,
           -99.2501151474371,
           "Dropoff"
          ],
          [
           19.3215987287879,
           -99.0700755727273,
           "Dropoff"
          ],
          [
           19.30275136,
           -98.862372,
           "Dropoff"
          ],
          [
           19.4257407020121,
           -99.1588674275654,
           "Dropoff"
          ],
          [
           19.4386819988871,
           -99.1659890299343,
           "Dropoff"
          ],
          [
           19.29582668,
           -99.07123766,
           "Dropoff"
          ],
          [
           19.3373925,
           -99.20940394,
           "Dropoff"
          ],
          [
           19.3663445963308,
           -99.1947191097718,
           "Dropoff"
          ],
          [
           19.45331154,
           -99.1995685,
           "Dropoff"
          ],
          [
           19.2789800469348,
           -99.1999152133016,
           "Dropoff"
          ],
          [
           19.4592512,
           -99.19527696,
           "Dropoff"
          ],
          [
           19.4387845742792,
           -99.1798468790104,
           "Dropoff"
          ],
          [
           19.4498686787234,
           -99.1834942659574,
           "Dropoff"
          ],
          [
           19.4944202580645,
           -99.0931264774194,
           "Dropoff"
          ],
          [
           19.4207293421105,
           -99.0773124231728,
           "Dropoff"
          ],
          [
           19.3790625636285,
           -99.0599304057443,
           "Dropoff"
          ],
          [
           19.3968344090917,
           -99.2416155712993,
           "Dropoff"
          ],
          [
           19.4731721606068,
           -99.1454199174274,
           "Dropoff"
          ],
          [
           19.3607323402824,
           -99.1104052278102,
           "Dropoff"
          ],
          [
           19.31347176,
           -99.25661062,
           "Dropoff"
          ],
          [
           19.40204236,
           -99.15359566,
           "Dropoff"
          ],
          [
           19.2719896943821,
           -99.1521242977534,
           "Dropoff"
          ],
          [
           19.3532261369364,
           -99.3106122539029,
           "Dropoff"
          ],
          [
           19.37461119854,
           -99.1810911279024,
           "Dropoff"
          ],
          [
           19.4021752722803,
           -99.1654926722541,
           "Dropoff"
          ],
          [
           19.4327084359683,
           -99.1744634407771,
           "Dropoff"
          ],
          [
           19.3736202766611,
           -99.1726609482485,
           "Dropoff"
          ],
          [
           19.3594484153846,
           -99.1044123134616,
           "Dropoff"
          ],
          [
           19.30603868,
           -99.12734998,
           "Dropoff"
          ],
          [
           19.479333095,
           -99.186766695,
           "Dropoff"
          ],
          [
           19.32822075,
           -99.2712934266667,
           "Dropoff"
          ],
          [
           19.4473933943188,
           -99.1714100204408,
           "Dropoff"
          ],
          [
           19.42935054,
           -99.05382068,
           "Dropoff"
          ],
          [
           19.459563441585,
           -99.1939031812297,
           "Dropoff"
          ],
          [
           19.3550796508475,
           -99.1086344525424,
           "Dropoff"
          ],
          [
           19.4325094264592,
           -99.1965831105058,
           "Dropoff"
          ],
          [
           19.4615234887272,
           -99.1959287629517,
           "Dropoff"
          ],
          [
           19.3110772411765,
           -99.1421631294118,
           "Dropoff"
          ],
          [
           19.3903504857515,
           -99.169538982085,
           "Dropoff"
          ],
          [
           19.31363,
           -99.25870334,
           "Dropoff"
          ],
          [
           19.38915728,
           -99.2011729,
           "Dropoff"
          ],
          [
           19.6112913939394,
           -99.021365919697,
           "Dropoff"
          ],
          [
           19.4556072012997,
           -99.201174274552,
           "Dropoff"
          ],
          [
           19.5923490521212,
           -99.0095616910606,
           "Dropoff"
          ],
          [
           19.4526853,
           -99.2202273125,
           "Dropoff"
          ],
          [
           19.3284675118644,
           -99.0776639389831,
           "Dropoff"
          ],
          [
           19.62016594,
           -99.00076802,
           "Dropoff"
          ],
          [
           19.3498588,
           -99.15604162,
           "Dropoff"
          ],
          [
           19.28211456,
           -99.05555884,
           "Dropoff"
          ],
          [
           19.32771278,
           -99.03572128,
           "Dropoff"
          ]
         ],
         "hovertemplate": "<b>%{hovertext}</b><br><br>location_type=%{customdata[2]}<br>latitude=%{customdata[0]}<br>longitude=%{customdata[1]}<extra></extra>",
         "hovertext": {
          "bdata": "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",
          "dtype": "f8"
         },
         "lat": {
          "bdata": "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",
          "dtype": "f8"
         },
         "legendgroup": "Dropoff",
         "lon": {
          "bdata": "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",
          "dtype": "f8"
         },
         "marker": {
          "color": "#EF553B",
          "size": 12
         },
         "mode": "markers",
         "name": "Dropoff",
         "showlegend": true,
         "subplot": "mapbox",
         "type": "scattermapbox"
        },
        {
         "lat": [
          19.2462766769197,
          19.2529621110812
         ],
         "line": {
          "color": "black",
          "width": 1
         },
         "lon": [
          -99.0112001073627,
          -99.0174200935962
         ],
         "mode": "lines",
         "name": "Trip 5603",
         "showlegend": false,
         "type": "scattermapbox"
        },
        {
         "lat": [
          19.3777182,
          19.2957871326923
         ],
         "line": {
          "color": "black",
          "width": 1
         },
         "lon": [
          -99.17437,
          -99.1486697442308
         ],
         "mode": "lines",
         "name": "Trip 9799",
         "showlegend": false,
         "type": "scattermapbox"
        },
        {
         "lat": [
          19.4468149991361,
          19.4466917625
         ],
         "line": {
          "color": "black",
          "width": 1
         },
         "lon": [
          -99.1528677292555,
          -99.1532001775
         ],
         "mode": "lines",
         "name": "Trip 4084",
         "showlegend": false,
         "type": "scattermapbox"
        },
        {
         "lat": [
          19.3298567788672,
          19.3213243213542
         ],
         "line": {
          "color": "black",
          "width": 1
         },
         "lon": [
          -99.2864398611346,
          -99.2971943744684
         ],
         "mode": "lines",
         "name": "Trip 56",
         "showlegend": false,
         "type": "scattermapbox"
        },
        {
         "lat": [
          19.3901471,
          19.3890821
         ],
         "line": {
          "color": "black",
          "width": 1
         },
         "lon": [
          -99.1682832,
          -99.1638498
         ],
         "mode": "lines",
         "name": "Trip 485",
         "showlegend": false,
         "type": "scattermapbox"
        },
        {
         "lat": [
          19.2390133,
          19.24603034
         ],
         "line": {
          "color": "black",
          "width": 1
         },
         "lon": [
          -99.1002179,
          -99.09353786
         ],
         "mode": "lines",
         "name": "Trip 6385",
         "showlegend": false,
         "type": "scattermapbox"
        },
        {
         "lat": [
          19.3333020752353,
          19.3416125
         ],
         "line": {
          "color": "black",
          "width": 1
         },
         "lon": [
          -99.2192063363654,
          -99.1985504
         ],
         "mode": "lines",
         "name": "Trip 10333",
         "showlegend": false,
         "type": "scattermapbox"
        },
        {
         "lat": [
          19.4089903482696,
          19.4019117
         ],
         "line": {
          "color": "black",
          "width": 1
         },
         "lon": [
          -99.1241120583058,
          -99.11448318
         ],
         "mode": "lines",
         "name": "Trip 12423",
         "showlegend": false,
         "type": "scattermapbox"
        },
        {
         "lat": [
          19.2833276847509,
          19.278149
         ],
         "line": {
          "color": "black",
          "width": 1
         },
         "lon": [
          -99.2036035329162,
          -99.20131434
         ],
         "mode": "lines",
         "name": "Trip 7061",
         "showlegend": false,
         "type": "scattermapbox"
        },
        {
         "lat": [
          19.4614056831686,
          19.45931426
         ],
         "line": {
          "color": "black",
          "width": 1
         },
         "lon": [
          -99.196407610652,
          -99.18817204
         ],
         "mode": "lines",
         "name": "Trip 8865",
         "showlegend": false,
         "type": "scattermapbox"
        },
        {
         "lat": [
          19.3207844874243,
          19.3288399633879
         ],
         "line": {
          "color": "black",
          "width": 1
         },
         "lon": [
          -99.2644681123693,
          -99.2533372411089
         ],
         "mode": "lines",
         "name": "Trip 4159",
         "showlegend": false,
         "type": "scattermapbox"
        },
        {
         "lat": [
          19.3716061330331,
          19.385899588307
         ],
         "line": {
          "color": "black",
          "width": 1
         },
         "lon": [
          -99.1822952941263,
          -99.1014720580344
         ],
         "mode": "lines",
         "name": "Trip 4150",
         "showlegend": false,
         "type": "scattermapbox"
        },
        {
         "lat": [
          19.3613166,
          19.35495578
         ],
         "line": {
          "color": "black",
          "width": 1
         },
         "lon": [
          -99.0760215,
          -99.07464534
         ],
         "mode": "lines",
         "name": "Trip 10441",
         "showlegend": false,
         "type": "scattermapbox"
        },
        {
         "lat": [
          19.40724282,
          19.4365115583887
         ],
         "line": {
          "color": "black",
          "width": 1
         },
         "lon": [
          -99.18212884,
          -99.15243900291
         ],
         "mode": "lines",
         "name": "Trip 319",
         "showlegend": false,
         "type": "scattermapbox"
        },
        {
         "lat": [
          19.3507884328145,
          19.33430764
         ],
         "line": {
          "color": "black",
          "width": 1
         },
         "lon": [
          -99.1596058159846,
          -99.16132674
         ],
         "mode": "lines",
         "name": "Trip 5330",
         "showlegend": false,
         "type": "scattermapbox"
        },
        {
         "lat": [
          19.3737612,
          19.3573733327489
         ],
         "line": {
          "color": "black",
          "width": 1
         },
         "lon": [
          -99.1631871,
          -99.1779863137104
         ],
         "mode": "lines",
         "name": "Trip 7388",
         "showlegend": false,
         "type": "scattermapbox"
        },
        {
         "lat": [
          19.3214030206825,
          19.3292758683596
         ],
         "line": {
          "color": "black",
          "width": 1
         },
         "lon": [
          -99.0918202833793,
          -99.0547467462466
         ],
         "mode": "lines",
         "name": "Trip 7179",
         "showlegend": false,
         "type": "scattermapbox"
        },
        {
         "lat": [
          19.3849621070212,
          19.4004094511431
         ],
         "line": {
          "color": "black",
          "width": 1
         },
         "lon": [
          -99.1890122169598,
          -99.1895236782391
         ],
         "mode": "lines",
         "name": "Trip 9540",
         "showlegend": false,
         "type": "scattermapbox"
        },
        {
         "lat": [
          19.3677974,
          19.3833033498961
         ],
         "line": {
          "color": "black",
          "width": 1
         },
         "lon": [
          -99.0746649,
          -99.0658102593151
         ],
         "mode": "lines",
         "name": "Trip 11801",
         "showlegend": false,
         "type": "scattermapbox"
        },
        {
         "lat": [
          19.4777140391343,
          19.48268098
         ],
         "line": {
          "color": "black",
          "width": 1
         },
         "lon": [
          -99.0942405202394,
          -99.10685966
         ],
         "mode": "lines",
         "name": "Trip 5179",
         "showlegend": false,
         "type": "scattermapbox"
        },
        {
         "lat": [
          19.3309932060101,
          19.35078368
         ],
         "line": {
          "color": "black",
          "width": 1
         },
         "lon": [
          -99.0697810939641,
          -99.0748208
         ],
         "mode": "lines",
         "name": "Trip 5701",
         "showlegend": false,
         "type": "scattermapbox"
        },
        {
         "lat": [
          19.3752965953128,
          19.3760957015152
         ],
         "line": {
          "color": "black",
          "width": 1
         },
         "lon": [
          -99.18533329622,
          -99.1912273757576
         ],
         "mode": "lines",
         "name": "Trip 2549",
         "showlegend": false,
         "type": "scattermapbox"
        },
        {
         "lat": [
          19.3812545250781,
          19.3799115628571
         ],
         "line": {
          "color": "black",
          "width": 1
         },
         "lon": [
          -99.2028314754284,
          -99.1595634085714
         ],
         "mode": "lines",
         "name": "Trip 4629",
         "showlegend": false,
         "type": "scattermapbox"
        },
        {
         "lat": [
          19.365631487094,
          19.365776872
         ],
         "line": {
          "color": "black",
          "width": 1
         },
         "lon": [
          -99.1162624973554,
          -99.116371492
         ],
         "mode": "lines",
         "name": "Trip 6129",
         "showlegend": false,
         "type": "scattermapbox"
        },
        {
         "lat": [
          19.3860953,
          19.3563440890411
         ],
         "line": {
          "color": "black",
          "width": 1
         },
         "lon": [
          -99.1703706,
          -99.1371727630137
         ],
         "mode": "lines",
         "name": "Trip 5585",
         "showlegend": false,
         "type": "scattermapbox"
        },
        {
         "lat": [
          19.3066336196724,
          19.31232334
         ],
         "line": {
          "color": "black",
          "width": 1
         },
         "lon": [
          -99.1481950069397,
          -99.15329268
         ],
         "mode": "lines",
         "name": "Trip 253",
         "showlegend": false,
         "type": "scattermapbox"
        },
        {
         "lat": [
          19.4089158262467,
          19.41179128
         ],
         "line": {
          "color": "black",
          "width": 1
         },
         "lon": [
          -99.1242716280342,
          -99.12761654
         ],
         "mode": "lines",
         "name": "Trip 12479",
         "showlegend": false,
         "type": "scattermapbox"
        },
        {
         "lat": [
          19.3082624414189,
          19.29067906
         ],
         "line": {
          "color": "black",
          "width": 1
         },
         "lon": [
          -99.1660796100981,
          -99.18042554
         ],
         "mode": "lines",
         "name": "Trip 4873",
         "showlegend": false,
         "type": "scattermapbox"
        },
        {
         "lat": [
          19.3816956969894,
          19.372307579452
         ],
         "line": {
          "color": "black",
          "width": 1
         },
         "lon": [
          -99.2022962698825,
          -99.1724328123288
         ],
         "mode": "lines",
         "name": "Trip 829",
         "showlegend": false,
         "type": "scattermapbox"
        },
        {
         "lat": [
          19.32753576,
          19.32899856
         ],
         "line": {
          "color": "black",
          "width": 1
         },
         "lon": [
          -99.0827863,
          -99.09144958
         ],
         "mode": "lines",
         "name": "Trip 5038",
         "showlegend": false,
         "type": "scattermapbox"
        },
        {
         "lat": [
          19.3075276870877,
          19.3074947560461
         ],
         "line": {
          "color": "black",
          "width": 1
         },
         "lon": [
          -99.0605006457341,
          -99.0602134040795
         ],
         "mode": "lines",
         "name": "Trip 9136",
         "showlegend": false,
         "type": "scattermapbox"
        },
        {
         "lat": [
          19.4615509091703,
          19.4611150341051
         ],
         "line": {
          "color": "black",
          "width": 1
         },
         "lon": [
          -99.1958938627935,
          -99.1916670071215
         ],
         "mode": "lines",
         "name": "Trip 11091",
         "showlegend": false,
         "type": "scattermapbox"
        },
        {
         "lat": [
          19.4118287980969,
          19.41186124
         ],
         "line": {
          "color": "black",
          "width": 1
         },
         "lon": [
          -99.1723965881967,
          -99.17251638
         ],
         "mode": "lines",
         "name": "Trip 5061",
         "showlegend": false,
         "type": "scattermapbox"
        },
        {
         "lat": [
          19.4403917463677,
          19.454560307693
         ],
         "line": {
          "color": "black",
          "width": 1
         },
         "lon": [
          -99.2072693780988,
          -99.1966569280002
         ],
         "mode": "lines",
         "name": "Trip 11035",
         "showlegend": false,
         "type": "scattermapbox"
        },
        {
         "lat": [
          19.2941694872723,
          19.2831771574754
         ],
         "line": {
          "color": "black",
          "width": 1
         },
         "lon": [
          -99.181539411624,
          -99.1753430383804
         ],
         "mode": "lines",
         "name": "Trip 7987",
         "showlegend": false,
         "type": "scattermapbox"
        },
        {
         "lat": [
          19.370536380026,
          19.3798987452472
         ],
         "line": {
          "color": "black",
          "width": 1
         },
         "lon": [
          -99.1847096163953,
          -99.1955952689796
         ],
         "mode": "lines",
         "name": "Trip 1218",
         "showlegend": false,
         "type": "scattermapbox"
        },
        {
         "lat": [
          19.2758261111567,
          19.2582377543131
         ],
         "line": {
          "color": "black",
          "width": 1
         },
         "lon": [
          -99.0087448205972,
          -99.0274665567877
         ],
         "mode": "lines",
         "name": "Trip 7506",
         "showlegend": false,
         "type": "scattermapbox"
        },
        {
         "lat": [
          19.3022083,
          19.31056
         ],
         "line": {
          "color": "black",
          "width": 1
         },
         "lon": [
          -99.1400217,
          -99.11000566
         ],
         "mode": "lines",
         "name": "Trip 11399",
         "showlegend": false,
         "type": "scattermapbox"
        },
        {
         "lat": [
          19.440984430741,
          19.4187098736234
         ],
         "line": {
          "color": "black",
          "width": 1
         },
         "lon": [
          -99.1096094940781,
          -99.1124071455662
         ],
         "mode": "lines",
         "name": "Trip 3916",
         "showlegend": false,
         "type": "scattermapbox"
        },
        {
         "lat": [
          19.4090446845781,
          19.4384092082805
         ],
         "line": {
          "color": "black",
          "width": 1
         },
         "lon": [
          -99.1240510917531,
          -99.2000295975124
         ],
         "mode": "lines",
         "name": "Trip 12405",
         "showlegend": false,
         "type": "scattermapbox"
        },
        {
         "lat": [
          19.30219,
          19.3019497862446
         ],
         "line": {
          "color": "black",
          "width": 1
         },
         "lon": [
          -99.140115,
          -99.1132978524166
         ],
         "mode": "lines",
         "name": "Trip 1642",
         "showlegend": false,
         "type": "scattermapbox"
        },
        {
         "lat": [
          19.3306879312597,
          19.326214974
         ],
         "line": {
          "color": "black",
          "width": 1
         },
         "lon": [
          -99.211098822942,
          -99.213667236
         ],
         "mode": "lines",
         "name": "Trip 1309",
         "showlegend": false,
         "type": "scattermapbox"
        },
        {
         "lat": [
          19.3657294031294,
          19.37871094
         ],
         "line": {
          "color": "black",
          "width": 1
         },
         "lon": [
          -99.2267345288615,
          -99.22000574
         ],
         "mode": "lines",
         "name": "Trip 4343",
         "showlegend": false,
         "type": "scattermapbox"
        },
        {
         "lat": [
          19.4452167,
          19.42404282
         ],
         "line": {
          "color": "black",
          "width": 1
         },
         "lon": [
          -99.1183073,
          -99.16124992
         ],
         "mode": "lines",
         "name": "Trip 10203",
         "showlegend": false,
         "type": "scattermapbox"
        },
        {
         "lat": [
          19.3684755713629,
          19.31806092
         ],
         "line": {
          "color": "black",
          "width": 1
         },
         "lon": [
          -99.1770337839796,
          -99.12964082
         ],
         "mode": "lines",
         "name": "Trip 4533",
         "showlegend": false,
         "type": "scattermapbox"
        },
        {
         "lat": [
          19.4090430189115,
          19.39409288
         ],
         "line": {
          "color": "black",
          "width": 1
         },
         "lon": [
          -99.1240617522405,
          -99.13551722
         ],
         "mode": "lines",
         "name": "Trip 8134",
         "showlegend": false,
         "type": "scattermapbox"
        },
        {
         "lat": [
          19.3544512193196,
          19.36644712
         ],
         "line": {
          "color": "black",
          "width": 1
         },
         "lon": [
          -99.2353704180634,
          -99.20865782
         ],
         "mode": "lines",
         "name": "Trip 993",
         "showlegend": false,
         "type": "scattermapbox"
        },
        {
         "lat": [
          19.3851881642603,
          19.3846544717286
         ],
         "line": {
          "color": "black",
          "width": 1
         },
         "lon": [
          -99.1890556806202,
          -99.1938312363342
         ],
         "mode": "lines",
         "name": "Trip 4742",
         "showlegend": false,
         "type": "scattermapbox"
        },
        {
         "lat": [
          19.33481834,
          19.32319598
         ],
         "line": {
          "color": "black",
          "width": 1
         },
         "lon": [
          -99.18075766,
          -99.17706466
         ],
         "mode": "lines",
         "name": "Trip 10134",
         "showlegend": false,
         "type": "scattermapbox"
        },
        {
         "lat": [
          19.4027768494742,
          19.3913696352376
         ],
         "line": {
          "color": "black",
          "width": 1
         },
         "lon": [
          -99.1513586976557,
          -99.1674251427808
         ],
         "mode": "lines",
         "name": "Trip 1826",
         "showlegend": false,
         "type": "scattermapbox"
        },
        {
         "lat": [
          19.3311110915254,
          19.3214630823529
         ],
         "line": {
          "color": "black",
          "width": 1
         },
         "lon": [
          -99.0710615525424,
          -99.092403417647
         ],
         "mode": "lines",
         "name": "Trip 9703",
         "showlegend": false,
         "type": "scattermapbox"
        },
        {
         "lat": [
          19.5028641,
          19.4998903485714
         ],
         "line": {
          "color": "black",
          "width": 1
         },
         "lon": [
          -99.1835858,
          -99.1912571285714
         ],
         "mode": "lines",
         "name": "Trip 1947",
         "showlegend": false,
         "type": "scattermapbox"
        },
        {
         "lat": [
          19.38555024,
          19.3893621093064
         ],
         "line": {
          "color": "black",
          "width": 1
         },
         "lon": [
          -99.13380934,
          -99.1464563355851
         ],
         "mode": "lines",
         "name": "Trip 11075",
         "showlegend": false,
         "type": "scattermapbox"
        },
        {
         "lat": [
          19.3451672476506,
          19.33882044
         ],
         "line": {
          "color": "black",
          "width": 1
         },
         "lon": [
          -99.2291404935269,
          -99.21028344
         ],
         "mode": "lines",
         "name": "Trip 11470",
         "showlegend": false,
         "type": "scattermapbox"
        },
        {
         "lat": [
          19.4386272036257,
          19.4360604550594
         ],
         "line": {
          "color": "black",
          "width": 1
         },
         "lon": [
          -99.1795610202529,
          -99.1667329740012
         ],
         "mode": "lines",
         "name": "Trip 12100",
         "showlegend": false,
         "type": "scattermapbox"
        },
        {
         "lat": [
          19.3941067276395,
          19.37324034
         ],
         "line": {
          "color": "black",
          "width": 1
         },
         "lon": [
          -99.0867265005161,
          -99.10259844
         ],
         "mode": "lines",
         "name": "Trip 2570",
         "showlegend": false,
         "type": "scattermapbox"
        },
        {
         "lat": [
          19.4386809165142,
          19.4388542686817
         ],
         "line": {
          "color": "black",
          "width": 1
         },
         "lon": [
          -99.1793259144844,
          -99.1775663828157
         ],
         "mode": "lines",
         "name": "Trip 3189",
         "showlegend": false,
         "type": "scattermapbox"
        },
        {
         "lat": [
          19.4167583,
          19.41675966
         ],
         "line": {
          "color": "black",
          "width": 1
         },
         "lon": [
          -99.12088,
          -99.12152834
         ],
         "mode": "lines",
         "name": "Trip 720",
         "showlegend": false,
         "type": "scattermapbox"
        },
        {
         "lat": [
          19.323826505622,
          19.327177
         ],
         "line": {
          "color": "black",
          "width": 1
         },
         "lon": [
          -99.267601505622,
          -99.26110134
         ],
         "mode": "lines",
         "name": "Trip 6890",
         "showlegend": false,
         "type": "scattermapbox"
        },
        {
         "lat": [
          19.3567574309813,
          19.3220614941395
         ],
         "line": {
          "color": "black",
          "width": 1
         },
         "lon": [
          -99.3011331863178,
          -99.3226983657418
         ],
         "mode": "lines",
         "name": "Trip 7496",
         "showlegend": false,
         "type": "scattermapbox"
        },
        {
         "lat": [
          19.4380468403149,
          19.42314866
         ],
         "line": {
          "color": "black",
          "width": 1
         },
         "lon": [
          -99.0922413417366,
          -99.115235
         ],
         "mode": "lines",
         "name": "Trip 7792",
         "showlegend": false,
         "type": "scattermapbox"
        },
        {
         "lat": [
          19.4066846756978,
          19.4067164819125
         ],
         "line": {
          "color": "black",
          "width": 1
         },
         "lon": [
          -99.1568245262621,
          -99.1568568569226
         ],
         "mode": "lines",
         "name": "Trip 10288",
         "showlegend": false,
         "type": "scattermapbox"
        },
        {
         "lat": [
          19.4639972469555,
          19.4626993827671
         ],
         "line": {
          "color": "black",
          "width": 1
         },
         "lon": [
          -99.1937583266029,
          -99.1897847471957
         ],
         "mode": "lines",
         "name": "Trip 4998",
         "showlegend": false,
         "type": "scattermapbox"
        },
        {
         "lat": [
          19.3037933205316,
          19.3194489774729
         ],
         "line": {
          "color": "black",
          "width": 1
         },
         "lon": [
          -99.2488775128858,
          -99.2114867687709
         ],
         "mode": "lines",
         "name": "Trip 10086",
         "showlegend": false,
         "type": "scattermapbox"
        },
        {
         "lat": [
          19.477805258227,
          19.49559234
         ],
         "line": {
          "color": "black",
          "width": 1
         },
         "lon": [
          -99.0940127238755,
          -99.12266434
         ],
         "mode": "lines",
         "name": "Trip 10281",
         "showlegend": false,
         "type": "scattermapbox"
        },
        {
         "lat": [
          19.33239126,
          19.3312192423729
         ],
         "line": {
          "color": "black",
          "width": 1
         },
         "lon": [
          -99.0667425,
          -99.0546488779661
         ],
         "mode": "lines",
         "name": "Trip 4368",
         "showlegend": false,
         "type": "scattermapbox"
        },
        {
         "lat": [
          19.3022148351598,
          19.3021984689811
         ],
         "line": {
          "color": "black",
          "width": 1
         },
         "lon": [
          -99.1895754456621,
          -99.1829786701711
         ],
         "mode": "lines",
         "name": "Trip 11803",
         "showlegend": false,
         "type": "scattermapbox"
        },
        {
         "lat": [
          20.0917679337557,
          20.09787602
         ],
         "line": {
          "color": "black",
          "width": 1
         },
         "lon": [
          -98.3676653816784,
          -98.3543363
         ],
         "mode": "lines",
         "name": "Trip 3948",
         "showlegend": false,
         "type": "scattermapbox"
        },
        {
         "lat": [
          19.3032265450249,
          19.31212098
         ],
         "line": {
          "color": "black",
          "width": 1
         },
         "lon": [
          -99.2507940536663,
          -99.26327966
         ],
         "mode": "lines",
         "name": "Trip 3570",
         "showlegend": false,
         "type": "scattermapbox"
        },
        {
         "lat": [
          19.45039,
          19.46955668
         ],
         "line": {
          "color": "black",
          "width": 1
         },
         "lon": [
          -99.1644333,
          -99.15656234
         ],
         "mode": "lines",
         "name": "Trip 7418",
         "showlegend": false,
         "type": "scattermapbox"
        },
        {
         "lat": [
          19.3909634,
          19.3727778841981
         ],
         "line": {
          "color": "black",
          "width": 1
         },
         "lon": [
          -99.1697203,
          -99.1635250656783
         ],
         "mode": "lines",
         "name": "Trip 4135",
         "showlegend": false,
         "type": "scattermapbox"
        },
        {
         "lat": [
          19.3760424142389,
          19.3884963133846
         ],
         "line": {
          "color": "black",
          "width": 1
         },
         "lon": [
          -99.2021845264772,
          -99.1937556674862
         ],
         "mode": "lines",
         "name": "Trip 12688",
         "showlegend": false,
         "type": "scattermapbox"
        },
        {
         "lat": [
          19.4386154538591,
          19.4437151389286
         ],
         "line": {
          "color": "black",
          "width": 1
         },
         "lon": [
          -99.1794548695184,
          -99.1797174974854
         ],
         "mode": "lines",
         "name": "Trip 4641",
         "showlegend": false,
         "type": "scattermapbox"
        },
        {
         "lat": [
          19.2854075941475,
          19.28594088
         ],
         "line": {
          "color": "black",
          "width": 1
         },
         "lon": [
          -99.0415745630284,
          -99.04335552
         ],
         "mode": "lines",
         "name": "Trip 6701",
         "showlegend": false,
         "type": "scattermapbox"
        },
        {
         "lat": [
          19.4616997352327,
          19.4585794685513
         ],
         "line": {
          "color": "black",
          "width": 1
         },
         "lon": [
          -99.1963004172283,
          -99.2027955793001
         ],
         "mode": "lines",
         "name": "Trip 10707",
         "showlegend": false,
         "type": "scattermapbox"
        },
        {
         "lat": [
          19.4621505447403,
          19.4472502111433
         ],
         "line": {
          "color": "black",
          "width": 1
         },
         "lon": [
          -99.1970798213585,
          -99.2107611573094
         ],
         "mode": "lines",
         "name": "Trip 4969",
         "showlegend": false,
         "type": "scattermapbox"
        },
        {
         "lat": [
          19.330847738056,
          19.3233229
         ],
         "line": {
          "color": "black",
          "width": 1
         },
         "lon": [
          -99.0699027734151,
          -99.08791728
         ],
         "mode": "lines",
         "name": "Trip 9698",
         "showlegend": false,
         "type": "scattermapbox"
        },
        {
         "lat": [
          19.3737697482984,
          19.4268062
         ],
         "line": {
          "color": "black",
          "width": 1
         },
         "lon": [
          -99.1791579270942,
          -99.1613853
         ],
         "mode": "lines",
         "name": "Trip 6665",
         "showlegend": false,
         "type": "scattermapbox"
        },
        {
         "lat": [
          19.3737951605777,
          19.3741092525862
         ],
         "line": {
          "color": "black",
          "width": 1
         },
         "lon": [
          -99.1628509980332,
          -99.1625579301724
         ],
         "mode": "lines",
         "name": "Trip 7534",
         "showlegend": false,
         "type": "scattermapbox"
        },
        {
         "lat": [
          19.4589579409786,
          19.442844713007
         ],
         "line": {
          "color": "black",
          "width": 1
         },
         "lon": [
          -99.1444357804274,
          -99.1543605207972
         ],
         "mode": "lines",
         "name": "Trip 632",
         "showlegend": false,
         "type": "scattermapbox"
        },
        {
         "lat": [
          19.4297467222782,
          19.42936444
         ],
         "line": {
          "color": "black",
          "width": 1
         },
         "lon": [
          -99.2001637107979,
          -99.19817656
         ],
         "mode": "lines",
         "name": "Trip 5783",
         "showlegend": false,
         "type": "scattermapbox"
        },
        {
         "lat": [
          19.3709311327146,
          19.4292943201303
         ],
         "line": {
          "color": "black",
          "width": 1
         },
         "lon": [
          -99.1810012814581,
          -99.1581456691261
         ],
         "mode": "lines",
         "name": "Trip 6656",
         "showlegend": false,
         "type": "scattermapbox"
        },
        {
         "lat": [
          19.3075621837791,
          19.28672194
         ],
         "line": {
          "color": "black",
          "width": 1
         },
         "lon": [
          -99.0603281929978,
          -99.04637942
         ],
         "mode": "lines",
         "name": "Trip 5813",
         "showlegend": false,
         "type": "scattermapbox"
        },
        {
         "lat": [
          19.2863556722803,
          19.34646378
         ],
         "line": {
          "color": "black",
          "width": 1
         },
         "lon": [
          -99.204778536221,
          -99.17921946
         ],
         "mode": "lines",
         "name": "Trip 7181",
         "showlegend": false,
         "type": "scattermapbox"
        },
        {
         "lat": [
          19.3807816375,
          19.384929188
         ],
         "line": {
          "color": "black",
          "width": 1
         },
         "lon": [
          -99.20344595,
          -99.186927392
         ],
         "mode": "lines",
         "name": "Trip 773",
         "showlegend": false,
         "type": "scattermapbox"
        },
        {
         "lat": [
          19.4019508964464,
          19.4051142264957
         ],
         "line": {
          "color": "black",
          "width": 1
         },
         "lon": [
          -99.1550834900733,
          -99.0810436316471
         ],
         "mode": "lines",
         "name": "Trip 10104",
         "showlegend": false,
         "type": "scattermapbox"
        },
        {
         "lat": [
          19.3614315276871,
          19.38730918
         ],
         "line": {
          "color": "black",
          "width": 1
         },
         "lon": [
          -99.0763714454371,
          -99.07485614
         ],
         "mode": "lines",
         "name": "Trip 11560",
         "showlegend": false,
         "type": "scattermapbox"
        },
        {
         "lat": [
          19.3074986741506,
          19.30267072
         ],
         "line": {
          "color": "black",
          "width": 1
         },
         "lon": [
          -99.060467341192,
          -99.06355934
         ],
         "mode": "lines",
         "name": "Trip 5673",
         "showlegend": false,
         "type": "scattermapbox"
        },
        {
         "lat": [
          19.3309922652984,
          19.3329543383562
         ],
         "line": {
          "color": "black",
          "width": 1
         },
         "lon": [
          -99.0698113495461,
          -99.0815859643836
         ],
         "mode": "lines",
         "name": "Trip 3537",
         "showlegend": false,
         "type": "scattermapbox"
        },
        {
         "lat": [
          19.3204517,
          19.29759598
         ],
         "line": {
          "color": "black",
          "width": 1
         },
         "lon": [
          -99.13102,
          -99.13848164
         ],
         "mode": "lines",
         "name": "Trip 8374",
         "showlegend": false,
         "type": "scattermapbox"
        },
        {
         "lat": [
          19.3804029129388,
          19.3740494
         ],
         "line": {
          "color": "black",
          "width": 1
         },
         "lon": [
          -99.2035126212572,
          -99.2027658123894
         ],
         "mode": "lines",
         "name": "Trip 832",
         "showlegend": false,
         "type": "scattermapbox"
        },
        {
         "lat": [
          19.3022333,
          19.30220198
         ],
         "line": {
          "color": "black",
          "width": 1
         },
         "lon": [
          -99.1400617,
          -99.14028102
         ],
         "mode": "lines",
         "name": "Trip 8830",
         "showlegend": false,
         "type": "scattermapbox"
        },
        {
         "lat": [
          19.5029137381424,
          19.4708190620948
         ],
         "line": {
          "color": "black",
          "width": 1
         },
         "lon": [
          -99.0991019960073,
          -99.1033589880136
         ],
         "mode": "lines",
         "name": "Trip 928",
         "showlegend": false,
         "type": "scattermapbox"
        },
        {
         "lat": [
          19.39943968,
          19.3816690058614
         ],
         "line": {
          "color": "black",
          "width": 1
         },
         "lon": [
          -99.08263234,
          -99.0823206124956
         ],
         "mode": "lines",
         "name": "Trip 7311",
         "showlegend": false,
         "type": "scattermapbox"
        },
        {
         "lat": [
          19.3075147650318,
          19.30482176
         ],
         "line": {
          "color": "black",
          "width": 1
         },
         "lon": [
          -99.264979751151,
          -99.24756742
         ],
         "mode": "lines",
         "name": "Trip 10986",
         "showlegend": false,
         "type": "scattermapbox"
        },
        {
         "lat": [
          19.2308139324997,
          19.2211640048561
         ],
         "line": {
          "color": "black",
          "width": 1
         },
         "lon": [
          -99.1190134474499,
          -99.1120874419531
         ],
         "mode": "lines",
         "name": "Trip 12642",
         "showlegend": false,
         "type": "scattermapbox"
        },
        {
         "lat": [
          19.522750306685,
          19.5097362431581
         ],
         "line": {
          "color": "black",
          "width": 1
         },
         "lon": [
          -99.1355597968685,
          -99.1324215093222
         ],
         "mode": "lines",
         "name": "Trip 671",
         "showlegend": false,
         "type": "scattermapbox"
        },
        {
         "lat": [
          19.30654064,
          19.3043473596127
         ],
         "line": {
          "color": "black",
          "width": 1
         },
         "lon": [
          -99.0608737,
          -99.0585858522107
         ],
         "mode": "lines",
         "name": "Trip 5500",
         "showlegend": false,
         "type": "scattermapbox"
        },
        {
         "lat": [
          19.3075847898783,
          19.299270842962
         ],
         "line": {
          "color": "black",
          "width": 1
         },
         "lon": [
          -99.0602874410446,
          -99.0415048064153
         ],
         "mode": "lines",
         "name": "Trip 2890",
         "showlegend": false,
         "type": "scattermapbox"
        },
        {
         "lat": [
          19.347413791969,
          19.3393936939537
         ],
         "line": {
          "color": "black",
          "width": 1
         },
         "lon": [
          -99.011232223711,
          -99.0065309945494
         ],
         "mode": "lines",
         "name": "Trip 917",
         "showlegend": false,
         "type": "scattermapbox"
        },
        {
         "lat": [
          19.4850254676575,
          19.50150132
         ],
         "line": {
          "color": "black",
          "width": 1
         },
         "lon": [
          -99.1245954771035,
          -99.09409166
         ],
         "mode": "lines",
         "name": "Trip 10074",
         "showlegend": false,
         "type": "scattermapbox"
        },
        {
         "lat": [
          19.3306429458062,
          19.330447635
         ],
         "line": {
          "color": "black",
          "width": 1
         },
         "lon": [
          -99.0683761880933,
          -99.068288385
         ],
         "mode": "lines",
         "name": "Trip 3234",
         "showlegend": false,
         "type": "scattermapbox"
        },
        {
         "lat": [
          19.4385878113616,
          19.434712880229
         ],
         "line": {
          "color": "black",
          "width": 1
         },
         "lon": [
          -99.1794982125161,
          -99.1713709278485
         ],
         "mode": "lines",
         "name": "Trip 3347",
         "showlegend": false,
         "type": "scattermapbox"
        },
        {
         "lat": [
          19.3076279219218,
          19.2903573577088
         ],
         "line": {
          "color": "black",
          "width": 1
         },
         "lon": [
          -99.0609159691374,
          -99.0748622836486
         ],
         "mode": "lines",
         "name": "Trip 7027",
         "showlegend": false,
         "type": "scattermapbox"
        },
        {
         "lat": [
          19.2718772621766,
          19.26586298
         ],
         "line": {
          "color": "black",
          "width": 1
         },
         "lon": [
          -99.1520846227629,
          -99.1384487
         ],
         "mode": "lines",
         "name": "Trip 3773",
         "showlegend": false,
         "type": "scattermapbox"
        },
        {
         "lat": [
          19.3075584399648,
          19.29666862
         ],
         "line": {
          "color": "black",
          "width": 1
         },
         "lon": [
          -99.0603340250827,
          -99.00675168
         ],
         "mode": "lines",
         "name": "Trip 4296",
         "showlegend": false,
         "type": "scattermapbox"
        },
        {
         "lat": [
          19.3308985782652,
          19.3114157180328
         ],
         "line": {
          "color": "black",
          "width": 1
         },
         "lon": [
          -99.069384012203,
          -99.0526637590164
         ],
         "mode": "lines",
         "name": "Trip 9567",
         "showlegend": false,
         "type": "scattermapbox"
        },
        {
         "lat": [
          19.3078370687707,
          19.29968182
         ],
         "line": {
          "color": "black",
          "width": 1
         },
         "lon": [
          -99.0606732339425,
          -99.06404052
         ],
         "mode": "lines",
         "name": "Trip 9604",
         "showlegend": false,
         "type": "scattermapbox"
        },
        {
         "lat": [
          19.461315065514,
          19.4471971341164
         ],
         "line": {
          "color": "black",
          "width": 1
         },
         "lon": [
          -99.1960885832324,
          -99.1813775991859
         ],
         "mode": "lines",
         "name": "Trip 5191",
         "showlegend": false,
         "type": "scattermapbox"
        },
        {
         "lat": [
          19.3254860119797,
          19.3046593093974
         ],
         "line": {
          "color": "black",
          "width": 1
         },
         "lon": [
          -99.3287465796063,
          -99.3353268359979
         ],
         "mode": "lines",
         "name": "Trip 10180",
         "showlegend": false,
         "type": "scattermapbox"
        },
        {
         "lat": [
          19.3842237250294,
          19.38929734
         ],
         "line": {
          "color": "black",
          "width": 1
         },
         "lon": [
          -99.183504480961,
          -99.18660834
         ],
         "mode": "lines",
         "name": "Trip 294",
         "showlegend": false,
         "type": "scattermapbox"
        },
        {
         "lat": [
          19.3108248,
          19.31427352
         ],
         "line": {
          "color": "black",
          "width": 1
         },
         "lon": [
          -99.12394638,
          -99.1194605
         ],
         "mode": "lines",
         "name": "Trip 3789",
         "showlegend": false,
         "type": "scattermapbox"
        },
        {
         "lat": [
          19.43867016566,
          19.4225735301797
         ],
         "line": {
          "color": "black",
          "width": 1
         },
         "lon": [
          -99.1796956844728,
          -99.1700686552316
         ],
         "mode": "lines",
         "name": "Trip 12080",
         "showlegend": false,
         "type": "scattermapbox"
        },
        {
         "lat": [
          19.325561599212,
          19.3096837848507
         ],
         "line": {
          "color": "black",
          "width": 1
         },
         "lon": [
          -99.254323331278,
          -99.2631942346015
         ],
         "mode": "lines",
         "name": "Trip 10733",
         "showlegend": false,
         "type": "scattermapbox"
        },
        {
         "lat": [
          19.5355245,
          19.5279243
         ],
         "line": {
          "color": "black",
          "width": 1
         },
         "lon": [
          -99.1493141,
          -99.14665116
         ],
         "mode": "lines",
         "name": "Trip 11171",
         "showlegend": false,
         "type": "scattermapbox"
        },
        {
         "lat": [
          19.4183147456473,
          19.40905756
         ],
         "line": {
          "color": "black",
          "width": 1
         },
         "lon": [
          -99.1694536041222,
          -99.12393906
         ],
         "mode": "lines",
         "name": "Trip 12363",
         "showlegend": false,
         "type": "scattermapbox"
        },
        {
         "lat": [
          19.3523234906543,
          19.3544554846164
         ],
         "line": {
          "color": "black",
          "width": 1
         },
         "lon": [
          -99.2469425178314,
          -99.2352383634608
         ],
         "mode": "lines",
         "name": "Trip 1599",
         "showlegend": false,
         "type": "scattermapbox"
        },
        {
         "lat": [
          19.38357262,
          19.39565216
         ],
         "line": {
          "color": "black",
          "width": 1
         },
         "lon": [
          -99.08361906,
          -99.06296092
         ],
         "mode": "lines",
         "name": "Trip 663",
         "showlegend": false,
         "type": "scattermapbox"
        },
        {
         "lat": [
          19.4386890303277,
          19.4320324193639
         ],
         "line": {
          "color": "black",
          "width": 1
         },
         "lon": [
          -99.1794959013679,
          -99.1763510661656
         ],
         "mode": "lines",
         "name": "Trip 4074",
         "showlegend": false,
         "type": "scattermapbox"
        },
        {
         "lat": [
          19.3658638698187,
          19.361024
         ],
         "line": {
          "color": "black",
          "width": 1
         },
         "lon": [
          -99.1189463076837,
          -99.12644892
         ],
         "mode": "lines",
         "name": "Trip 1478",
         "showlegend": false,
         "type": "scattermapbox"
        },
        {
         "lat": [
          19.2994792,
          19.2947896787234
         ],
         "line": {
          "color": "black",
          "width": 1
         },
         "lon": [
          -99.2238538,
          -99.2228425765958
         ],
         "mode": "lines",
         "name": "Trip 5672",
         "showlegend": false,
         "type": "scattermapbox"
        },
        {
         "lat": [
          19.328795767473,
          19.3375196731508
         ],
         "line": {
          "color": "black",
          "width": 1
         },
         "lon": [
          -99.2550824971352,
          -99.2393785104235
         ],
         "mode": "lines",
         "name": "Trip 11731",
         "showlegend": false,
         "type": "scattermapbox"
        },
        {
         "lat": [
          19.3702346658009,
          19.4664111234694
         ],
         "line": {
          "color": "black",
          "width": 1
         },
         "lon": [
          -99.1799452909091,
          -99.1692472306122
         ],
         "mode": "lines",
         "name": "Trip 7443",
         "showlegend": false,
         "type": "scattermapbox"
        },
        {
         "lat": [
          19.3452533360439,
          19.37987758
         ],
         "line": {
          "color": "black",
          "width": 1
         },
         "lon": [
          -99.2278757272527,
          -99.20446046
         ],
         "mode": "lines",
         "name": "Trip 11726",
         "showlegend": false,
         "type": "scattermapbox"
        },
        {
         "lat": [
          19.3702816227197,
          19.383231668639
         ],
         "line": {
          "color": "black",
          "width": 1
         },
         "lon": [
          -99.1800200056063,
          -99.1684824674556
         ],
         "mode": "lines",
         "name": "Trip 11976",
         "showlegend": false,
         "type": "scattermapbox"
        },
        {
         "lat": [
          19.3688847471598,
          19.36879672
         ],
         "line": {
          "color": "black",
          "width": 1
         },
         "lon": [
          -99.2249011670517,
          -99.22181322
         ],
         "mode": "lines",
         "name": "Trip 11924",
         "showlegend": false,
         "type": "scattermapbox"
        },
        {
         "lat": [
          19.3707881146146,
          19.40415372
         ],
         "line": {
          "color": "black",
          "width": 1
         },
         "lon": [
          -99.181740599456,
          -99.241908
         ],
         "mode": "lines",
         "name": "Trip 7084",
         "showlegend": false,
         "type": "scattermapbox"
        },
        {
         "lat": [
          19.4066694325897,
          19.4097390713407
         ],
         "line": {
          "color": "black",
          "width": 1
         },
         "lon": [
          -99.1568329171578,
          -99.1714455540171
         ],
         "mode": "lines",
         "name": "Trip 10105",
         "showlegend": false,
         "type": "scattermapbox"
        },
        {
         "lat": [
          19.3714078051204,
          19.3687990626301
         ],
         "line": {
          "color": "black",
          "width": 1
         },
         "lon": [
          -99.1794897802854,
          -99.1787752430463
         ],
         "mode": "lines",
         "name": "Trip 7986",
         "showlegend": false,
         "type": "scattermapbox"
        },
        {
         "lat": [
          19.32542755453,
          19.3165497
         ],
         "line": {
          "color": "black",
          "width": 1
         },
         "lon": [
          -99.2468109940252,
          -99.2715195
         ],
         "mode": "lines",
         "name": "Trip 10259",
         "showlegend": false,
         "type": "scattermapbox"
        },
        {
         "lat": [
          19.3100760829161,
          19.31435214
         ],
         "line": {
          "color": "black",
          "width": 1
         },
         "lon": [
          -99.1867322586648,
          -99.1736549
         ],
         "mode": "lines",
         "name": "Trip 2040",
         "showlegend": false,
         "type": "scattermapbox"
        },
        {
         "lat": [
          19.3710128949243,
          19.4111565766667
         ],
         "line": {
          "color": "black",
          "width": 1
         },
         "lon": [
          -99.1796833436746,
          -99.1715752566667
         ],
         "mode": "lines",
         "name": "Trip 11896",
         "showlegend": false,
         "type": "scattermapbox"
        },
        {
         "lat": [
          19.2969664,
          19.3074717016866
         ],
         "line": {
          "color": "black",
          "width": 1
         },
         "lon": [
          -99.0517344,
          -99.0602532466227
         ],
         "mode": "lines",
         "name": "Trip 1892",
         "showlegend": false,
         "type": "scattermapbox"
        },
        {
         "lat": [
          19.4107749070949,
          19.43982818
         ],
         "line": {
          "color": "black",
          "width": 1
         },
         "lon": [
          -99.1841215374613,
          -99.18363586
         ],
         "mode": "lines",
         "name": "Trip 8717",
         "showlegend": false,
         "type": "scattermapbox"
        },
        {
         "lat": [
          19.452186739532,
          19.4968878608378
         ],
         "line": {
          "color": "black",
          "width": 1
         },
         "lon": [
          -99.1570834114289,
          -99.1132770796298
         ],
         "mode": "lines",
         "name": "Trip 7590",
         "showlegend": false,
         "type": "scattermapbox"
        },
        {
         "lat": [
          19.360393843578,
          19.3705215430951
         ],
         "line": {
          "color": "black",
          "width": 1
         },
         "lon": [
          -99.1632572540096,
          -99.1421570723611
         ],
         "mode": "lines",
         "name": "Trip 6320",
         "showlegend": false,
         "type": "scattermapbox"
        },
        {
         "lat": [
          19.3702265011578,
          19.3726685502886
         ],
         "line": {
          "color": "black",
          "width": 1
         },
         "lon": [
          -99.1803675273267,
          -99.1896958965801
         ],
         "mode": "lines",
         "name": "Trip 9916",
         "showlegend": false,
         "type": "scattermapbox"
        },
        {
         "lat": [
          19.3614377,
          19.3850691435819
         ],
         "line": {
          "color": "black",
          "width": 1
         },
         "lon": [
          -99.07621596,
          -99.117146788435
         ],
         "mode": "lines",
         "name": "Trip 10431",
         "showlegend": false,
         "type": "scattermapbox"
        },
        {
         "lat": [
          19.3816508442745,
          19.39116116
         ],
         "line": {
          "color": "black",
          "width": 1
         },
         "lon": [
          -99.2022574790932,
          -99.17878572
         ],
         "mode": "lines",
         "name": "Trip 9837",
         "showlegend": false,
         "type": "scattermapbox"
        },
        {
         "lat": [
          19.352171345805,
          19.3482544611542
         ],
         "line": {
          "color": "black",
          "width": 1
         },
         "lon": [
          -99.0631247049798,
          -99.0718652635778
         ],
         "mode": "lines",
         "name": "Trip 9400",
         "showlegend": false,
         "type": "scattermapbox"
        },
        {
         "lat": [
          19.3706210411306,
          19.3753756423077
         ],
         "line": {
          "color": "black",
          "width": 1
         },
         "lon": [
          -99.1810092717365,
          -99.2082771346154
         ],
         "mode": "lines",
         "name": "Trip 3299",
         "showlegend": false,
         "type": "scattermapbox"
        },
        {
         "lat": [
          19.3385297628299,
          19.3442411038345
         ],
         "line": {
          "color": "black",
          "width": 1
         },
         "lon": [
          -99.1234769002526,
          -99.122324132419
         ],
         "mode": "lines",
         "name": "Trip 2482",
         "showlegend": false,
         "type": "scattermapbox"
        },
        {
         "lat": [
          19.4615138513772,
          19.4587021517078
         ],
         "line": {
          "color": "black",
          "width": 1
         },
         "lon": [
          -99.1973366350477,
          -99.1851960647948
         ],
         "mode": "lines",
         "name": "Trip 8813",
         "showlegend": false,
         "type": "scattermapbox"
        },
        {
         "lat": [
          19.4118683561863,
          19.3950157519611
         ],
         "line": {
          "color": "black",
          "width": 1
         },
         "lon": [
          -99.1759825163513,
          -99.1561367345034
         ],
         "mode": "lines",
         "name": "Trip 3316",
         "showlegend": false,
         "type": "scattermapbox"
        },
        {
         "lat": [
          19.35925934672,
          19.37116036
         ],
         "line": {
          "color": "black",
          "width": 1
         },
         "lon": [
          -99.0619505575659,
          -99.07488284
         ],
         "mode": "lines",
         "name": "Trip 5667",
         "showlegend": false,
         "type": "scattermapbox"
        },
        {
         "lat": [
          19.4615611211538,
          19.4598898689189
         ],
         "line": {
          "color": "black",
          "width": 1
         },
         "lon": [
          -99.1963736538462,
          -99.189765445946
         ],
         "mode": "lines",
         "name": "Trip 2756",
         "showlegend": false,
         "type": "scattermapbox"
        },
        {
         "lat": [
          19.2422907154457,
          19.243792663434
         ],
         "line": {
          "color": "black",
          "width": 1
         },
         "lon": [
          -99.0955054889164,
          -99.10183364114
         ],
         "mode": "lines",
         "name": "Trip 2722",
         "showlegend": false,
         "type": "scattermapbox"
        },
        {
         "lat": [
          19.3318652351478,
          19.31672444
         ],
         "line": {
          "color": "black",
          "width": 1
         },
         "lon": [
          -99.0695058181863,
          -99.08644046
         ],
         "mode": "lines",
         "name": "Trip 2161",
         "showlegend": false,
         "type": "scattermapbox"
        },
        {
         "lat": [
          19.3808119089509,
          19.3808553917808
         ],
         "line": {
          "color": "black",
          "width": 1
         },
         "lon": [
          -99.2033328901799,
          -99.1998590780822
         ],
         "mode": "lines",
         "name": "Trip 4599",
         "showlegend": false,
         "type": "scattermapbox"
        },
        {
         "lat": [
          19.3074018231603,
          19.3074776531049
         ],
         "line": {
          "color": "black",
          "width": 1
         },
         "lon": [
          -99.0608051791382,
          -99.0602178933616
         ],
         "mode": "lines",
         "name": "Trip 4058",
         "showlegend": false,
         "type": "scattermapbox"
        },
        {
         "lat": [
          19.3243049679729,
          19.3247068683496
         ],
         "line": {
          "color": "black",
          "width": 1
         },
         "lon": [
          -99.2500648078378,
          -99.2501151474371
         ],
         "mode": "lines",
         "name": "Trip 10430",
         "showlegend": false,
         "type": "scattermapbox"
        },
        {
         "lat": [
          19.3311902434496,
          19.3215987287879
         ],
         "line": {
          "color": "black",
          "width": 1
         },
         "lon": [
          -99.0697687062734,
          -99.0700755727273
         ],
         "mode": "lines",
         "name": "Trip 7280",
         "showlegend": false,
         "type": "scattermapbox"
        },
        {
         "lat": [
          19.3037717,
          19.30275136
         ],
         "line": {
          "color": "black",
          "width": 1
         },
         "lon": [
          -98.8596567,
          -98.862372
         ],
         "mode": "lines",
         "name": "Trip 11879",
         "showlegend": false,
         "type": "scattermapbox"
        },
        {
         "lat": [
          19.370777395982,
          19.4257407020121
         ],
         "line": {
          "color": "black",
          "width": 1
         },
         "lon": [
          -99.1798890322876,
          -99.1588674275654
         ],
         "mode": "lines",
         "name": "Trip 862",
         "showlegend": false,
         "type": "scattermapbox"
        },
        {
         "lat": [
          19.4386403132557,
          19.4386819988871
         ],
         "line": {
          "color": "black",
          "width": 1
         },
         "lon": [
          -99.1794138417222,
          -99.1659890299343
         ],
         "mode": "lines",
         "name": "Trip 782",
         "showlegend": false,
         "type": "scattermapbox"
        },
        {
         "lat": [
          19.3041383,
          19.29582668
         ],
         "line": {
          "color": "black",
          "width": 1
         },
         "lon": [
          -99.1429383,
          -99.07123766
         ],
         "mode": "lines",
         "name": "Trip 8648",
         "showlegend": false,
         "type": "scattermapbox"
        },
        {
         "lat": [
          19.3660335643277,
          19.3373925
         ],
         "line": {
          "color": "black",
          "width": 1
         },
         "lon": [
          -99.1453462870756,
          -99.20940394
         ],
         "mode": "lines",
         "name": "Trip 9201",
         "showlegend": false,
         "type": "scattermapbox"
        },
        {
         "lat": [
          19.3703662850612,
          19.3663445963308
         ],
         "line": {
          "color": "black",
          "width": 1
         },
         "lon": [
          -99.1804798155593,
          -99.1947191097718
         ],
         "mode": "lines",
         "name": "Trip 7893",
         "showlegend": false,
         "type": "scattermapbox"
        },
        {
         "lat": [
          19.4617862087878,
          19.45331154
         ],
         "line": {
          "color": "black",
          "width": 1
         },
         "lon": [
          -99.196293762251,
          -99.1995685
         ],
         "mode": "lines",
         "name": "Trip 8422",
         "showlegend": false,
         "type": "scattermapbox"
        },
        {
         "lat": [
          19.2832498329123,
          19.2789800469348
         ],
         "line": {
          "color": "black",
          "width": 1
         },
         "lon": [
          -99.2035354309133,
          -99.1999152133016
         ],
         "mode": "lines",
         "name": "Trip 7156",
         "showlegend": false,
         "type": "scattermapbox"
        },
        {
         "lat": [
          19.4626033482747,
          19.4592512
         ],
         "line": {
          "color": "black",
          "width": 1
         },
         "lon": [
          -99.1958247944412,
          -99.19527696
         ],
         "mode": "lines",
         "name": "Trip 8806",
         "showlegend": false,
         "type": "scattermapbox"
        },
        {
         "lat": [
          19.4386778579222,
          19.4387845742792
         ],
         "line": {
          "color": "black",
          "width": 1
         },
         "lon": [
          -99.1794793290843,
          -99.1798468790104
         ],
         "mode": "lines",
         "name": "Trip 9780",
         "showlegend": false,
         "type": "scattermapbox"
        },
        {
         "lat": [
          19.4613253372579,
          19.4498686787234
         ],
         "line": {
          "color": "black",
          "width": 1
         },
         "lon": [
          -99.1965034114733,
          -99.1834942659574
         ],
         "mode": "lines",
         "name": "Trip 1891",
         "showlegend": false,
         "type": "scattermapbox"
        },
        {
         "lat": [
          19.385702,
          19.4944202580645
         ],
         "line": {
          "color": "black",
          "width": 1
         },
         "lon": [
          -99.172145,
          -99.0931264774194
         ],
         "mode": "lines",
         "name": "Trip 11953",
         "showlegend": false,
         "type": "scattermapbox"
        },
        {
         "lat": [
          19.3700494301075,
          19.4207293421105
         ],
         "line": {
          "color": "black",
          "width": 1
         },
         "lon": [
          -99.1799743135507,
          -99.0773124231728
         ],
         "mode": "lines",
         "name": "Trip 12509",
         "showlegend": false,
         "type": "scattermapbox"
        },
        {
         "lat": [
          19.3535743251232,
          19.3790625636285
         ],
         "line": {
          "color": "black",
          "width": 1
         },
         "lon": [
          -99.0619817779774,
          -99.0599304057443
         ],
         "mode": "lines",
         "name": "Trip 7112",
         "showlegend": false,
         "type": "scattermapbox"
        },
        {
         "lat": [
          19.4074498392446,
          19.3968344090917
         ],
         "line": {
          "color": "black",
          "width": 1
         },
         "lon": [
          -99.1845259792308,
          -99.2416155712993
         ],
         "mode": "lines",
         "name": "Trip 3659",
         "showlegend": false,
         "type": "scattermapbox"
        },
        {
         "lat": [
          19.4687552768918,
          19.4731721606068
         ],
         "line": {
          "color": "black",
          "width": 1
         },
         "lon": [
          -99.1291079130947,
          -99.1454199174274
         ],
         "mode": "lines",
         "name": "Trip 2908",
         "showlegend": false,
         "type": "scattermapbox"
        },
        {
         "lat": [
          19.3186671840302,
          19.3607323402824
         ],
         "line": {
          "color": "black",
          "width": 1
         },
         "lon": [
          -99.1127394598869,
          -99.1104052278102
         ],
         "mode": "lines",
         "name": "Trip 1902",
         "showlegend": false,
         "type": "scattermapbox"
        },
        {
         "lat": [
          19.3211914,
          19.31347176
         ],
         "line": {
          "color": "black",
          "width": 1
         },
         "lon": [
          -99.2580002,
          -99.25661062
         ],
         "mode": "lines",
         "name": "Trip 10874",
         "showlegend": false,
         "type": "scattermapbox"
        },
        {
         "lat": [
          19.4089958967442,
          19.40204236
         ],
         "line": {
          "color": "black",
          "width": 1
         },
         "lon": [
          -99.1237007646825,
          -99.15359566
         ],
         "mode": "lines",
         "name": "Trip 12351",
         "showlegend": false,
         "type": "scattermapbox"
        },
        {
         "lat": [
          19.3038098090134,
          19.2719896943821
         ],
         "line": {
          "color": "black",
          "width": 1
         },
         "lon": [
          -99.1929580956478,
          -99.1521242977534
         ],
         "mode": "lines",
         "name": "Trip 11366",
         "showlegend": false,
         "type": "scattermapbox"
        },
        {
         "lat": [
          19.3653766283314,
          19.3532261369364
         ],
         "line": {
          "color": "black",
          "width": 1
         },
         "lon": [
          -99.2872382897194,
          -99.3106122539029
         ],
         "mode": "lines",
         "name": "Trip 4772",
         "showlegend": false,
         "type": "scattermapbox"
        },
        {
         "lat": [
          19.3701818908089,
          19.37461119854
         ],
         "line": {
          "color": "black",
          "width": 1
         },
         "lon": [
          -99.1800750454634,
          -99.1810911279024
         ],
         "mode": "lines",
         "name": "Trip 7933",
         "showlegend": false,
         "type": "scattermapbox"
        },
        {
         "lat": [
          19.41429976,
          19.4021752722803
         ],
         "line": {
          "color": "black",
          "width": 1
         },
         "lon": [
          -99.17636454,
          -99.1654926722541
         ],
         "mode": "lines",
         "name": "Trip 6915",
         "showlegend": false,
         "type": "scattermapbox"
        },
        {
         "lat": [
          19.4385954550595,
          19.4327084359683
         ],
         "line": {
          "color": "black",
          "width": 1
         },
         "lon": [
          -99.1795444556304,
          -99.1744634407771
         ],
         "mode": "lines",
         "name": "Trip 3055",
         "showlegend": false,
         "type": "scattermapbox"
        },
        {
         "lat": [
          19.3735185274932,
          19.3736202766611
         ],
         "line": {
          "color": "black",
          "width": 1
         },
         "lon": [
          -99.1630414729091,
          -99.1726609482485
         ],
         "mode": "lines",
         "name": "Trip 7677",
         "showlegend": false,
         "type": "scattermapbox"
        },
        {
         "lat": [
          19.3309441484345,
          19.3594484153846
         ],
         "line": {
          "color": "black",
          "width": 1
         },
         "lon": [
          -99.0684330967609,
          -99.1044123134616
         ],
         "mode": "lines",
         "name": "Trip 6374",
         "showlegend": false,
         "type": "scattermapbox"
        },
        {
         "lat": [
          19.30213034,
          19.30603868
         ],
         "line": {
          "color": "black",
          "width": 1
         },
         "lon": [
          -99.13992468,
          -99.12734998
         ],
         "mode": "lines",
         "name": "Trip 11710",
         "showlegend": false,
         "type": "scattermapbox"
        },
        {
         "lat": [
          19.4774735023803,
          19.479333095
         ],
         "line": {
          "color": "black",
          "width": 1
         },
         "lon": [
          -99.1799428474106,
          -99.186766695
         ],
         "mode": "lines",
         "name": "Trip 4325",
         "showlegend": false,
         "type": "scattermapbox"
        },
        {
         "lat": [
          19.325990065223,
          19.32822075
         ],
         "line": {
          "color": "black",
          "width": 1
         },
         "lon": [
          -99.2630097614007,
          -99.2712934266667
         ],
         "mode": "lines",
         "name": "Trip 6557",
         "showlegend": false,
         "type": "scattermapbox"
        },
        {
         "lat": [
          19.4385654889228,
          19.4473933943188
         ],
         "line": {
          "color": "black",
          "width": 1
         },
         "lon": [
          -99.1796622388989,
          -99.1714100204408
         ],
         "mode": "lines",
         "name": "Trip 6740",
         "showlegend": false,
         "type": "scattermapbox"
        },
        {
         "lat": [
          19.4251659520629,
          19.42935054
         ],
         "line": {
          "color": "black",
          "width": 1
         },
         "lon": [
          -99.1464131676584,
          -99.05382068
         ],
         "mode": "lines",
         "name": "Trip 10167",
         "showlegend": false,
         "type": "scattermapbox"
        },
        {
         "lat": [
          19.4583370333435,
          19.459563441585
         ],
         "line": {
          "color": "black",
          "width": 1
         },
         "lon": [
          -99.1917650114309,
          -99.1939031812297
         ],
         "mode": "lines",
         "name": "Trip 1701",
         "showlegend": false,
         "type": "scattermapbox"
        },
        {
         "lat": [
          19.3687280731772,
          19.3550796508475
         ],
         "line": {
          "color": "black",
          "width": 1
         },
         "lon": [
          -99.1786511519143,
          -99.1086344525424
         ],
         "mode": "lines",
         "name": "Trip 9114",
         "showlegend": false,
         "type": "scattermapbox"
        },
        {
         "lat": [
          19.3771994498871,
          19.4325094264592
         ],
         "line": {
          "color": "black",
          "width": 1
         },
         "lon": [
          -99.1755063511805,
          -99.1965831105058
         ],
         "mode": "lines",
         "name": "Trip 4463",
         "showlegend": false,
         "type": "scattermapbox"
        },
        {
         "lat": [
          19.4618165969794,
          19.4615234887272
         ],
         "line": {
          "color": "black",
          "width": 1
         },
         "lon": [
          -99.197044654035,
          -99.1959287629517
         ],
         "mode": "lines",
         "name": "Trip 8406",
         "showlegend": false,
         "type": "scattermapbox"
        },
        {
         "lat": [
          19.3306755823248,
          19.3110772411765
         ],
         "line": {
          "color": "black",
          "width": 1
         },
         "lon": [
          -99.0684276685043,
          -99.1421631294118
         ],
         "mode": "lines",
         "name": "Trip 6291",
         "showlegend": false,
         "type": "scattermapbox"
        },
        {
         "lat": [
          19.3888993352941,
          19.3903504857515
         ],
         "line": {
          "color": "black",
          "width": 1
         },
         "lon": [
          -99.1740948294118,
          -99.169538982085
         ],
         "mode": "lines",
         "name": "Trip 403",
         "showlegend": false,
         "type": "scattermapbox"
        },
        {
         "lat": [
          19.3107053322349,
          19.31363
         ],
         "line": {
          "color": "black",
          "width": 1
         },
         "lon": [
          -99.2615977967736,
          -99.25870334
         ],
         "mode": "lines",
         "name": "Trip 10235",
         "showlegend": false,
         "type": "scattermapbox"
        },
        {
         "lat": [
          19.3804650806883,
          19.38915728
         ],
         "line": {
          "color": "black",
          "width": 1
         },
         "lon": [
          -99.2035566717147,
          -99.2011729
         ],
         "mode": "lines",
         "name": "Trip 2462",
         "showlegend": false,
         "type": "scattermapbox"
        },
        {
         "lat": [
          19.6105757638997,
          19.6112913939394
         ],
         "line": {
          "color": "black",
          "width": 1
         },
         "lon": [
          -99.0226302967305,
          -99.021365919697
         ],
         "mode": "lines",
         "name": "Trip 5159",
         "showlegend": false,
         "type": "scattermapbox"
        },
        {
         "lat": [
          19.4613998299744,
          19.4556072012997
         ],
         "line": {
          "color": "black",
          "width": 1
         },
         "lon": [
          -99.1937246667122,
          -99.201174274552
         ],
         "mode": "lines",
         "name": "Trip 8779",
         "showlegend": false,
         "type": "scattermapbox"
        },
        {
         "lat": [
          19.416650879104,
          19.5923490521212
         ],
         "line": {
          "color": "black",
          "width": 1
         },
         "lon": [
          -99.1692172524433,
          -99.0095616910606
         ],
         "mode": "lines",
         "name": "Trip 186",
         "showlegend": false,
         "type": "scattermapbox"
        },
        {
         "lat": [
          19.4767291952294,
          19.4526853
         ],
         "line": {
          "color": "black",
          "width": 1
         },
         "lon": [
          -99.1800565302134,
          -99.2202273125
         ],
         "mode": "lines",
         "name": "Trip 9516",
         "showlegend": false,
         "type": "scattermapbox"
        },
        {
         "lat": [
          19.3309553901837,
          19.3284675118644
         ],
         "line": {
          "color": "black",
          "width": 1
         },
         "lon": [
          -99.0696982383009,
          -99.0776639389831
         ],
         "mode": "lines",
         "name": "Trip 6293",
         "showlegend": false,
         "type": "scattermapbox"
        },
        {
         "lat": [
          19.6034116046732,
          19.62016594
         ],
         "line": {
          "color": "black",
          "width": 1
         },
         "lon": [
          -99.0278803999992,
          -99.00076802
         ],
         "mode": "lines",
         "name": "Trip 4745",
         "showlegend": false,
         "type": "scattermapbox"
        },
        {
         "lat": [
          19.3574866,
          19.3498588
         ],
         "line": {
          "color": "black",
          "width": 1
         },
         "lon": [
          -99.157993,
          -99.15604162
         ],
         "mode": "lines",
         "name": "Trip 1425",
         "showlegend": false,
         "type": "scattermapbox"
        },
        {
         "lat": [
          19.307503168913,
          19.28211456
         ],
         "line": {
          "color": "black",
          "width": 1
         },
         "lon": [
          -99.0607340023165,
          -99.05555884
         ],
         "mode": "lines",
         "name": "Trip 5676",
         "showlegend": false,
         "type": "scattermapbox"
        },
        {
         "lat": [
          19.325270606225,
          19.32771278
         ],
         "line": {
          "color": "black",
          "width": 1
         },
         "lon": [
          -99.0441116322541,
          -99.03572128
         ],
         "mode": "lines",
         "name": "Trip 7187",
         "showlegend": false,
         "type": "scattermapbox"
        }
       ],
       "layout": {
        "height": 600,
        "legend": {
         "title": {
          "text": "location_type"
         },
         "tracegroupgap": 0
        },
        "mapbox": {
         "center": {
          "lat": 19.379502531985747,
          "lon": -99.14749952508402
         },
         "domain": {
          "x": [
           0,
           1
          ],
          "y": [
           0,
           1
          ]
         },
         "style": "open-street-map",
         "zoom": 10
        },
        "margin": {
         "b": 0,
         "l": 0,
         "r": 0,
         "t": 50
        },
        "template": {
         "data": {
          "bar": [
           {
            "error_x": {
             "color": "#2a3f5f"
            },
            "error_y": {
             "color": "#2a3f5f"
            },
            "marker": {
             "line": {
              "color": "#E5ECF6",
              "width": 0.5
             },
             "pattern": {
              "fillmode": "overlay",
              "size": 10,
              "solidity": 0.2
             }
            },
            "type": "bar"
           }
          ],
          "barpolar": [
           {
            "marker": {
             "line": {
              "color": "#E5ECF6",
              "width": 0.5
             },
             "pattern": {
              "fillmode": "overlay",
              "size": 10,
              "solidity": 0.2
             }
            },
            "type": "barpolar"
           }
          ],
          "carpet": [
           {
            "aaxis": {
             "endlinecolor": "#2a3f5f",
             "gridcolor": "white",
             "linecolor": "white",
             "minorgridcolor": "white",
             "startlinecolor": "#2a3f5f"
            },
            "baxis": {
             "endlinecolor": "#2a3f5f",
             "gridcolor": "white",
             "linecolor": "white",
             "minorgridcolor": "white",
             "startlinecolor": "#2a3f5f"
            },
            "type": "carpet"
           }
          ],
          "choropleth": [
           {
            "colorbar": {
             "outlinewidth": 0,
             "ticks": ""
            },
            "type": "choropleth"
           }
          ],
          "contour": [
           {
            "colorbar": {
             "outlinewidth": 0,
             "ticks": ""
            },
            "colorscale": [
             [
              0,
              "#0d0887"
             ],
             [
              0.1111111111111111,
              "#46039f"
             ],
             [
              0.2222222222222222,
              "#7201a8"
             ],
             [
              0.3333333333333333,
              "#9c179e"
             ],
             [
              0.4444444444444444,
              "#bd3786"
             ],
             [
              0.5555555555555556,
              "#d8576b"
             ],
             [
              0.6666666666666666,
              "#ed7953"
             ],
             [
              0.7777777777777778,
              "#fb9f3a"
             ],
             [
              0.8888888888888888,
              "#fdca26"
             ],
             [
              1,
              "#f0f921"
             ]
            ],
            "type": "contour"
           }
          ],
          "contourcarpet": [
           {
            "colorbar": {
             "outlinewidth": 0,
             "ticks": ""
            },
            "type": "contourcarpet"
           }
          ],
          "heatmap": [
           {
            "colorbar": {
             "outlinewidth": 0,
             "ticks": ""
            },
            "colorscale": [
             [
              0,
              "#0d0887"
             ],
             [
              0.1111111111111111,
              "#46039f"
             ],
             [
              0.2222222222222222,
              "#7201a8"
             ],
             [
              0.3333333333333333,
              "#9c179e"
             ],
             [
              0.4444444444444444,
              "#bd3786"
             ],
             [
              0.5555555555555556,
              "#d8576b"
             ],
             [
              0.6666666666666666,
              "#ed7953"
             ],
             [
              0.7777777777777778,
              "#fb9f3a"
             ],
             [
              0.8888888888888888,
              "#fdca26"
             ],
             [
              1,
              "#f0f921"
             ]
            ],
            "type": "heatmap"
           }
          ],
          "histogram": [
           {
            "marker": {
             "pattern": {
              "fillmode": "overlay",
              "size": 10,
              "solidity": 0.2
             }
            },
            "type": "histogram"
           }
          ],
          "histogram2d": [
           {
            "colorbar": {
             "outlinewidth": 0,
             "ticks": ""
            },
            "colorscale": [
             [
              0,
              "#0d0887"
             ],
             [
              0.1111111111111111,
              "#46039f"
             ],
             [
              0.2222222222222222,
              "#7201a8"
             ],
             [
              0.3333333333333333,
              "#9c179e"
             ],
             [
              0.4444444444444444,
              "#bd3786"
             ],
             [
              0.5555555555555556,
              "#d8576b"
             ],
             [
              0.6666666666666666,
              "#ed7953"
             ],
             [
              0.7777777777777778,
              "#fb9f3a"
             ],
             [
              0.8888888888888888,
              "#fdca26"
             ],
             [
              1,
              "#f0f921"
             ]
            ],
            "type": "histogram2d"
           }
          ],
          "histogram2dcontour": [
           {
            "colorbar": {
             "outlinewidth": 0,
             "ticks": ""
            },
            "colorscale": [
             [
              0,
              "#0d0887"
             ],
             [
              0.1111111111111111,
              "#46039f"
             ],
             [
              0.2222222222222222,
              "#7201a8"
             ],
             [
              0.3333333333333333,
              "#9c179e"
             ],
             [
              0.4444444444444444,
              "#bd3786"
             ],
             [
              0.5555555555555556,
              "#d8576b"
             ],
             [
              0.6666666666666666,
              "#ed7953"
             ],
             [
              0.7777777777777778,
              "#fb9f3a"
             ],
             [
              0.8888888888888888,
              "#fdca26"
             ],
             [
              1,
              "#f0f921"
             ]
            ],
            "type": "histogram2dcontour"
           }
          ],
          "mesh3d": [
           {
            "colorbar": {
             "outlinewidth": 0,
             "ticks": ""
            },
            "type": "mesh3d"
           }
          ],
          "parcoords": [
           {
            "line": {
             "colorbar": {
              "outlinewidth": 0,
              "ticks": ""
             }
            },
            "type": "parcoords"
           }
          ],
          "pie": [
           {
            "automargin": true,
            "type": "pie"
           }
          ],
          "scatter": [
           {
            "fillpattern": {
             "fillmode": "overlay",
             "size": 10,
             "solidity": 0.2
            },
            "type": "scatter"
           }
          ],
          "scatter3d": [
           {
            "line": {
             "colorbar": {
              "outlinewidth": 0,
              "ticks": ""
             }
            },
            "marker": {
             "colorbar": {
              "outlinewidth": 0,
              "ticks": ""
             }
            },
            "type": "scatter3d"
           }
          ],
          "scattercarpet": [
           {
            "marker": {
             "colorbar": {
              "outlinewidth": 0,
              "ticks": ""
             }
            },
            "type": "scattercarpet"
           }
          ],
          "scattergeo": [
           {
            "marker": {
             "colorbar": {
              "outlinewidth": 0,
              "ticks": ""
             }
            },
            "type": "scattergeo"
           }
          ],
          "scattergl": [
           {
            "marker": {
             "colorbar": {
              "outlinewidth": 0,
              "ticks": ""
             }
            },
            "type": "scattergl"
           }
          ],
          "scattermap": [
           {
            "marker": {
             "colorbar": {
              "outlinewidth": 0,
              "ticks": ""
             }
            },
            "type": "scattermap"
           }
          ],
          "scattermapbox": [
           {
            "marker": {
             "colorbar": {
              "outlinewidth": 0,
              "ticks": ""
             }
            },
            "type": "scattermapbox"
           }
          ],
          "scatterpolar": [
           {
            "marker": {
             "colorbar": {
              "outlinewidth": 0,
              "ticks": ""
             }
            },
            "type": "scatterpolar"
           }
          ],
          "scatterpolargl": [
           {
            "marker": {
             "colorbar": {
              "outlinewidth": 0,
              "ticks": ""
             }
            },
            "type": "scatterpolargl"
           }
          ],
          "scatterternary": [
           {
            "marker": {
             "colorbar": {
              "outlinewidth": 0,
              "ticks": ""
             }
            },
            "type": "scatterternary"
           }
          ],
          "surface": [
           {
            "colorbar": {
             "outlinewidth": 0,
             "ticks": ""
            },
            "colorscale": [
             [
              0,
              "#0d0887"
             ],
             [
              0.1111111111111111,
              "#46039f"
             ],
             [
              0.2222222222222222,
              "#7201a8"
             ],
             [
              0.3333333333333333,
              "#9c179e"
             ],
             [
              0.4444444444444444,
              "#bd3786"
             ],
             [
              0.5555555555555556,
              "#d8576b"
             ],
             [
              0.6666666666666666,
              "#ed7953"
             ],
             [
              0.7777777777777778,
              "#fb9f3a"
             ],
             [
              0.8888888888888888,
              "#fdca26"
             ],
             [
              1,
              "#f0f921"
             ]
            ],
            "type": "surface"
           }
          ],
          "table": [
           {
            "cells": {
             "fill": {
              "color": "#EBF0F8"
             },
             "line": {
              "color": "white"
             }
            },
            "header": {
             "fill": {
              "color": "#C8D4E3"
             },
             "line": {
              "color": "white"
             }
            },
            "type": "table"
           }
          ]
         },
         "layout": {
          "annotationdefaults": {
           "arrowcolor": "#2a3f5f",
           "arrowhead": 0,
           "arrowwidth": 1
          },
          "autotypenumbers": "strict",
          "coloraxis": {
           "colorbar": {
            "outlinewidth": 0,
            "ticks": ""
           }
          },
          "colorscale": {
           "diverging": [
            [
             0,
             "#8e0152"
            ],
            [
             0.1,
             "#c51b7d"
            ],
            [
             0.2,
             "#de77ae"
            ],
            [
             0.3,
             "#f1b6da"
            ],
            [
             0.4,
             "#fde0ef"
            ],
            [
             0.5,
             "#f7f7f7"
            ],
            [
             0.6,
             "#e6f5d0"
            ],
            [
             0.7,
             "#b8e186"
            ],
            [
             0.8,
             "#7fbc41"
            ],
            [
             0.9,
             "#4d9221"
            ],
            [
             1,
             "#276419"
            ]
           ],
           "sequential": [
            [
             0,
             "#0d0887"
            ],
            [
             0.1111111111111111,
             "#46039f"
            ],
            [
             0.2222222222222222,
             "#7201a8"
            ],
            [
             0.3333333333333333,
             "#9c179e"
            ],
            [
             0.4444444444444444,
             "#bd3786"
            ],
            [
             0.5555555555555556,
             "#d8576b"
            ],
            [
             0.6666666666666666,
             "#ed7953"
            ],
            [
             0.7777777777777778,
             "#fb9f3a"
            ],
            [
             0.8888888888888888,
             "#fdca26"
            ],
            [
             1,
             "#f0f921"
            ]
           ],
           "sequentialminus": [
            [
             0,
             "#0d0887"
            ],
            [
             0.1111111111111111,
             "#46039f"
            ],
            [
             0.2222222222222222,
             "#7201a8"
            ],
            [
             0.3333333333333333,
             "#9c179e"
            ],
            [
             0.4444444444444444,
             "#bd3786"
            ],
            [
             0.5555555555555556,
             "#d8576b"
            ],
            [
             0.6666666666666666,
             "#ed7953"
            ],
            [
             0.7777777777777778,
             "#fb9f3a"
            ],
            [
             0.8888888888888888,
             "#fdca26"
            ],
            [
             1,
             "#f0f921"
            ]
           ]
          },
          "colorway": [
           "#636efa",
           "#EF553B",
           "#00cc96",
           "#ab63fa",
           "#FFA15A",
           "#19d3f3",
           "#FF6692",
           "#B6E880",
           "#FF97FF",
           "#FECB52"
          ],
          "font": {
           "color": "#2a3f5f"
          },
          "geo": {
           "bgcolor": "white",
           "lakecolor": "white",
           "landcolor": "#E5ECF6",
           "showlakes": true,
           "showland": true,
           "subunitcolor": "white"
          },
          "hoverlabel": {
           "align": "left"
          },
          "hovermode": "closest",
          "mapbox": {
           "style": "light"
          },
          "paper_bgcolor": "white",
          "plot_bgcolor": "#E5ECF6",
          "polar": {
           "angularaxis": {
            "gridcolor": "white",
            "linecolor": "white",
            "ticks": ""
           },
           "bgcolor": "#E5ECF6",
           "radialaxis": {
            "gridcolor": "white",
            "linecolor": "white",
            "ticks": ""
           }
          },
          "scene": {
           "xaxis": {
            "backgroundcolor": "#E5ECF6",
            "gridcolor": "white",
            "gridwidth": 2,
            "linecolor": "white",
            "showbackground": true,
            "ticks": "",
            "zerolinecolor": "white"
           },
           "yaxis": {
            "backgroundcolor": "#E5ECF6",
            "gridcolor": "white",
            "gridwidth": 2,
            "linecolor": "white",
            "showbackground": true,
            "ticks": "",
            "zerolinecolor": "white"
           },
           "zaxis": {
            "backgroundcolor": "#E5ECF6",
            "gridcolor": "white",
            "gridwidth": 2,
            "linecolor": "white",
            "showbackground": true,
            "ticks": "",
            "zerolinecolor": "white"
           }
          },
          "shapedefaults": {
           "line": {
            "color": "#2a3f5f"
           }
          },
          "ternary": {
           "aaxis": {
            "gridcolor": "white",
            "linecolor": "white",
            "ticks": ""
           },
           "baxis": {
            "gridcolor": "white",
            "linecolor": "white",
            "ticks": ""
           },
           "bgcolor": "#E5ECF6",
           "caxis": {
            "gridcolor": "white",
            "linecolor": "white",
            "ticks": ""
           }
          },
          "title": {
           "x": 0.05
          },
          "xaxis": {
           "automargin": true,
           "gridcolor": "white",
           "linecolor": "white",
           "ticks": "",
           "title": {
            "standoff": 15
           },
           "zerolinecolor": "white",
           "zerolinewidth": 2
          },
          "yaxis": {
           "automargin": true,
           "gridcolor": "white",
           "linecolor": "white",
           "ticks": "",
           "title": {
            "standoff": 15
           },
           "zerolinecolor": "white",
           "zerolinewidth": 2
          }
         }
        },
        "title": {
         "text": "Pickup and Dropoff Locations"
        },
        "width": 600
       }
      }
     },
     "metadata": {},
     "output_type": "display_data"
    }
   ],
   "source": [
    "random.seed(42)\n",
    "df = taxi_data.sample(n=200)\n",
    "pickup_df = df[['pickup_latitude', 'pickup_longitude', 'id']].copy()\n",
    "pickup_df.columns = ['latitude', 'longitude', 'id']\n",
    "pickup_df['location_type'] = 'Pickup'\n",
    "\n",
    "dropoff_df = df[['dropoff_latitude', 'dropoff_longitude', 'id']].copy()\n",
    "dropoff_df.columns = ['latitude', 'longitude', 'id']\n",
    "dropoff_df['location_type'] = 'Dropoff'\n",
    "\n",
    "all_locations_df = pd.concat([pickup_df, dropoff_df])\n",
    "\n",
    "fig = px.scatter_mapbox(all_locations_df,\n",
    "                        lat=\"latitude\",\n",
    "                        lon=\"longitude\",\n",
    "                        color=\"location_type\", # Color based on 'Pickup' or 'Dropoff'\n",
    "                        hover_name=\"id\",\n",
    "                        hover_data={\"latitude\": True, \"longitude\": True, \"location_type\": True},\n",
    "                        zoom=10,\n",
    "                        height=600,\n",
    "                        width=600,\n",
    "                        title=\"Pickup and Dropoff Locations\")\n",
    "\n",
    "fig.update_layout(mapbox_style=\"open-street-map\") # Use OpenStreetMap tiles\n",
    "fig.update_layout(margin={\"r\":0,\"t\":50,\"l\":0,\"b\":0})\n",
    "fig.update_traces(marker=dict(size=12))\n",
    "\n",
    "# Add lines connecting pickup and dropoff for each trip\n",
    "for index, row in df.iterrows():\n",
    "    fig.add_trace(\n",
    "        go.Scattermapbox(\n",
    "            mode=\"lines\",\n",
    "            lat=[row['pickup_latitude'], row['dropoff_latitude']],\n",
    "            lon=[row['pickup_longitude'], row['dropoff_longitude']],\n",
    "            line=dict(color='black', width=1), \n",
    "            name=f\"Trip {row['id']}\", \n",
    "            showlegend=False \n",
    "        )\n",
    "    )\n",
    "\n",
    "\n",
    "\n",
    "fig.show()"
   ]
  },
  {
   "cell_type": "markdown",
   "id": "0cab6663",
   "metadata": {},
   "source": [
    "## FEATURE ENGINEERING"
   ]
  },
  {
   "cell_type": "code",
   "execution_count": 23,
   "id": "5fa88344",
   "metadata": {},
   "outputs": [],
   "source": [
    "taxi_data['pickup_hour'] = taxi_data['pickup_datetime'].dt.hour\n",
    "taxi_data['pickup_day_of_week'] = taxi_data['pickup_datetime'].dt.day_name()\n",
    "taxi_data['pickup_month'] = taxi_data['pickup_datetime'].dt.month_name()"
   ]
  },
  {
   "cell_type": "markdown",
   "id": "414f1b60",
   "metadata": {},
   "source": [
    " A simple and fast way to decide when traffic is happening is to take the median of the average speeds by hour and day of the week."
   ]
  },
  {
   "cell_type": "code",
   "execution_count": 24,
   "id": "0138f197",
   "metadata": {},
   "outputs": [],
   "source": [
    "taxi_data['average_speed'] = taxi_data['dist_meters']*3.6 /  (taxi_data['trip_duration'])"
   ]
  },
  {
   "cell_type": "code",
   "execution_count": 25,
   "id": "0786532d",
   "metadata": {},
   "outputs": [],
   "source": [
    "#Split the data between train and test, using a fixed seed\n",
    "#We will focus on using the X_train to create the new variables simulating a real scenario\n",
    "X_train, X_test, y_train, y_test = train_test_split(taxi_data.drop(columns=['trip_duration']), taxi_data.loc[:,'trip_duration'], test_size=0.2, random_state=42)"
   ]
  },
  {
   "cell_type": "code",
   "execution_count": 26,
   "id": "fc69fc97",
   "metadata": {},
   "outputs": [
    {
     "data": {
      "image/png": "[encoded data removed]",
      "text/plain": [
       "<Figure size 1200x800 with 2 Axes>"
      ]
     },
     "metadata": {},
     "output_type": "display_data"
    }
   ],
   "source": [
    "#creation of  a heatmap that will show us when there is more traffic, i.e. lowest average speed\n",
    "hour_day_avg_speed = X_train.groupby(['pickup_day_of_week', 'pickup_hour'])['average_speed'].mean().reset_index()\n",
    "red_to_pink_colormap = LinearSegmentedColormap.from_list(\"pink_purple\", [\"#F40B7F\", \"#FAE9F1\"])\n",
    "heatmap_data = hour_day_avg_speed.pivot(index='pickup_day_of_week', columns='pickup_hour', values='average_speed')\n",
    "day_order = ['Monday', 'Tuesday', 'Wednesday', 'Thursday', 'Friday', 'Saturday', 'Sunday']\n",
    "\n",
    "heatmap_data = heatmap_data.reindex(day_order)\n",
    "plt.figure(figsize=(12, 8))\n",
    "sns.heatmap(heatmap_data, annot=False, cmap=red_to_pink_colormap, cbar_kws={'label': 'Average Speed'})\n",
    "plt.title('Heatmap of Average Speed by Hour and Day')\n",
    "plt.xlabel('Hour of Day')\n",
    "plt.ylabel('Day of Week')\n",
    "plt.show()"
   ]
  },
  {
   "cell_type": "markdown",
   "id": "4678e3ff",
   "metadata": {},
   "source": [
    "the plot makes sense,weekends seem to be the days with least activity. But it also shows a limitation of the data, the hours only go in a range of 1 to 12 and checking the data there is no am or pm distinction, but looking at the speed it still might be useful to use days of the week with high traffic."
   ]
  },
  {
   "cell_type": "code",
   "execution_count": 27,
   "id": "1900bfaf",
   "metadata": {},
   "outputs": [
    {
     "data": {
      "text/plain": [
       "array([ 7, 10,  4,  8,  6, 12,  9,  1,  5,  2, 11,  3])"
      ]
     },
     "execution_count": 27,
     "metadata": {},
     "output_type": "execute_result"
    }
   ],
   "source": [
    "X_train['pickup_hour'].unique()"
   ]
  },
  {
   "cell_type": "code",
   "execution_count": 28,
   "id": "fa51787e",
   "metadata": {},
   "outputs": [],
   "source": [
    "#calculate average speed by hour of day to then select the median to discriminate between traffic levels\n",
    "hourly_avg_speeds = {}\n",
    "\n",
    "for hour in range(1,12):\n",
    "    taxi_trips_by_hour =X_train[X_train['pickup_hour'] == hour]\n",
    "    hourly_avg_speeds[hour] = taxi_trips_by_hour['average_speed'].mean()\n",
    "\n",
    "# Convert dictionary to DataFrame for better readability\n",
    "hourly_avg_speed_df = pd.DataFrame(list(hourly_avg_speeds.items()), columns=['hour', 'average_speed'])\n",
    "\n",
    "median_speed_hourly = hourly_avg_speed_df['average_speed'].median()\n",
    "\n",
    "# Create a dictionary mapping hour to traffic level based on average speed\n",
    "hour_to_traffic = {\n",
    "    row['hour']: 1 if row['average_speed'] > median_speed_hourly else 0\n",
    "    for _, row in hourly_avg_speed_df.iterrows()\n",
    "}\n",
    "\n",
    "# Create a new column 'traffic_hour' based on the pickup hour\n",
    "X_train['traffic_hour'] = X_train['pickup_hour'].map(hour_to_traffic)\n",
    "X_test['traffic_hour'] = X_test['pickup_hour'].map(hour_to_traffic)"
   ]
  },
  {
   "cell_type": "code",
   "execution_count": 29,
   "id": "778838e4",
   "metadata": {},
   "outputs": [],
   "source": [
    "#calculate average speed by day of the week to then select the median to discriminate between traffic levels\n",
    "day_of_week_avg_speed = X_train.groupby('pickup_day_of_week')['average_speed'].mean().reset_index()\n",
    "day_of_week_avg_speed.columns = ['pick_up_day_of_week', 'average_speed']\n",
    "median_speed_daily = day_of_week_avg_speed['average_speed'].median()\n",
    "\n",
    "# Create a dictionary mapping day of the week to traffic level\n",
    "day_to_traffic = {\n",
    "    row['pick_up_day_of_week']: 1 if row['average_speed'] > median_speed_daily else 0\n",
    "    for _, row in day_of_week_avg_speed.iterrows()\n",
    "}\n",
    "\n",
    "# Create a new column 'traffic_day' based on the day of the week\n",
    "X_train['traffic_day'] = X_train['pickup_day_of_week'].map(day_to_traffic)\n",
    "X_test['traffic_day'] = X_test['pickup_day_of_week'].map(day_to_traffic)"
   ]
  },
  {
   "cell_type": "markdown",
   "id": "b366ffd0",
   "metadata": {},
   "source": [
    "Apart from using latitude and longitude in the model, its a better idea to also use the distances between the pickup and dropoff as calculated with manhattan distances"
   ]
  },
  {
   "cell_type": "code",
   "execution_count": 30,
   "id": "b9ffbb25",
   "metadata": {},
   "outputs": [],
   "source": [
    "#functions that will help calcualte the manhattan distance for each trip\n",
    "def haversine(lat1, lng1, lat2, lng2):\n",
    "    \"\"\"haversine distance is used in the calculation for manhattan distance\n",
    "    this first calculates the distance between two points in a sphere\"\"\"\n",
    "    lat1, lng1, lat2, lng2 = map(np.radians, (lat1, lng1, lat2, lng2))\n",
    "    AVG_EARTH_RADIUS = 6371  # in km\n",
    "    lat = lat2 - lat1\n",
    "    lng = lng2 - lng1\n",
    "    d = np.sin(lat * 0.5) ** 2 + np.cos(lat1) * np.cos(lat2) * np.sin(lng * 0.5) ** 2\n",
    "    h = 2 * AVG_EARTH_RADIUS * np.arcsin(np.sqrt(d))\n",
    "    return(h)\n",
    "\n",
    "def manhattan_distance(lat1, lng1, lat2, lng2):\n",
    "    \"\"\"manhatten distance: \n",
    "    uses the calculations of the harvestine distance to calculate a gridlike pattern of movement\"\"\"\n",
    "    a = haversine(lat1, lng1, lat1, lng2)\n",
    "    b = haversine(lat1, lng1, lat2, lng1)\n",
    "    return a + b"
   ]
  },
  {
   "cell_type": "code",
   "execution_count": 31,
   "id": "a89437df",
   "metadata": {},
   "outputs": [],
   "source": [
    "#create a column with the manhattan distance in the dataframe\n",
    "X_train.loc[:,'manhattan_distance'] = manhattan_distance(X_train['pickup_latitude'].values, \n",
    "                                                           X_train['pickup_longitude'].values, \n",
    "                                                           X_train['dropoff_latitude'].values, \n",
    "                                                           X_train['dropoff_longitude'].values)\n",
    "X_test.loc[:,'manhattan_distance'] = manhattan_distance(X_test['pickup_latitude'].values, \n",
    "                                                           X_test['pickup_longitude'].values, \n",
    "                                                           X_test['dropoff_latitude'].values, \n",
    "                                                           X_test['dropoff_longitude'].values)"
   ]
  },
  {
   "cell_type": "markdown",
   "id": "202821dc",
   "metadata": {},
   "source": [
    "Lets create a grid of the city to create different zones for pickups and frop offs"
   ]
  },
  {
   "cell_type": "code",
   "execution_count": 32,
   "id": "d71dc6dc",
   "metadata": {},
   "outputs": [],
   "source": [
    "def create_grid_zone_mapper(X_train, n_lat_bins=10, n_lon_bins=10):\n",
    "    \"\"\"\n",
    "    Create grid zone mapper based on training data boundaries\n",
    "    \"\"\"\n",
    "    # Define bin edges based on training data\n",
    "    lat_min, lat_max = X_train['pickup_latitude'].min(), X_train['pickup_latitude'].max()\n",
    "    lon_min, lon_max = X_train['pickup_longitude'].min(), X_train['pickup_longitude'].max()\n",
    "    \n",
    "    lat_edges = np.linspace(lat_min, lat_max, n_lat_bins + 1)\n",
    "    lon_edges = np.linspace(lon_min, lon_max, n_lon_bins + 1)\n",
    "    \n",
    "    def assign_zones(df):\n",
    "        \"\"\"Apply grid zones to any dataframe\"\"\"\n",
    "        # Use pd.cut with the predefined edges\n",
    "        lat_bins = pd.cut(df['pickup_latitude'], bins=lat_edges, labels=False, include_lowest=True)\n",
    "        lon_bins = pd.cut(df['pickup_longitude'], bins=lon_edges, labels=False, include_lowest=True)\n",
    "        pickup_zones = lat_bins * n_lon_bins + lon_bins\n",
    "        \n",
    "        lat_bins_drop = pd.cut(df['dropoff_latitude'], bins=lat_edges, labels=False, include_lowest=True)\n",
    "        lon_bins_drop = pd.cut(df['dropoff_longitude'], bins=lon_edges, labels=False, include_lowest=True)\n",
    "        dropoff_zones = lat_bins_drop * n_lon_bins + lon_bins_drop\n",
    "        \n",
    "        return pickup_zones, dropoff_zones\n",
    "    \n",
    "    return assign_zones, (lat_edges, lon_edges)"
   ]
  },
  {
   "cell_type": "code",
   "execution_count": 33,
   "id": "b20a4437",
   "metadata": {},
   "outputs": [],
   "source": [
    "#Create the mapper from training data\n",
    "zone_mapper, zone_info = create_grid_zone_mapper(X_train, n_lat_bins=12, n_lon_bins=12)\n",
    "#Apply to training data\n",
    "X_train['pickup_zone'], X_train['dropoff_zone'] = zone_mapper(X_train)\n",
    "\n",
    "#Apply same zones to test data\n",
    "X_test['pickup_zone'], X_test['dropoff_zone'] = zone_mapper(X_test)\n",
    "\n",
    "# Handle any out-of-bounds points in test data (fill with a special \"unknown\" zone)\n",
    "X_test['pickup_zone'] = X_test['pickup_zone'].fillna(-1)  # -1 for \"outside training area\"\n",
    "X_test['dropoff_zone'] = X_test['dropoff_zone'].fillna(-1)"
   ]
  },
  {
   "cell_type": "code",
   "execution_count": 34,
   "id": "93256dc3",
   "metadata": {},
   "outputs": [],
   "source": [
    "#One hot encoding categorical variables and scaling numerical variables that will be used in the models.\n",
    "categorical_features = ['pickup_day_of_week', 'pickup_month','traffic_day','pickup_zone','dropoff_zone']\n",
    "numerical_features = ['dist_meters', 'wait_sec','manhattan_distance','pickup_longitude','pickup_latitude','dropoff_longitude','dropoff_latitude']\n",
    "preprocessor = ColumnTransformer(\n",
    "    transformers=[\n",
    "        ('num', StandardScaler(), numerical_features),\n",
    "        ('cat', OneHotEncoder(handle_unknown='ignore'), categorical_features)\n",
    "    ],\n",
    "    remainder='passthrough' # Keep any other columns if they exist\n",
    ")"
   ]
  },
  {
   "cell_type": "code",
   "execution_count": 35,
   "id": "fb2d3817",
   "metadata": {},
   "outputs": [],
   "source": [
    "#defines the columns that will be used to create X \n",
    "features = [\n",
    "    'dist_meters',\n",
    "    'wait_sec',\n",
    "    'pickup_day_of_week',\n",
    "    'pickup_month',\n",
    "    'pickup_longitude',\n",
    "    'pickup_latitude',\n",
    "    'dropoff_longitude',\n",
    "    'dropoff_latitude',\n",
    "    'traffic_day',\n",
    "    'manhattan_distance',\n",
    "    'pickup_zone',\n",
    "    'dropoff_zone'\n",
    "]\n",
    "X_train = X_train[features]\n",
    "X_test = X_test[features]"
   ]
  },
  {
   "cell_type": "code",
   "execution_count": 36,
   "id": "7f418de0",
   "metadata": {},
   "outputs": [],
   "source": [
    "results = {} # Dictionary to store evaluation metrics for each model\n",
    "\n",
    "# Helper function to evaluate and store metrics\n",
    "def evaluate_model(model_name, y_true, y_pred):\n",
    "    r2 = r2_score(y_true, y_pred)\n",
    "    mae = mean_absolute_error(y_true, y_pred)\n",
    "    mse = mean_squared_error(y_true, y_pred)\n",
    "    rmse = np.sqrt(mse)\n",
    "    results[model_name] = {'R-squared': r2, 'MAE': mae, 'MSE': mse, 'RMSE': rmse}\n",
    "    print(f\"\\n--- {model_name} Results ---\")\n",
    "    print(f\"R-squared: {r2:.4f}\")\n",
    "    print(f\"MAE: {mae:.4f}\")\n",
    "    print(f\"MSE: {mse:.4f}\")\n",
    "    print(f\"RMSE: {rmse:.4f}\")"
   ]
  },
  {
   "cell_type": "markdown",
   "id": "df48c9e0",
   "metadata": {},
   "source": [
    "RIDGE"
   ]
  },
  {
   "cell_type": "code",
   "execution_count": 37,
   "id": "774d8a7a",
   "metadata": {},
   "outputs": [
    {
     "name": "stdout",
     "output_type": "stream",
     "text": [
      "\n",
      "--- Ridge Regression Results ---\n",
      "R-squared: 0.6681\n",
      "MAE: 343.4940\n",
      "MSE: 416362.6755\n",
      "RMSE: 645.2617\n"
     ]
    }
   ],
   "source": [
    "#Defining Ridge regression\n",
    "ridge_pipeline = Pipeline(steps=[\n",
    "    ('preprocessor', preprocessor),\n",
    "    ('regressor', Ridge(alpha=0.1, random_state=42,max_iter=2000)) \n",
    "])\n",
    "ridge_pipeline.fit(X_train, y_train)\n",
    "y_pred_ridge = ridge_pipeline.predict(X_test)\n",
    "evaluate_model('Ridge Regression', y_test, y_pred_ridge)"
   ]
  },
  {
   "cell_type": "code",
   "execution_count": 38,
   "id": "3b880235",
   "metadata": {},
   "outputs": [
    {
     "name": "stdout",
     "output_type": "stream",
     "text": [
      "\n",
      "--- Lasso Regression Results ---\n",
      "R-squared: 0.6676\n",
      "MAE: 343.5470\n",
      "MSE: 417023.0134\n",
      "RMSE: 645.7732\n"
     ]
    }
   ],
   "source": [
    "#Defining lassso regression\n",
    "lasso_pipeline = Pipeline(steps=[\n",
    "    ('preprocessor', preprocessor),\n",
    "    ('regressor', Lasso(alpha=0.1, random_state=42, max_iter=2000)) \n",
    "])\n",
    "lasso_pipeline.fit(X_train, y_train)\n",
    "y_pred_lasso = lasso_pipeline.predict(X_test)\n",
    "evaluate_model('Lasso Regression', y_test, y_pred_lasso)"
   ]
  },
  {
   "cell_type": "code",
   "execution_count": 39,
   "id": "d1fc8af7",
   "metadata": {},
   "outputs": [
    {
     "name": "stdout",
     "output_type": "stream",
     "text": [
      "\n",
      "--- Random Forest Results ---\n",
      "R-squared: 0.6948\n",
      "MAE: 320.0677\n",
      "MSE: 382844.4955\n",
      "RMSE: 618.7443\n"
     ]
    }
   ],
   "source": [
    "#Defining a Random Forest\n",
    "rf_pipeline = Pipeline(steps=[\n",
    "    ('preprocessor', preprocessor),\n",
    "    ('regressor', RandomForestRegressor(n_estimators=100, random_state=42, n_jobs=-1))\n",
    "])\n",
    "rf_pipeline.fit(X_train, y_train)\n",
    "y_pred_rf = rf_pipeline.predict(X_test)\n",
    "evaluate_model('Random Forest', y_test, y_pred_rf)"
   ]
  },
  {
   "cell_type": "code",
   "execution_count": 40,
   "id": "61dbbda3",
   "metadata": {},
   "outputs": [
    {
     "name": "stdout",
     "output_type": "stream",
     "text": [
      "\n",
      "--- XGBoost Results ---\n",
      "R-squared: 0.6843\n",
      "MAE: 327.3342\n",
      "MSE: 396037.8125\n",
      "RMSE: 629.3154\n"
     ]
    }
   ],
   "source": [
    "#Defining an XGBRegressor \n",
    "xgb_pipeline = Pipeline(steps=[\n",
    "    ('preprocessor', preprocessor),\n",
    "    ('regressor', xgb.XGBRegressor(objective='reg:squarederror', n_estimators=100, random_state=42, n_jobs=-1))\n",
    "])\n",
    "xgb_pipeline.fit(X_train, y_train)\n",
    "y_pred_xgb = xgb_pipeline.predict(X_test)\n",
    "evaluate_model('XGBoost', y_test, y_pred_xgb)"
   ]
  },
  {
   "cell_type": "code",
   "execution_count": 41,
   "id": "7f30c1d7",
   "metadata": {},
   "outputs": [
    {
     "name": "stderr",
     "output_type": "stream",
     "text": [
      "c:\\Users\\aarriaga\\Documents\\Codigos\\data games\\tensorflow\\.venv\\Lib\\site-packages\\keras\\src\\layers\\core\\dense.py:87: UserWarning:\n",
      "\n",
      "Do not pass an `input_shape`/`input_dim` argument to a layer. When using Sequential models, prefer using an `Input(shape)` object as the first layer in the model instead.\n",
      "\n"
     ]
    }
   ],
   "source": [
    "X_train_nn = preprocessor.fit_transform(X_train)\n",
    "X_test_nn = preprocessor.transform(X_test)\n",
    "\n",
    "#Defining a neural network with 3 hidden layers and one output iwth dropout to prevent overfitting\n",
    "input_shape = X_train_nn.shape[1]\n",
    "\n",
    "nn_model = keras.Sequential([\n",
    "    keras.layers.Dense(128, activation='relu', input_shape=(input_shape,)),\n",
    "    keras.layers.Dropout(0.2), \n",
    "    keras.layers.Dense(64, activation='relu'),\n",
    "    keras.layers.Dropout(0.2),\n",
    "    keras.layers.Dense(32, activation='relu'),\n",
    "    keras.layers.Dense(1) \n",
    "])\n",
    "\n",
    "# Compile the model\n",
    "nn_model.compile(optimizer='adam', loss='mse', metrics=['mae'])"
   ]
  },
  {
   "cell_type": "code",
   "execution_count": 42,
   "id": "7b4593ed",
   "metadata": {},
   "outputs": [],
   "source": [
    "#Fitiing the nn \n",
    "random.seed(42)\n",
    "history = nn_model.fit(X_train_nn, y_train,\n",
    "                       epochs=100,\n",
    "                       batch_size=64,\n",
    "                       validation_split=0.1,\n",
    "                       verbose=0) \n",
    "\n"
   ]
  },
  {
   "cell_type": "code",
   "execution_count": 43,
   "id": "c7815384",
   "metadata": {},
   "outputs": [
    {
     "name": "stdout",
     "output_type": "stream",
     "text": [
      "\u001b[1m60/60\u001b[0m \u001b[32m━━━━━━━━━━━━━━━━━━━━\u001b[0m\u001b[37m\u001b[0m \u001b[1m1s\u001b[0m 6ms/step\n",
      "\n",
      "--- Neural Network Results ---\n",
      "R-squared: 0.6801\n",
      "MAE: 341.5839\n",
      "MSE: 401298.9062\n",
      "RMSE: 633.4816\n"
     ]
    }
   ],
   "source": [
    "# Predict on the test set\n",
    "y_pred_nn = nn_model.predict(X_test_nn).flatten() # flatten since predict returns a 2D array\n",
    "evaluate_model('Neural Network', y_test, y_pred_nn)"
   ]
  },
  {
   "cell_type": "code",
   "execution_count": 44,
   "id": "a2044e0a",
   "metadata": {},
   "outputs": [
    {
     "name": "stdout",
     "output_type": "stream",
     "text": [
      "\n",
      "--- Summary of All Model Results ---\n",
      "                  R-squared      MAE         MSE     RMSE\n",
      "Ridge Regression      0.668  343.494  416362.676  645.262\n",
      "Lasso Regression      0.668  343.547  417023.013  645.773\n",
      "Random Forest         0.695  320.068  382844.496  618.744\n",
      "XGBoost               0.684  327.334  396037.812  629.315\n",
      "Neural Network        0.680  341.584  401298.906  633.482\n"
     ]
    }
   ],
   "source": [
    "#printing the results to find the best model\n",
    "print(\"\\n--- Summary of All Model Results ---\")\n",
    "results_df = pd.DataFrame(results).T\n",
    "print(results_df.round(3))"
   ]
  },
  {
   "cell_type": "markdown",
   "id": "0340005b",
   "metadata": {},
   "source": [
    "Lets see how much will it take me to go to work"
   ]
  },
  {
   "cell_type": "markdown",
   "id": "e25711a8",
   "metadata": {},
   "source": [
    "Prediction without high traffic"
   ]
  },
  {
   "cell_type": "code",
   "execution_count": 45,
   "id": "dae99f19",
   "metadata": {},
   "outputs": [],
   "source": [
    "new_entry_data = pd.DataFrame([{\n",
    "    'vendor_id': 'México DF Taxi Libre',\n",
    "    'dist_meters': 13200,\n",
    "    'wait_sec': 120,\n",
    "    'pickup_latitude': 19.348708, \n",
    "    'pickup_longitude': -99.184903,\n",
    "    'dropoff_latitude': 19.426572, \n",
    "    'dropoff_longitude': -99.196754, \n",
    "    'pickup_day_of_week': str(3), # Wednesday\n",
    "    'pickup_month': str(6), # June\n",
    "    'traffic_day':1\n",
    "}])\n",
    "new_entry_data['manhattan_distance'] = manhattan_distance(new_entry_data['pickup_latitude'], \n",
    "                                                           new_entry_data['pickup_longitude'], \n",
    "                                                           new_entry_data['dropoff_latitude'], \n",
    "                                                           new_entry_data['dropoff_longitude'])\n",
    "new_entry_data['pickup_zone'],new_entry_data['dropoff_zone']=zone_mapper(new_entry_data)"
   ]
  },
  {
   "cell_type": "code",
   "execution_count": 46,
   "id": "1774b384",
   "metadata": {},
   "outputs": [
    {
     "name": "stdout",
     "output_type": "stream",
     "text": [
      "Ridge Regression Prediction: 1760.9704\n",
      "Lasso Regression Prediction: 1821.2230\n"
     ]
    },
    {
     "name": "stdout",
     "output_type": "stream",
     "text": [
      "Random Forest Prediction: 1491.2200\n",
      "XGBoost Prediction: 1490.9375\n",
      "\u001b[1m1/1\u001b[0m \u001b[32m━━━━━━━━━━━━━━━━━━━━\u001b[0m\u001b[37m\u001b[0m \u001b[1m0s\u001b[0m 149ms/step\n",
      "Neural Network Prediction: 1268.1257\n"
     ]
    }
   ],
   "source": [
    "ridge_new_pred = ridge_pipeline.predict(new_entry_data)[0]\n",
    "print(f\"Ridge Regression Prediction: {ridge_new_pred:.4f}\")\n",
    "\n",
    "# Lasso Regression Prediction\n",
    "lasso_new_pred = lasso_pipeline.predict(new_entry_data)[0]\n",
    "print(f\"Lasso Regression Prediction: {lasso_new_pred:.4f}\")\n",
    "\n",
    "# Random Forest Prediction\n",
    "rf_new_pred = rf_pipeline.predict(new_entry_data)[0]\n",
    "print(f\"Random Forest Prediction: {rf_new_pred:.4f}\")\n",
    "\n",
    "# XGBoost Prediction\n",
    "xgb_new_pred = xgb_pipeline.predict(new_entry_data)[0]\n",
    "print(f\"XGBoost Prediction: {xgb_new_pred:.4f}\")\n",
    "\n",
    "# Neural Network Prediction\n",
    "new_entry_nn = preprocessor.transform(new_entry_data)\n",
    "nn_new_pred = nn_model.predict(new_entry_nn).flatten()[0]\n",
    "print(f\"Neural Network Prediction: {nn_new_pred:.4f}\")"
   ]
  },
  {
   "cell_type": "markdown",
   "id": "189a51f6",
   "metadata": {},
   "source": [
    "Prediction with high traffic"
   ]
  },
  {
   "cell_type": "code",
   "execution_count": 47,
   "id": "6a150ab3",
   "metadata": {},
   "outputs": [],
   "source": [
    "new_entry_data['traffic_day']=0"
   ]
  },
  {
   "cell_type": "code",
   "execution_count": 48,
   "id": "d07ac135",
   "metadata": {},
   "outputs": [
    {
     "name": "stdout",
     "output_type": "stream",
     "text": [
      "Ridge Regression Prediction: 1832.0772\n",
      "Lasso Regression Prediction: 1831.1748\n",
      "Random Forest Prediction: 1452.1100\n",
      "XGBoost Prediction: 1586.8420\n",
      "\u001b[1m1/1\u001b[0m \u001b[32m━━━━━━━━━━━━━━━━━━━━\u001b[0m\u001b[37m\u001b[0m \u001b[1m0s\u001b[0m 224ms/step\n",
      "Neural Network Prediction: 1482.5671\n"
     ]
    }
   ],
   "source": [
    "ridge_new_pred = ridge_pipeline.predict(new_entry_data)[0]\n",
    "print(f\"Ridge Regression Prediction: {ridge_new_pred:.4f}\")\n",
    "\n",
    "# Lasso Regression Prediction\n",
    "lasso_new_pred = lasso_pipeline.predict(new_entry_data)[0]\n",
    "print(f\"Lasso Regression Prediction: {lasso_new_pred:.4f}\")\n",
    "\n",
    "# Random Forest Prediction\n",
    "rf_new_pred = rf_pipeline.predict(new_entry_data)[0]\n",
    "print(f\"Random Forest Prediction: {rf_new_pred:.4f}\")\n",
    "\n",
    "# XGBoost Prediction\n",
    "xgb_new_pred = xgb_pipeline.predict(new_entry_data)[0]\n",
    "print(f\"XGBoost Prediction: {xgb_new_pred:.4f}\")\n",
    "\n",
    "# Neural Network Prediction\n",
    "new_entry_nn = preprocessor.transform(new_entry_data)\n",
    "nn_new_pred = nn_model.predict(new_entry_nn).flatten()[0]\n",
    "print(f\"Neural Network Prediction: {nn_new_pred:.4f}\")"
   ]
  },
  {
   "cell_type": "markdown",
   "id": "dc1e1770",
   "metadata": {},
   "source": [
    "Random Forest does not seem to follow the logic that with traffic trips sould be lower. Therefore the next best model, XGBoost will be the one considered"
   ]
  },
  {
   "cell_type": "markdown",
   "id": "c8c4647e",
   "metadata": {},
   "source": [
    "Now lets create a quick function that decides wether or not you should move near you new job depending on the cost of traveling"
   ]
  },
  {
   "cell_type": "code",
   "execution_count": 49,
   "id": "265a7614",
   "metadata": {},
   "outputs": [],
   "source": [
    "price_per_250m_or_45s = 1.30 #price obtained from https://ahorraseguros.mx/seguros-de-autos/transito/tarifa-de-taxi/\n",
    "def should_you_move(prediction_time,dist,current_rent,average_rent_near_work):\n",
    "    cost_one_trip = price_per_250m_or_45s*(prediction_time/45+dist/250)\n",
    "    cost_month = np.round(2*5*4*cost_one_trip,2) #taking into account a round trip for the 5 work days of the week for 4 weeks in a month\n",
    "    if current_rent + cost_month>=average_rent_near_work:\n",
    "        print(f'You should move near your work.\\nBetween rent and transport you are spending ${current_rent + cost_month} while rent near your job is ${average_rent_near_work}'+\n",
    "              f'\\nYou will be saving ${np.round(current_rent + cost_month-average_rent_near_work,2)} and {np.round(prediction_time*2*30/3600,2)} hours every month')\n",
    "    else:\n",
    "        print(f'The cost of rent near work is too high')"
   ]
  },
  {
   "cell_type": "code",
   "execution_count": 50,
   "id": "81baccd7",
   "metadata": {},
   "outputs": [
    {
     "name": "stdout",
     "output_type": "stream",
     "text": [
      "You should move near your work.\n",
      "Between rent and transport you are spending $20579.28 while rent near your job is $20000\n",
      "You will be saving $579.28 and 26.45 hours every month\n"
     ]
    }
   ],
   "source": [
    "should_you_move(xgb_new_pred,13200,16000,20000)"
   ]
  },
  {
   "cell_type": "markdown",
   "id": "89b4ea5e",
   "metadata": {},
   "source": [
    "Using my own data if I end up getting hired, it appears to be that moving closer will be better for me!"
   ]
  }
 ],
 "metadata": {
  "kernelspec": {
   "display_name": ".venv",
   "language": "python",
   "name": "python3"
  },
  "language_info": {
   "codemirror_mode": {
    "name": "ipython",
    "version": 3
   },
   "file_extension": ".py",
   "mimetype": "text/x-python",
   "name": "python",
   "nbconvert_exporter": "python",
   "pygments_lexer": "ipython3",
   "version": "3.11.9"
  }
 },
 "nbformat": 4,
 "nbformat_minor": 5
}
